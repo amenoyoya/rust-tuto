{
 "cells": [
  {
   "cell_type": "markdown",
   "id": "a2d69f46-69ab-4612-a1e2-5ffec9641969",
   "metadata": {},
   "source": [
    "# 逆ポーランド記法計算機\n",
    "\n",
    "## アプリケーション仕様\n",
    "\n",
    "逆ポーランド記法の数式を計算するアプリケーションを作成する\n",
    "\n",
    "アプリケーション仕様は以下の通り\n",
    "\n",
    "- 扱える演算子は `+` `-` `*` `/` `%` のみ\n",
    "- 扱える数値は32ビット整数（`i32`）のみ\n",
    "\n",
    "## 計算ロジックの実装\n",
    "\n",
    "### 逆ポーランド記法の計算実行関数\n",
    "- 入力:\n",
    "    - 逆ポーランド記法で書かれた数式 (`&str`)\n",
    "        - e.g. `1 2 + 3 4 + *`\n",
    "- 出力:\n",
    "    - 逆ポーランド記法で書かれた数式を計算した結果 (`i32`)\n",
    "        - e.g. `21`\n",
    "\n",
    "#### 逆ポーランド記法の処理\n",
    "![01_RPN.drawio.png](./img/01_RPN.drawio.png)"
   ]
  },
  {
   "cell_type": "code",
   "execution_count": 2,
   "id": "dd4993ec-e841-4573-b0f0-967375cc180b",
   "metadata": {},
   "outputs": [
    {
     "data": {
      "text/plain": [
       "SplitWhitespace { inner: Filter { iter: Split(SplitInternal { start: 0, end: 9, matcher: CharPredicateSearcher { haystack: \"1 2 + 4 +\", char_indices: CharIndices { front_offset: 0, iter: Chars(['1', ' ', '2', ' ', '+', ' ', '4', ' ', '+']) } }, allow_trailing_empty: true, finished: false }) } }"
      ]
     },
     "execution_count": 2,
     "metadata": {},
     "output_type": "execute_result"
    }
   ],
   "source": [
    "// 文字列を空白区切りで分割\n",
    "\"1 2 + 4 +\".split_whitespace()"
   ]
  },
  {
   "cell_type": "code",
   "execution_count": 4,
   "id": "035a6865-0baa-4813-8d41-9b6cd69746e4",
   "metadata": {},
   "outputs": [
    {
     "data": {
      "text/plain": [
       "[\"1\", \"2\", \"+\", \"4\", \"+\"]"
      ]
     },
     "execution_count": 4,
     "metadata": {},
     "output_type": "execute_result"
    }
   ],
   "source": [
    "// 文字列を空白区切りで分割して Vec<&str> に変換\n",
    "\"1 2 + 4 +\".split_whitespace().collect::<Vec<_>>()"
   ]
  },
  {
   "cell_type": "code",
   "execution_count": 22,
   "id": "c82ac665-ce46-4fa1-9dab-688ef4c574f2",
   "metadata": {},
   "outputs": [
    {
     "name": "stdout",
     "output_type": "stream",
     "text": [
      "tokens: [\"2\", \"+\", \"4\", \"+\"], stack: [1]\n",
      "tokens: [\"+\", \"4\", \"+\"], stack: [1, 2]\n",
      "tokens: [\"4\", \"+\"], stack: [3]\n",
      "tokens: [\"+\"], stack: [3, 4]\n",
      "tokens: [], stack: [7]\n"
     ]
    }
   ],
   "source": [
    "use std::collections::VecDeque; // 両端キューを使えるようにする\n",
    "\n",
    "// トークン列を逆ポーランド構文木として処理\n",
    "// VecDeque (両端キュー) は Vec と違い、頭からも尾からも取り出し・追加可能\n",
    "fn eval(tokens: &mut VecDeque<&str>) {\n",
    "    // スタック\n",
    "    let mut stack = VecDeque::new();\n",
    "    \n",
    "    // トークン列の先頭から順にトークンを取り出していく\n",
    "    while let Some(token) = tokens.pop_front() {\n",
    "        if let Ok(x) = token.parse::<i32>() {\n",
    "            // 対象トークンが数値である場合はスタックに乗せる\n",
    "            stack.push_back(x);\n",
    "        } else {\n",
    "            // 対象トークンが数値以外の場合はスタックから数値を2つ取り出す\n",
    "            let y = stack.pop_back().expect(\"invlaid syntax\"); // 取り出せなかった場合は \"invalid syntax\" error\n",
    "            let x = stack.pop_back().expect(\"invlaid syntax\"); // 取り出せなかった場合は \"invalid syntax\" error\n",
    "            \n",
    "            // 対象トークンが演算子かどうか判定して計算実行\n",
    "            let result = match token {\n",
    "                \"+\" => x + y,\n",
    "                \"-\" => x - y,\n",
    "                \"*\" => x * y,\n",
    "                \"/\" => x / y,\n",
    "                \"%\" => x % y,\n",
    "                _ => panic!(\"invalid token\"), // 不明な文字列が含まれている場合は \"invalid token\" error\n",
    "            };\n",
    "            \n",
    "            // 計算結果をスタックに乗せる\n",
    "            stack.push_back(result);\n",
    "        }\n",
    "        // この時点のトークン列とスタックの状態を表示\n",
    "        println!(\"tokens: {:?}, stack: {:?}\", tokens, stack);\n",
    "    }\n",
    "}\n",
    "\n",
    "let mut tokens = \"1 2 + 4 +\".split_whitespace().collect::<VecDeque<_>>();\n",
    "eval(&mut tokens);"
   ]
  },
  {
   "cell_type": "markdown",
   "id": "c3f8aa41-41e5-4e51-9a0d-999c0fbfd73a",
   "metadata": {},
   "source": [
    "概ね動作確認が出来たら、構造体にまとめて一つのプログラムとして完成させる"
   ]
  },
  {
   "cell_type": "code",
   "execution_count": 26,
   "id": "95e42e9c-8173-4743-902a-8a5d4ad49882",
   "metadata": {},
   "outputs": [
    {
     "name": "stdin",
     "output_type": "stream",
     "text": [
      "(formula | quit)>  1 2 + 3 * 1 - 2 /\n"
     ]
    },
    {
     "name": "stdout",
     "output_type": "stream",
     "text": [
      "tokens: [\"2\", \"+\", \"3\", \"*\", \"1\", \"-\", \"2\", \"/\"], stack: [1]\n",
      "tokens: [\"+\", \"3\", \"*\", \"1\", \"-\", \"2\", \"/\"], stack: [1, 2]\n",
      "tokens: [\"3\", \"*\", \"1\", \"-\", \"2\", \"/\"], stack: [3]\n",
      "tokens: [\"*\", \"1\", \"-\", \"2\", \"/\"], stack: [3, 3]\n",
      "tokens: [\"1\", \"-\", \"2\", \"/\"], stack: [9]\n",
      "tokens: [\"-\", \"2\", \"/\"], stack: [9, 1]\n",
      "tokens: [\"2\", \"/\"], stack: [8]\n",
      "tokens: [\"/\"], stack: [8, 2]\n",
      "tokens: [], stack: [4]\n",
      "4\n"
     ]
    },
    {
     "name": "stdin",
     "output_type": "stream",
     "text": [
      "(formula | quit)>  quit\n"
     ]
    },
    {
     "name": "stdout",
     "output_type": "stream",
     "text": [
      "see you...\n"
     ]
    }
   ],
   "source": [
    ":dep evcxr_input\n",
    "\n",
    "// => $ cargo add evcxr_input\n",
    "//    evcxr_input: EvCxR Jupyter Kernel 上で標準入力を使えるようにするクレート\n",
    "\n",
    "use std::collections::VecDeque;\n",
    "\n",
    "/// RpnCalculator structure\n",
    "/// .0: bool => verbose\n",
    "struct RpnCalculator(bool);\n",
    "\n",
    "impl RpnCalculator {\n",
    "    /// constructor\n",
    "    pub fn new(verbose: bool) -> Self {\n",
    "        Self(verbose)\n",
    "    }\n",
    "    \n",
    "    /// evaluate RPN formula\n",
    "    pub fn eval(&self, formula: &str) -> i32 {\n",
    "        let mut tokens = formula.split_whitespace().collect::<VecDeque<_>>();\n",
    "        self.eval_main(&mut tokens)\n",
    "    }\n",
    "    \n",
    "    /// @private evaluate RPN tokens\n",
    "    fn eval_main(&self, tokens: &mut VecDeque<&str>) -> i32 {\n",
    "        // スタック\n",
    "        let mut stack = VecDeque::new();\n",
    "\n",
    "        // トークン列の先頭から順にトークンを取り出していく\n",
    "        while let Some(token) = tokens.pop_front() {\n",
    "            if let Ok(x) = token.parse::<i32>() {\n",
    "                // 対象トークンが数値である場合はスタックに乗せる\n",
    "                stack.push_back(x);\n",
    "            } else {\n",
    "                // 対象トークンが数値以外の場合はスタックから数値を2つ取り出す\n",
    "                let y = stack.pop_back().expect(\"invlaid syntax\"); // 取り出せなかった場合は \"invalid syntax\" error\n",
    "                let x = stack.pop_back().expect(\"invlaid syntax\"); // 取り出せなかった場合は \"invalid syntax\" error\n",
    "\n",
    "                // 対象トークンが演算子かどうか判定して計算実行\n",
    "                let result = match token {\n",
    "                    \"+\" => x + y,\n",
    "                    \"-\" => x - y,\n",
    "                    \"*\" => x * y,\n",
    "                    \"/\" => x / y,\n",
    "                    \"%\" => x % y,\n",
    "                    _ => panic!(\"invalid token\"), // 不明な文字列が含まれている場合は \"invalid token\" error\n",
    "                };\n",
    "\n",
    "                // 計算結果をスタックに乗せる\n",
    "                stack.push_back(result);\n",
    "            }\n",
    "            // verbose モードであれば、この時点のトークン列とスタックの状態を表示\n",
    "            if self.0 {\n",
    "                println!(\"tokens: {:?}, stack: {:?}\", tokens, stack);\n",
    "            }\n",
    "        }\n",
    "        stack.pop_back().expect(\"invlaid syntax\") // スタックに残っている数値 = 計算結果\n",
    "    }\n",
    "    \n",
    "    /// execute REPL\n",
    "    /// get formula from exvcr_input\n",
    "    pub fn repl(&self) {\n",
    "        loop {\n",
    "            let formula = evcxr_input::get_string(\"(formula | quit)> \");\n",
    "            \n",
    "            if formula == \"quit\" {\n",
    "                println!(\"see you...\");\n",
    "                break;\n",
    "            }\n",
    "            println!(\"{}\", self.eval(&formula));\n",
    "        }\n",
    "    }\n",
    "}\n",
    "\n",
    "fn main() {\n",
    "    let rpn = RpnCalculator::new(true); // verbose mode\n",
    "    rpn.repl();\n",
    "}\n",
    "main();"
   ]
  },
  {
   "cell_type": "code",
   "execution_count": null,
   "id": "fc0616f3-a56e-44bc-8ca3-426bf88c7b0c",
   "metadata": {},
   "outputs": [],
   "source": []
  }
 ],
 "metadata": {
  "kernelspec": {
   "display_name": "Rust",
   "language": "rust",
   "name": "rust"
  },
  "language_info": {
   "codemirror_mode": "rust",
   "file_extension": ".rs",
   "mimetype": "text/rust",
   "name": "Rust",
   "pygment_lexer": "rust",
   "version": ""
  }
 },
 "nbformat": 4,
 "nbformat_minor": 5
}
