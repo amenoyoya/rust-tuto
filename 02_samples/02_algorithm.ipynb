{
 "cells": [
  {
   "cell_type": "markdown",
   "id": "311e1e04-ee6b-4f40-ae5f-eef424a18149",
   "metadata": {},
   "source": [
    "# Rustで学ぶ伝統的なアルゴリズム\n",
    "\n",
    "## フィボナッチ数列\n",
    "\n",
    "- **フィボナッチ数列**:\n",
    "    - 直前2つの整数の合計値を出力する数列\n",
    "    - 出力値: 1, 1, 2, 3, 5, 8, 13, 21, ..."
   ]
  },
  {
   "cell_type": "code",
   "execution_count": 2,
   "id": "7ee9f858-b8a5-4cd0-9c85-aa6da453b2cf",
   "metadata": {},
   "outputs": [
    {
     "name": "stdout",
     "output_type": "stream",
     "text": [
      "1\n",
      "1\n",
      "2\n",
      "3\n",
      "5\n",
      "8\n",
      "13\n",
      "21\n"
     ]
    },
    {
     "data": {
      "text/plain": [
       "()"
      ]
     },
     "execution_count": 2,
     "metadata": {},
     "output_type": "execute_result"
    }
   ],
   "source": [
    "/// フィボナッチ数列の n 番目 (0から始まる) の数値を返す関数\n",
    "fn fibonacci(n: u32) -> u32 {\n",
    "    if n < 2 {\n",
    "        1\n",
    "    } else {\n",
    "        fibonacci(n - 1) + fibonacci(n - 2)\n",
    "    }\n",
    "}\n",
    "\n",
    "// 0 - 7 番目までのフィボナッチ数列を表示\n",
    "for i in 0..8 {\n",
    "    println!(\"{}\", fibonacci(i));\n",
    "}"
   ]
  },
  {
   "cell_type": "markdown",
   "id": "37078550-93d2-4387-bd8c-50b3d5898e88",
   "metadata": {},
   "source": [
    "## FizzBuzz\n",
    "\n",
    "FizzBuzz問題\n",
    "\n",
    "```\n",
    "1から100までの整数を順に出力するプログラムを作成せよ\n",
    "ただし、3の倍数のときは数値の代わりに「Fizz」を出力せよ\n",
    "5の倍数の倍数のときは数値の代わりに「Buzz」を出力せよ\n",
    "3と5の両方の倍数の場合は「Fizz」「Buzz」の代わりに「FizzBuzz」を出力せよ\n",
    "```"
   ]
  },
  {
   "cell_type": "code",
   "execution_count": 5,
   "id": "61d438b4-e097-4ede-8f80-d28bc7f07205",
   "metadata": {},
   "outputs": [
    {
     "name": "stdout",
     "output_type": "stream",
     "text": [
      "1\n",
      "2\n",
      "Fizz\n",
      "4\n",
      "Buzz\n",
      "Fizz\n",
      "7\n",
      "8\n",
      "Fizz\n",
      "Buzz\n",
      "11\n",
      "Fizz\n",
      "13\n",
      "14\n",
      "FizzBuzz\n",
      "16\n",
      "17\n",
      "Fizz\n",
      "19\n",
      "Buzz\n",
      "Fizz\n",
      "22\n",
      "23\n",
      "Fizz\n",
      "Buzz\n",
      "26\n",
      "Fizz\n",
      "28\n",
      "29\n",
      "FizzBuzz\n",
      "31\n",
      "32\n",
      "Fizz\n",
      "34\n",
      "Buzz\n",
      "Fizz\n",
      "37\n",
      "38\n",
      "Fizz\n",
      "Buzz\n",
      "41\n",
      "Fizz\n",
      "43\n",
      "44\n",
      "FizzBuzz\n",
      "46\n",
      "47\n",
      "Fizz\n",
      "49\n",
      "Buzz\n",
      "Fizz\n",
      "52\n",
      "53\n",
      "Fizz\n",
      "Buzz\n",
      "56\n",
      "Fizz\n",
      "58\n",
      "59\n",
      "FizzBuzz\n",
      "61\n",
      "62\n",
      "Fizz\n",
      "64\n",
      "Buzz\n",
      "Fizz\n",
      "67\n",
      "68\n",
      "Fizz\n",
      "Buzz\n",
      "71\n",
      "Fizz\n",
      "73\n",
      "74\n",
      "FizzBuzz\n",
      "76\n",
      "77\n",
      "Fizz\n",
      "79\n",
      "Buzz\n",
      "Fizz\n",
      "82\n",
      "83\n",
      "Fizz\n",
      "Buzz\n",
      "86\n",
      "Fizz\n",
      "88\n",
      "89\n",
      "FizzBuzz\n",
      "91\n",
      "92\n",
      "Fizz\n",
      "94\n",
      "Buzz\n",
      "Fizz\n",
      "97\n",
      "98\n",
      "Fizz\n",
      "Buzz\n"
     ]
    }
   ],
   "source": [
    "use std::io::{stdout, Write};\n",
    "\n",
    "fn fizzbuzz() {\n",
    "    for i in 1..=100 {\n",
    "        match i {\n",
    "            x if x % 15 == 0 => println!(\"FizzBuzz\"),\n",
    "            x if x % 5  == 0 => println!(\"Buzz\"),\n",
    "            x if x % 3  == 0 => println!(\"Fizz\"),\n",
    "            _ => println!(\"{}\", i)\n",
    "        }\n",
    "    }\n",
    "    stdout().flush().unwrap();\n",
    "}\n",
    "\n",
    "fizzbuzz();"
   ]
  },
  {
   "cell_type": "markdown",
   "id": "3add3c4e-d02c-47df-b706-8f3bdfde42ac",
   "metadata": {},
   "source": [
    "### テスト\n",
    "\n",
    "上記のプログラムだけではアルゴリズムが正常なのかどうか判断できない\n",
    "\n",
    "そのため、1から100までのFizzBuzz問題の解答を配列として用意しておき、アルゴリズムの出力値と比較するようにする"
   ]
  },
  {
   "cell_type": "code",
   "execution_count": 7,
   "id": "38306f74-dd26-4c16-90aa-179cd1aaaedd",
   "metadata": {},
   "outputs": [],
   "source": [
    "// 1から100までのFizzBuzz問題の解答\n",
    "// 普通に記述すると array<&str> になってしまうため array::iter().map().collect() で Vec<String> に変換している\n",
    "let fizzbuzz100_answer: Vec<String> = [\n",
    "    \"1\",\"2\",\"Fizz\",\"4\",\"Buzz\",\"Fizz\",\"7\",\"8\",\"Fizz\",\"Buzz\",\n",
    "    \"11\",\"Fizz\",\"13\",\"14\",\"FizzBuzz\",\"16\",\"17\",\"Fizz\",\"19\",\"Buzz\",\n",
    "    \"Fizz\",\"22\",\"23\",\"Fizz\",\"Buzz\",\"26\",\"Fizz\",\"28\",\"29\",\"FizzBuzz\",\n",
    "    \"31\",\"32\",\"Fizz\",\"34\",\"Buzz\",\"Fizz\",\"37\",\"38\",\"Fizz\",\"Buzz\",\n",
    "    \"41\",\"Fizz\",\"43\",\"44\",\"FizzBuzz\",\"46\",\"47\",\"Fizz\",\"49\",\"Buzz\",\n",
    "    \"Fizz\",\"52\",\"53\",\"Fizz\",\"Buzz\",\"56\",\"Fizz\",\"58\",\"59\",\"FizzBuzz\",\n",
    "    \"61\",\"62\",\"Fizz\",\"64\",\"Buzz\",\"Fizz\",\"67\",\"68\",\"Fizz\",\"Buzz\",\n",
    "    \"71\",\"Fizz\",\"73\",\"74\",\"FizzBuzz\",\"76\",\"77\",\"Fizz\",\"79\",\"Buzz\",\n",
    "    \"Fizz\",\"82\",\"83\",\"Fizz\",\"Buzz\",\"86\",\"Fizz\",\"88\",\"89\",\"FizzBuzz\",\n",
    "    \"91\",\"92\",\"Fizz\",\"94\",\"Buzz\",\"Fizz\",\"97\",\"98\",\"Fizz\",\"Buzz\"\n",
    "].iter().map(|e| e.to_string()).collect();\n",
    "\n",
    "/// 1からnまでFizzBuzz問題を解き Vec<String> 型で結果を返す関数\n",
    "fn fizzbuzz(n: u32) -> Vec<String> {\n",
    "    (1..=n).map(|i| match (i % 3, i % 5) {\n",
    "        (0, 0) => \"FizzBuzz\".to_string(),\n",
    "        (_, 0) => \"Buzz\".to_string(),\n",
    "        (0, _) => \"Fizz\".to_string(),\n",
    "        (_, _) => i.to_string()\n",
    "    }).collect::<Vec<String>>()\n",
    "}\n",
    "\n",
    "// test: 解答とアルゴリズムの出力値を比較\n",
    "// => 問題なければ何も出力されない\n",
    "assert_eq!(&fizzbuzz100_answer, &fizzbuzz(100));"
   ]
  },
  {
   "cell_type": "code",
   "execution_count": 8,
   "id": "13632a38-20e5-4b2c-9770-3b090fddc816",
   "metadata": {},
   "outputs": [
    {
     "name": "stderr",
     "output_type": "stream",
     "text": [
      "thread '<unnamed>' panicked at 'assertion failed: `(left == right)`\n",
      "  left: `[\"1\", \"2\", \"Fizz\", \"4\", \"Buzz\", \"Fizz\", \"7\", \"8\", \"Fizz\", \"Buzz\", \"11\", \"Fizz\", \"13\", \"14\", \"FizzBuzz\", \"16\", \"17\", \"Fizz\", \"19\", \"Buzz\", \"Fizz\", \"22\", \"23\", \"Fizz\", \"Buzz\", \"26\", \"Fizz\", \"28\", \"29\", \"FizzBuzz\", \"31\", \"32\", \"Fizz\", \"34\", \"Buzz\", \"Fizz\", \"37\", \"38\", \"Fizz\", \"Buzz\", \"41\", \"Fizz\", \"43\", \"44\", \"FizzBuzz\", \"46\", \"47\", \"Fizz\", \"49\", \"Buzz\", \"Fizz\", \"52\", \"53\", \"Fizz\", \"Buzz\", \"56\", \"Fizz\", \"58\", \"59\", \"FizzBuzz\", \"61\", \"62\", \"Fizz\", \"64\", \"Buzz\", \"Fizz\", \"67\", \"68\", \"Fizz\", \"Buzz\", \"71\", \"Fizz\", \"73\", \"74\", \"FizzBuzz\", \"76\", \"77\", \"Fizz\", \"79\", \"Buzz\", \"Fizz\", \"82\", \"83\", \"Fizz\", \"Buzz\", \"86\", \"Fizz\", \"88\", \"89\", \"FizzBuzz\", \"91\", \"92\", \"Fizz\", \"94\", \"Buzz\", \"Fizz\", \"97\", \"98\", \"Fizz\", \"Buzz\"]`,\n",
      " right: `[\"1\", \"2\", \"FizzBuzz\", \"4\", \"5\", \"FizzBuzz\", \"7\", \"8\", \"FizzBuzz\", \"10\", \"11\", \"FizzBuzz\", \"13\", \"14\", \"FizzBuzz\", \"16\", \"17\", \"FizzBuzz\", \"19\", \"20\", \"FizzBuzz\", \"22\", \"23\", \"FizzBuzz\", \"25\", \"26\", \"FizzBuzz\", \"28\", \"29\", \"FizzBuzz\", \"31\", \"32\", \"FizzBuzz\", \"34\", \"35\", \"FizzBuzz\", \"37\", \"38\", \"FizzBuzz\", \"40\", \"41\", \"FizzBuzz\", \"43\", \"44\", \"FizzBuzz\", \"46\", \"47\", \"FizzBuzz\", \"49\", \"50\", \"FizzBuzz\", \"52\", \"53\", \"FizzBuzz\", \"55\", \"56\", \"FizzBuzz\", \"58\", \"59\", \"FizzBuzz\", \"61\", \"62\", \"FizzBuzz\", \"64\", \"65\", \"FizzBuzz\", \"67\", \"68\", \"FizzBuzz\", \"70\", \"71\", \"FizzBuzz\", \"73\", \"74\", \"FizzBuzz\", \"76\", \"77\", \"FizzBuzz\", \"79\", \"80\", \"FizzBuzz\", \"82\", \"83\", \"FizzBuzz\", \"85\", \"86\", \"FizzBuzz\", \"88\", \"89\", \"FizzBuzz\", \"91\", \"92\", \"FizzBuzz\", \"94\", \"95\", \"FizzBuzz\", \"97\", \"98\", \"FizzBuzz\", \"100\"]`', src/lib.rs:129:1\n",
      "stack backtrace:\n",
      "note: Some details are omitted, run with `RUST_BACKTRACE=full` for a verbose backtrace.\n"
     ]
    },
    {
     "ename": "Error",
     "evalue": "Child process terminated with status: exit code: 0xc0000005",
     "output_type": "error",
     "traceback": [
      "Child process terminated with status: exit code: 0xc0000005"
     ]
    }
   ],
   "source": [
    "/// ex. 間違っているアルゴリズムの場合\n",
    "fn fizzbuzz(n: u32) -> Vec<String> {\n",
    "    (1..=n).map(|i| match i % 3 {\n",
    "        0 => \"FizzBuzz\".to_string(),\n",
    "        _ => i.to_string()\n",
    "    }).collect::<Vec<String>>()\n",
    "}\n",
    "\n",
    "// test: 解答とアルゴリズムの出力値を比較\n",
    "// => 問題なければ何も出力されない\n",
    "assert_eq!(&fizzbuzz100_answer, &fizzbuzz(100));"
   ]
  },
  {
   "cell_type": "code",
   "execution_count": null,
   "id": "f61272af-adf9-452a-a506-3cd8db396f06",
   "metadata": {},
   "outputs": [],
   "source": []
  }
 ],
 "metadata": {
  "kernelspec": {
   "display_name": "Rust",
   "language": "rust",
   "name": "rust"
  },
  "language_info": {
   "codemirror_mode": "rust",
   "file_extension": ".rs",
   "mimetype": "text/rust",
   "name": "Rust",
   "pygment_lexer": "rust",
   "version": ""
  }
 },
 "nbformat": 4,
 "nbformat_minor": 5
}
