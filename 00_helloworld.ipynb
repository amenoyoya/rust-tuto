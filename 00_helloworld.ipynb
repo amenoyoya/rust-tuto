{
 "cells": [
  {
   "cell_type": "markdown",
   "id": "c72ce9a0-f8c5-4a80-aa5d-b2222b399dd5",
   "metadata": {},
   "source": [
    "# Hello, world!!\n",
    "\n",
    "`Hello, world!!` というテキストを画面に出力するプログラムを書く\n",
    "\n",
    "Rust はコンパイル言語であるため、本来は以下のような流れでプログラムを作成する\n",
    "\n",
    "- `<プログラム名>.rs` という形式でプログラムファイルを作成する\n",
    "- `<プログラム名>.rs` に以下のセルに書いたような `main` 関数を記述する\n",
    "    - Rust においては、`main` 関数がプログラムのエントリーポイント（コンパイル後のプログラムで最初に自動実行される関数）となる\n",
    "- ターミナルで `rustc <プログラム名>.rs` というコマンドを実行し、プログラムをコンパイルする\n",
    "    - 実行ファイル `<プログラム名>` (Windows 上では `<プログラム名>.exe`) が生成される\n",
    "- 生成された実行ファイルを実行する\n",
    "\n",
    "本チュートリアルでは、コンパイルの手間を省略するために `EvCxr` を使って、Rust をインタープリタ言語として JupyterLab REPL 環境で実行する"
   ]
  },
  {
   "cell_type": "code",
   "execution_count": 2,
   "id": "fec3efc7-e4a8-4e1b-91aa-7de0a5ebc527",
   "metadata": {},
   "outputs": [],
   "source": [
    "fn main() {\n",
    "    println!(\"Hello, world!!\");\n",
    "}"
   ]
  },
  {
   "cell_type": "markdown",
   "id": "22d5d5ad-596a-4f8d-9b98-a1aa411a7dd8",
   "metadata": {},
   "source": [
    "本来は、コンパイル時に上記 `main` 関数がエントリーポイントとして設定されるため、明示的に呼び出す必要はない\n",
    "\n",
    "しかし、REPL 環境においては、明示的に呼び出さない限り関数は実行されないため、以下のようにして関数を呼び出す"
   ]
  },
  {
   "cell_type": "code",
   "execution_count": 3,
   "id": "818e2477-32f5-4f07-b363-792bf5b5c7c2",
   "metadata": {},
   "outputs": [
    {
     "name": "stdout",
     "output_type": "stream",
     "text": [
      "Hello, world!!\n"
     ]
    }
   ],
   "source": [
    "main();"
   ]
  },
  {
   "cell_type": "markdown",
   "id": "6d961cd6-50e8-480a-a1db-3bb643b339a0",
   "metadata": {},
   "source": [
    "## Rust プログラムの解剖\n",
    "\n",
    "以下の行で Rust 関数（関数とは、何らかの入力を受け取り、何らかの出力を返す一連の処理を表す）を定義している\n",
    "\n",
    "```rust\n",
    "fn main() {\n",
    "    \n",
    "}\n",
    "```\n",
    "\n",
    "前述したように `main` 関数は特別な関数であり、常に全ての実行可能なRustプログラムで走る最初のコードになる\n",
    "\n",
    "1行目で、引数がなく（なんの入力も受け取らず）、何も返さない `main` という関数を宣言している\n",
    "\n",
    "引数があるなら、かっこ（`()`）の内部に入力値を宣言することになる\n",
    "\n",
    "また、関数の本体は波括弧（`{}`）に包まれて記述される\n",
    "\n",
    "Rust では、全ての関数本体の周りに `{}` が必要になる\n",
    "\n",
    "スペースを1つあけて、開き波括弧を関数宣言と同じ行に配置するスタイルが、Rust では良いスタイルとされている（言語によっては改行して次の行に開き波括弧を配置するのが良いスタイルとされている言語もある）\n",
    "\n",
    "main 関数内には、以下のようなコードがある\n",
    "\n",
    "```rust\n",
    "    println!(\"Hello, world!\");\n",
    "```\n",
    "\n",
    "この行が、この小さなプログラムの全作業を行っている（`Hello, world!` テキストを画面に出力する）\n",
    "\n",
    "ここで気付くべき重要な事項が4つある\n",
    "\n",
    "1. Rust のスタイルは、タブではなく、4スペースでインデントする\n",
    "2. `println!` は Rust のマクロを呼び出す\n",
    "    - 代わりに関数を呼ぶ場合は、`println` (`!`なし) と入力される\n",
    "    - Rust のマクロについては後述するが、ここでは `!` を使用すると普通の関数ではなくマクロを呼んでいる、ということを知っておけば良い\n",
    "3. `\"Hello, world!\"` という文字列を引数として `println!` に渡し、この文字列が画面に表示されている\n",
    "4. この行をセミコロン(`;`)で終え、この式が終わり、次の式の準備ができていると示唆されている\n",
    "    - Rust コードのほとんどの行はセミコロンで終わる"
   ]
  },
  {
   "cell_type": "code",
   "execution_count": null,
   "id": "b77df650-92c9-4ffc-969d-5e6d9e7f9693",
   "metadata": {},
   "outputs": [],
   "source": []
  }
 ],
 "metadata": {
  "kernelspec": {
   "display_name": "Rust",
   "language": "rust",
   "name": "rust"
  },
  "language_info": {
   "codemirror_mode": "rust",
   "file_extension": ".rs",
   "mimetype": "text/rust",
   "name": "Rust",
   "pygment_lexer": "rust",
   "version": ""
  }
 },
 "nbformat": 4,
 "nbformat_minor": 5
}
