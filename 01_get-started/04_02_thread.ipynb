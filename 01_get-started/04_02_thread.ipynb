{
 "cells": [
  {
   "cell_type": "markdown",
   "id": "48b7e3ec-20f1-4c81-bba5-024998ceb339",
   "metadata": {},
   "source": [
    "# Rustの言語機能\n",
    "\n",
    "## スレッド安全性\n",
    "\n",
    "Rustはマルチスレッドプログラミングをサポートしており、スレッド安全性も担保されている\n",
    "\n",
    "以下で詳しく見ていく\n",
    "\n",
    "### スレッドの作成\n",
    "スレッドを扱うには標準ライブラリの `thread` を使う\n",
    "\n",
    "`thread::spawn` はクロージャを受け取り、それを新しいスレッドで実行する関数である"
   ]
  },
  {
   "cell_type": "code",
   "execution_count": 2,
   "id": "b2971f89-dc5b-4cee-a12b-5ef903c7239f",
   "metadata": {},
   "outputs": [
    {
     "name": "stdout",
     "output_type": "stream",
     "text": [
      "Hello, world!\n"
     ]
    },
    {
     "name": "stderr",
     "output_type": "stream",
     "text": [
      "[src/lib.rs:9] handle.join() = Ok(\n",
      "    (),\n",
      ")\n"
     ]
    }
   ],
   "source": [
    "use std::thread;\n",
    "\n",
    "fn main() {\n",
    "    // \"Hello, world!\" を表示するスレッドを作成し、そのハンドルを受け取る\n",
    "    let handle = thread::spawn(|| println!(\"Hello, world!\"));\n",
    "    \n",
    "    // handle.join() メソッド: スレッドの終了を待機\n",
    "    // ※ これを呼び出さないと、プログラムがスレッドの終了を待たずに終了してしまう可能性があり、不確定な結果となってしまう\n",
    "    dbg!(handle.join());\n",
    "}\n",
    "main();"
   ]
  },
  {
   "cell_type": "markdown",
   "id": "d8855343-6d6f-4443-ac11-0fd0b210aa8c",
   "metadata": {},
   "source": [
    "クロージャはスコープ内の変数を自動的にキャプチャするため、変数をスレッドに渡すことができる\n",
    "\n",
    "例えば、以下のような記述が可能である"
   ]
  },
  {
   "cell_type": "code",
   "execution_count": 4,
   "id": "ae021440-05e0-4594-a947-256a6c412b67",
   "metadata": {},
   "outputs": [
    {
     "ename": "Error",
     "evalue": "closure may outlive the current function, but it borrows `x`, which is owned by the current function",
     "output_type": "error",
     "traceback": [
      "            thread::spawn(|| println!(\"Thread: {}\", x))",
      "\u001b[91m                                                    ^\u001b[0m \u001b[94m`x` is borrowed here\u001b[0m",
      "            thread::spawn(|| println!(\"Thread: {}\", x))",
      "\u001b[91m                          ^^\u001b[0m \u001b[94mmay outlive borrowed value `x`\u001b[0m",
      "closure may outlive the current function, but it borrows `x`, which is owned by the current function",
      "\u001b[1mhelp\u001b[0m: to force the closure to take ownership of `x` (and any other referenced variables), use the `move` keyword\n\nmove ||"
     ]
    }
   ],
   "source": [
    "use std::thread;\n",
    "\n",
    "fn main() {\n",
    "    // 各スレッドのハンドルを保持するためのベクタ\n",
    "    let mut handles = Vec::new();\n",
    "    \n",
    "    // 1 ~ 10 のスレッドを新規作成\n",
    "    for x in 1..=10 {\n",
    "        handles.push(\n",
    "            thread::spawn(|| println!(\"Thread: {}\", x))\n",
    "        );\n",
    "    }\n",
    "    // 全てのスレッドの終了を待機\n",
    "    for handle in handles {\n",
    "        handle.join();\n",
    "    }\n",
    "}\n",
    "main();"
   ]
  },
  {
   "cell_type": "markdown",
   "id": "6ca5b867-43dc-421d-94e8-91499fd75083",
   "metadata": {},
   "source": [
    "上記コードはコンパイルエラーとなるが、これは変数 `x` の参照が、以下のように寿命より長生きしてしまっているためである\n",
    "\n",
    "```rust\n",
    "for x in 1..=10 {                                   // | x のライフタイム\n",
    "    handles.push(                                   // |\n",
    "        thread::spawn(|| println!(\"Thread: {}\", x)) // | | x の参照\n",
    "    );                                              // | | スレッドの生存期間は不明のためライフタイム不定\n",
    "}                                                   // | |\n",
    "for handle in handles {                             //   | <= 存在しない x を参照してしまう可能性がある\n",
    "    handle.join();                                  //   |\n",
    "}                                                   //   |\n",
    "```\n",
    "\n",
    "これを解決するためには、`move` キーワードを用いて、キャプチャする変数の所有権をスレッドに渡してしまうのが良い"
   ]
  },
  {
   "cell_type": "code",
   "execution_count": 5,
   "id": "5ad5744b-10f6-4e8a-8d57-0983922822bc",
   "metadata": {},
   "outputs": [
    {
     "name": "stdout",
     "output_type": "stream",
     "text": [
      "Thread: 1\n",
      "Thread: 2\n",
      "Thread: 3\n",
      "Thread: 4\n",
      "Thread: 5\n",
      "Thread: 6\n",
      "Thread: 7\n",
      "Thread: 8\n",
      "Thread: 9\n",
      "Thread: 10\n"
     ]
    }
   ],
   "source": [
    "use std::thread;\n",
    "\n",
    "fn main() {\n",
    "    // 各スレッドのハンドルを保持するためのベクタ\n",
    "    let mut handles = Vec::new();\n",
    "    \n",
    "    // 1 ~ 10 のスレッドを新規作成\n",
    "    for x in 1..=10 {\n",
    "        handles.push(\n",
    "            thread::spawn(move || println!(\"Thread: {}\", x)) // move で x の所有権を渡す\n",
    "        );\n",
    "        // => このスコープではもう x を使うことはできない (x の所有権がスレッドクロージャに移っているため)\n",
    "    }\n",
    "    // 全てのスレッドの終了を待機\n",
    "    for handle in handles {\n",
    "        handle.join();\n",
    "    }\n",
    "}\n",
    "main();"
   ]
  },
  {
   "cell_type": "markdown",
   "id": "ff63fd3e-ecfd-47c3-bc0a-ef2f40e3033e",
   "metadata": {},
   "source": [
    "なお、マルチスレッドプログラミングにおいて、スレッドの実行順序は不定である\n",
    "\n",
    "そのため、上記コードは必ずしも 1～10 が順序よく実行されるわけではないことに注意が必要である\n",
    "\n",
    "### スレッド間の情報共有\n",
    "前述したマルチスレッドコードでは、一度動き出したスレッドは完了するまで待つことしかできなかった\n",
    "\n",
    "しかし実際のシステムでは、各スレッドは実行中も様々な情報を共有しながら作業を進行させることが一般的である\n",
    "\n",
    "Rustでは、スレッド間の情報共有の手段として以下の2つの方法が提供されている\n",
    "\n",
    "- 共有メモリ\n",
    "- メッセージパッシング\n",
    "\n",
    "#### 共有メモリ\n",
    "共有メモリは、複数のスレッドで同じメモリ領域を共有することで情報を共有する方法である\n",
    "\n",
    "ここでは、前述のコードを改善して、各スレッドが共有のデータ `data` にアクセスするようにしていく\n",
    "\n",
    "まずは、パッと思いつく方法として、単純に `data` 変数をキャプチャする方法を試してみる"
   ]
  },
  {
   "cell_type": "code",
   "execution_count": 6,
   "id": "6d21a95f-cc61-4045-8526-de4b76c2f480",
   "metadata": {},
   "outputs": [
    {
     "ename": "Error",
     "evalue": "use of moved value: `data`",
     "output_type": "error",
     "traceback": [
      "            thread::spawn(move || data[x - 1] += x)",
      "\u001b[91m                          ^^^^^^^\u001b[0m \u001b[94mvalue moved into closure here, in previous iteration of loop\u001b[0m",
      "            thread::spawn(move || data[x - 1] += x)",
      "\u001b[91m                                  ^^^^\u001b[0m \u001b[94muse occurs due to use in closure\u001b[0m",
      "    let mut data = vec![0; 10]; // スレッド間共有データ",
      "\u001b[91m        ^^^^^^^^\u001b[0m \u001b[94mmove occurs because `data` has type `Vec<usize>`, which does not implement the `Copy` trait\u001b[0m",
      "use of moved value: `data`"
     ]
    }
   ],
   "source": [
    "use std::thread;\n",
    "\n",
    "fn main() {\n",
    "    let mut handles = Vec::new();\n",
    "    let mut data = vec![0; 10]; // スレッド間共有データ\n",
    "    \n",
    "    for x in 1..=10 {\n",
    "        handles.push(\n",
    "            thread::spawn(move || data[x - 1] += x)\n",
    "        );\n",
    "    }\n",
    "    for handle in handles {\n",
    "        handle.join();\n",
    "    }\n",
    "    dbg!(data);\n",
    "}\n",
    "main();"
   ]
  },
  {
   "cell_type": "markdown",
   "id": "e250eed1-3100-454b-91e4-ee553062b9a7",
   "metadata": {},
   "source": [
    "上記コードは上手く行かない\n",
    "\n",
    "ムーブセマンティクスにより、1番目のスレッド作成の時点で、`data` 変数への所有権が1番目のスレッドに移ってしまい、2番目以降のスレッドでは所有権を取れなくなっているためである\n",
    "\n",
    "この問題を解決するためには、各スレッドで所有権を共有する必要がある\n",
    "\n",
    "Rustでは、所有権を共有可能な型として `Rc` 型が用意されている\n",
    "\n",
    "Rc型 は、C++ における `std::shared_ptr` のような仕組みとなっており、所有権を保持している所有者の数をカウントしている（**参照カウンタ**）\n",
    "\n",
    "そして、所有者が 0 になったタイミングでメモリを解放する、という仕組みである"
   ]
  },
  {
   "cell_type": "code",
   "execution_count": 7,
   "id": "7ed5cbc0-1923-4473-93f2-f93091f7e143",
   "metadata": {},
   "outputs": [
    {
     "ename": "Error",
     "evalue": "`Rc<Vec<usize>>` cannot be sent between threads safely",
     "output_type": "error",
     "traceback": [
      "            thread::spawn(move || data_ref[x - 1] += x)",
      "\u001b[91m            ^^^^^^^^^^^^^\u001b[0m \u001b[94m`Rc<Vec<usize>>` cannot be sent between threads safely\u001b[0m",
      "            thread::spawn(move || data_ref[x - 1] += x)",
      "\u001b[91m                          ^^^^^^^^^^^^^^^^^^^^^^^^^^^^\u001b[0m \u001b[94mwithin this `[closure@src/lib.rs:11:27: 11:55]`\u001b[0m",
      "`Rc<Vec<usize>>` cannot be sent between threads safely",
      "\u001b[1mhelp\u001b[0m: within `[closure@src/lib.rs:11:27: 11:55]`, the trait `Send` is not implemented for `Rc<Vec<usize>>`"
     ]
    }
   ],
   "source": [
    "use std::thread;\n",
    "use std::rc::Rc; // Rc型をスコープに導入\n",
    "\n",
    "fn main() {\n",
    "    let mut handles = Vec::new();\n",
    "    let mut data = Rc::new(vec![0; 10]); // スレッド間共有データ: 所有権複数共有型\n",
    "    \n",
    "    for x in 1..=10 {\n",
    "        let data_ref = data.clone(); // data の所有権をコピー (参照カウンタを1つ増やす)\n",
    "        handles.push(\n",
    "            thread::spawn(move || data_ref[x - 1] += x)\n",
    "        );\n",
    "    }\n",
    "    for handle in handles {\n",
    "        handle.join();\n",
    "    }\n",
    "    dbg!(data);\n",
    "}\n",
    "main();"
   ]
  },
  {
   "cell_type": "markdown",
   "id": "c957dd4d-fb0c-40a1-9c2c-b4ac57b4cc8e",
   "metadata": {},
   "source": [
    "今度は別のエラーが発生してしまっている\n",
    "\n",
    "これは「Rc型はスレッド間を安全に渡せない」というメッセージである\n",
    "\n",
    "実のところ Rc型 が持つ参照カウンタは、複数のスレッドが同時にアクセスした場合に壊れてしまう可能性があるのである\n",
    "\n",
    "そのため、Rc型 のマルチスレッド版として `Arc` (Atomically Reference Counter) 型が用意されている\n",
    "\n",
    "なぜ `Rc` と `Arc` が別々に提供されているのかと言うと、Arc型 の参照カウンタ更新には Rc型 よりも余分なコストがかかるためである\n",
    "\n",
    "そのため、シングルスレッドでは Rc型 を、マルチスレッドでは Arc型 を使うようになっている"
   ]
  },
  {
   "cell_type": "code",
   "execution_count": 8,
   "id": "401f08d2-5d27-45d0-a58e-57263732c2d0",
   "metadata": {},
   "outputs": [
    {
     "ename": "Error",
     "evalue": "cannot borrow data in an `Arc` as mutable",
     "output_type": "error",
     "traceback": [
      "            thread::spawn(move || data_ref[x - 1] += x)",
      "\u001b[91m                                  ^^^^^^^^\u001b[0m \u001b[94mcannot borrow as mutable\u001b[0m",
      "cannot borrow data in an `Arc` as mutable",
      "\u001b[1mhelp\u001b[0m: trait `DerefMut` is required to modify through a dereference, but it is not implemented for `Arc<Vec<usize>>`"
     ]
    }
   ],
   "source": [
    "use std::thread;\n",
    "use std::sync::Arc; // Arc型をスコープに導入\n",
    "\n",
    "fn main() {\n",
    "    let mut handles = Vec::new();\n",
    "    let mut data = Arc::new(vec![0; 10]); // スレッド間共有データ: 所有権複数共有型 (マルチスレッド版)\n",
    "    \n",
    "    for x in 1..=10 {\n",
    "        let data_ref = data.clone(); // data の所有権をコピー (参照カウンタを1つ増やす)\n",
    "        handles.push(\n",
    "            thread::spawn(move || data_ref[x - 1] += x)\n",
    "        );\n",
    "    }\n",
    "    for handle in handles {\n",
    "        handle.join();\n",
    "    }\n",
    "    dbg!(data);\n",
    "}\n",
    "main();"
   ]
  },
  {
   "cell_type": "markdown",
   "id": "ce246157-cbcf-4518-9867-aa8454a4551a",
   "metadata": {},
   "source": [
    "これでもまだコンパイルエラーが発生してしまう\n",
    "\n",
    "これは Arc型 が書き換え不能であることを示している\n",
    "\n",
    "今回のケースでは、各スレッドが `data` の別々の要素を操作することが分かっているが、一般的には必ずしもそうであるとは限らない\n",
    "\n",
    "例えば `data_ref[(x - 1) / 2] += x` のようにすると スレッド1 と スレッド2 が同じ領域 (`data_ref[0]`) にアクセスすることになる\n",
    "\n",
    "そのため、Arc型 では書き換えを行うことができず、別途排他制御を行う構造が必要になる\n",
    "\n",
    "このような用途のために用意されているのが `Mutex` 型である"
   ]
  },
  {
   "cell_type": "code",
   "execution_count": 11,
   "id": "b8192cff-0e5e-4b9e-8956-4938fbd310f9",
   "metadata": {},
   "outputs": [
    {
     "name": "stderr",
     "output_type": "stream",
     "text": [
      "[src/lib.rs:20] data = Mutex {\n",
      "    data: [\n",
      "        1,\n",
      "        2,\n",
      "        3,\n",
      "        4,\n",
      "        5,\n",
      "        6,\n",
      "        7,\n",
      "        8,\n",
      "        9,\n",
      "        10,\n",
      "    ],\n",
      "    poisoned: false,\n",
      "    ..\n",
      "}\n"
     ]
    }
   ],
   "source": [
    "use std::thread;\n",
    "use std::sync::{Arc, Mutex}; // Arc型, Mutex型をスコープに導入\n",
    "\n",
    "fn main() {\n",
    "    let mut handles = Vec::new();\n",
    "    let mut data = Arc::new(Mutex::new(vec![0; 10])); // スレッド間共有データ: 排他制御機構つき所有権複数共有型\n",
    "    \n",
    "    for x in 1..=10 {\n",
    "        let data_ref = data.clone(); // data の所有権をコピー (参照カウンタを1つ増やす)\n",
    "        handles.push(\n",
    "            thread::spawn(move || {\n",
    "                let mut data = data_ref.lock().unwrap(); // Mutex::lock() メソッドで排他制御を開始\n",
    "                data[x - 1] += x;\n",
    "            })\n",
    "        );\n",
    "    }\n",
    "    for handle in handles {\n",
    "        handle.join();\n",
    "    }\n",
    "    dbg!(data);\n",
    "}\n",
    "main();"
   ]
  },
  {
   "cell_type": "markdown",
   "id": "69301683-1d9e-4952-a3e4-03b1d96cb1ac",
   "metadata": {},
   "source": [
    "上記のように、Mutex型 は `lock` というメソッドを提供しており、あるスレッドを lock を実行して data への参照を得ると、それ以外のスレッドは lock が完了しなくなる\n",
    "\n",
    "lock 中のスレッドが data へのアクセスを完了して参照を破棄したタイミングで、他のスレッドの内の1つが lock を完了し、再び同じ処理が繰り返されることになる\n",
    "\n",
    "このように、共有データへの参照を得るのが常に1つのスレッドだけに制限される機構を **排他制御** と呼ぶ\n",
    "\n",
    "ここまで行って初めて、共有メモリによるスレッド間の安全な情報共有が可能となる\n",
    "\n",
    "#### メッセージパッシング\n",
    "各スレッドがメッセージをやり取りしながら（コミュニケーションをとりながら）動作する仕組みを **メッセージパッシング** と呼ぶ\n",
    "\n",
    "Rustは、メッセージパッシングに対応したスレッド間通信用のチャンネルとして `mpsc` (Messeage Passing Channel) を持っており、このチャンネルを使うことでスレッド間情報共有が可能となる"
   ]
  },
  {
   "cell_type": "code",
   "execution_count": 12,
   "id": "56dd9f78-d14d-469b-8a09-47a4262f6fa3",
   "metadata": {},
   "outputs": [
    {
     "name": "stdout",
     "output_type": "stream",
     "text": [
      "Message Passing\n"
     ]
    }
   ],
   "source": [
    "use std::thread;\n",
    "use std::sync::mpsc; // Message Passing Channel を使用可能に\n",
    "\n",
    "fn main() {\n",
    "    let (tx, rx) = mpsc::channel(); // mpsc::channel(): 送信・受信チャンネルのタプルを返す\n",
    "    let handle = thread::spawn(move || {\n",
    "        let message = rx.recv().unwrap(); // Message Passing Channel でメッセージ受信\n",
    "        println!(\"{}\", message); // => 以下のコードで送信している \"Message Passing\" メッセージが表示されるはず\n",
    "    });\n",
    "    \n",
    "    // Message Passing Channel でメッセージを送信\n",
    "    tx.send(\"Message Passing\");\n",
    "    \n",
    "    // スレッドの終了を待機\n",
    "    handle.join();\n",
    "}\n",
    "main();"
   ]
  },
  {
   "cell_type": "markdown",
   "id": "ef13401b-3bee-4d59-ac57-0e3749493efe",
   "metadata": {},
   "source": [
    "上記のように Message Passing Channel は `mpsc::channel` 関数で作成できる\n",
    "\n",
    "その戻り値は送信・受信チャンネルのタプルとなっている\n",
    "\n",
    "メッセージは送信チャンネルから受信チャンネルへの単方向にしか通信できないため、上記の場合は main スレッドから作成したスレッドに対してしか送信できない\n",
    "\n",
    "これを解決するためには、逆方向のチャンネルも作ってしまい、双方向通信を実現する必要がある\n",
    "\n",
    "なお、チャンネルはメッセージをキューに蓄えるため、例えばスレッド作成前にメッセージを送信していたとしても何ら問題ない\n",
    "\n",
    "受信チャンネルはキューに蓄えられたメッセージを順に受信していくためである\n",
    "\n",
    "ここまでの話を織り込んだ上で、メッセージパッシングにより複雑なスレッド処理を実現してみる"
   ]
  },
  {
   "cell_type": "code",
   "execution_count": 13,
   "id": "e63ec66a-eb53-46c5-8fbc-52d6b8433209",
   "metadata": {},
   "outputs": [
    {
     "name": "stderr",
     "output_type": "stream",
     "text": [
      "[src/lib.rs:50] data = [\n",
      "    1,\n",
      "    2,\n",
      "    3,\n",
      "    4,\n",
      "    5,\n",
      "    6,\n",
      "    7,\n",
      "    8,\n",
      "    9,\n",
      "    10,\n",
      "]\n"
     ]
    }
   ],
   "source": [
    "use std::thread;\n",
    "use std::sync::mpsc;\n",
    "\n",
    "fn main() {\n",
    "    let mut handles = Vec::new();\n",
    "    let mut data = vec![0; 10]; // スレッド間で共有したいデータ\n",
    "    let mut snd_channels = Vec::new(); // main => 各スレッドへの送信チャンネル\n",
    "    let mut rcv_channels = Vec::new(); // 各スレッド => mainへの受信チャンネル\n",
    "    \n",
    "    for x in 1..=10 {\n",
    "        // mainスレッドから各スレッドへのチャンネル作成\n",
    "        let (snd_tx, snd_rx) = mpsc::channel();\n",
    "        \n",
    "        // 各スレッドからmainスレッドへのチャンネル作成\n",
    "        let (rcv_tx, rcv_rx) = mpsc::channel();\n",
    "        \n",
    "        snd_channels.push(snd_tx);\n",
    "        rcv_channels.push(rcv_rx);\n",
    "        \n",
    "        // スレッド作成\n",
    "        handles.push(\n",
    "            thread::spawn(move || {\n",
    "                // main => 各スレッドへのメッセージを受信\n",
    "                // メッセージとしてスレッド間で共有したいデータが渡されていれば安全にデータを処理できる\n",
    "                let mut data = snd_rx.recv().unwrap();\n",
    "                data += x;\n",
    "                \n",
    "                // 各スレッド => main へ、メッセージとして処理後のデータを送信して返す\n",
    "                // => これにより実質的にスレッド内で排他制御を実現することができる\n",
    "                rcv_tx.send(data);\n",
    "            })\n",
    "        );\n",
    "    }\n",
    "    \n",
    "    // 各スレッドにスレッド間で共有したいデータをメッセージとして送信\n",
    "    for x in 0..10 {\n",
    "        snd_channels[x].send(data[x]);\n",
    "    }\n",
    "    \n",
    "    // 各スレッドからのメッセージをスレッド間共有データとして受信\n",
    "    for x in 0..10 {\n",
    "        data[x] = rcv_channels[x].recv().unwrap();\n",
    "    }\n",
    "    \n",
    "    for handle in handles {\n",
    "        handle.join();\n",
    "    }\n",
    "    \n",
    "    dbg!(data);\n",
    "}\n",
    "main();"
   ]
  },
  {
   "cell_type": "markdown",
   "id": "66e6678a-b811-493b-a647-53811ebd9207",
   "metadata": {},
   "source": [
    "### Send, Sync\n",
    "上記までの通り、Rustでマルチスレッドプログラミングを行おうとする場合、スレッド安全性を保証するために様々なコンパイルチェックが行われる\n",
    "\n",
    "このスレッド安全性を保証する仕組みが `Send`, `Sync` というマーカトレイトである\n",
    "\n",
    "- Send マーカトレイト\n",
    "    - これを実装した型は、その所有権をスレッドをまたいで転送可能であることを示す\n",
    "    - Send はほとんど全ての型に実装されているが、Rc など、スレッド安全性を脅かす可能性のある型には実装されていない\n",
    "- Sync マーカトレイト\n",
    "    - これを実装した型は、複数のスレッドから安全にアクセス可能であることを示す\n",
    "    - 例えば Mutex などは lock メソッドによる排他制御によって複数のスレッドから安全にアクセスできるため、Sync を実装している\n",
    "\n",
    "自作の型については、基本的に自分で Send や Sync を実装するべきではない\n",
    "\n",
    "その型を構成する全ての型が Send や Sync であれば、自作型についても自動的に Send や Sync が実装されるためである\n",
    "\n",
    "手動で実装したい場合は unsafe なコードとなるため、注意深く設計しなければならない\n",
    "\n",
    "Rustの標準ライブラリは必ずしも充実したマルチスレッド機能を提供しているわけではないが、Send, Sync という基本的な仕組みを提供することで、サードパーティ製のライブラリに対しても、標準ライブラリと同等のスレッド安全性を提供することに成功しているのである"
   ]
  },
  {
   "cell_type": "code",
   "execution_count": null,
   "id": "40c5e2dd-bab1-4979-91d4-a2d52f83b8a6",
   "metadata": {},
   "outputs": [],
   "source": []
  }
 ],
 "metadata": {
  "kernelspec": {
   "display_name": "Rust",
   "language": "rust",
   "name": "rust"
  },
  "language_info": {
   "codemirror_mode": "rust",
   "file_extension": ".rs",
   "mimetype": "text/rust",
   "name": "Rust",
   "pygment_lexer": "rust",
   "version": ""
  }
 },
 "nbformat": 4,
 "nbformat_minor": 5
}
