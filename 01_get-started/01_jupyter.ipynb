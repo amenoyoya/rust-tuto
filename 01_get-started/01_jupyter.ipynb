{
 "cells": [
  {
   "cell_type": "markdown",
   "id": "c1c5545b-963a-45af-beb4-9ea34035f81e",
   "metadata": {},
   "source": [
    "# EvCxR Jupyter Kernel チュートリアル\n",
    "\n",
    "Jupyter Notebook や JupyterLab において、以下のボックスのような「セル」にコードを書き込むことができる\n",
    "\n",
    "本テキストのように、セルにマークダウンを含めることも可能\n",
    "\n",
    "各コードセルは個別にコンパイルおよび実行されるが、変数、定義された関数などはセル間で保持される\n",
    "\n",
    "## 出力の表示、式の評価\n",
    "\n",
    "標準出力（`stdout`）および標準エラー出力（`stderr`）を表示する\n",
    "\n",
    "※ stdout と stderr は別のストリームであるため、必ずしも実行順通りには表示されないことに注意"
   ]
  },
  {
   "cell_type": "code",
   "execution_count": 2,
   "id": "b53192bb-f806-440a-90e3-1db210314862",
   "metadata": {},
   "outputs": [
    {
     "name": "stderr",
     "output_type": "stream",
     "text": [
      "Hello, stderr!\n"
     ]
    },
    {
     "name": "stdout",
     "output_type": "stream",
     "text": [
      "Hello, stdout!\n"
     ]
    }
   ],
   "source": [
    "// stdout に出力\n",
    "println!(\"Hello, stdout!\");\n",
    "\n",
    "/**\n",
    " * stderr に出力\n",
    " * stdout, stderr は別ストリームのためどちらが先に表示されるかは不定\n",
    " */\n",
    "eprintln!(\"Hello, stderr!\");"
   ]
  },
  {
   "cell_type": "markdown",
   "id": "c75e4843-f6e0-44d4-97ae-7fbeed0a7ee2",
   "metadata": {},
   "source": [
    "Jupyter では、最後に評価された式の結果がアウトプットセルに表示される\n",
    "\n",
    "ただし、セミコロンを後ろにつけてしまうと、式（`Expression`）ではなく文（`Statement`）として解釈されるため、何も返さない（アウトプットセルに何も表示されない）"
   ]
  },
  {
   "cell_type": "code",
   "execution_count": 3,
   "id": "4dc34636-00ce-4aed-a376-5485dab94fbb",
   "metadata": {},
   "outputs": [
    {
     "data": {
      "text/plain": [
       "\"Hello world!\""
      ]
     },
     "execution_count": 3,
     "metadata": {},
     "output_type": "execute_result"
    }
   ],
   "source": [
    "// フォーマットされた文字列を返す（セミコロンなし: 式として評価）\n",
    "format!(\"Hello {}!\", \"world\")"
   ]
  },
  {
   "cell_type": "code",
   "execution_count": 4,
   "id": "f2ced83e-bd41-4934-aa9a-c4a4232f4bd0",
   "metadata": {},
   "outputs": [],
   "source": [
    "// フォーマットされた文字列を返す（セミコロンあり: 文として実行）\n",
    "format!(\"Hello {}!\", \"world\");"
   ]
  },
  {
   "cell_type": "markdown",
   "id": "ea8b0f97-8591-4c44-b4fb-12d4dda340ec",
   "metadata": {},
   "source": [
    "## コメントについて\n",
    "\n",
    "上記コードですでに出ているが、Rust では、`//...` で一行のコメント、`/* ... */` で複数行のコメントを記述することができる\n",
    "\n",
    "コメント部分はプログラム上では一切解釈されないため、自由に記述して問題ない"
   ]
  },
  {
   "cell_type": "markdown",
   "id": "9054c1eb-25f5-4bfa-af9d-c1569fd196e1",
   "metadata": {},
   "source": [
    "## 変数の割り当てと利用\n",
    "\n",
    "次の例では `message` という変数に文字列を割り当て、別のセルで処理を施した後、最終的に変数に割り当てられている文字列を表示する\n",
    "\n",
    "Rust では、`let <変数名> = <値>` という宣言文で変数を宣言・値の割り当てを行うことができるが、デフォルトでは変数は immutable（不変）となっている\n",
    "\n",
    "そのため、変数に対して処理を施したい場合や、別の値を再代入したい場合などは `let mut <変数名>` という宣言を行い、mutable（可変）変数を定義する"
   ]
  },
  {
   "cell_type": "code",
   "execution_count": 5,
   "id": "4ad8b7c6-996d-4273-944d-07a95e23944d",
   "metadata": {},
   "outputs": [],
   "source": [
    "/**\n",
    " * message 変数を mutable で宣言し、\"Hello \" 文字列を割り当てる\n",
    " * 以下では String::from(\"Hello \") メソッドで文字列を生成しているが、単に \"Hello \" を渡した場合は文字列の参照（&str）となる\n",
    " */\n",
    "let mut message = String::from(\"Hello \");"
   ]
  },
  {
   "cell_type": "code",
   "execution_count": 6,
   "id": "561e9acf-90cf-4342-9773-060683cdf421",
   "metadata": {},
   "outputs": [],
   "source": [
    "// message 変数に文字列 \"world!\" を追加\n",
    "message.push_str(\"world!\");"
   ]
  },
  {
   "cell_type": "code",
   "execution_count": 7,
   "id": "a0d891fd-2493-429f-bd9a-3c085d0fe607",
   "metadata": {},
   "outputs": [
    {
     "data": {
      "text/plain": [
       "\"Hello world!\""
      ]
     },
     "execution_count": 7,
     "metadata": {},
     "output_type": "execute_result"
    }
   ],
   "source": [
    "// message の中身を確認（セミコロンなし: 式として評価 => output cell に表示）\n",
    "message"
   ]
  },
  {
   "cell_type": "code",
   "execution_count": 8,
   "id": "609aff83-489b-4fdd-80b4-edb04b131ae5",
   "metadata": {},
   "outputs": [
    {
     "ename": "Error",
     "evalue": "unused doc comment",
     "output_type": "error",
     "traceback": [
      "let mut message = \"Hello \";",
      "\u001b[91m^^^^^^^^^^^^^^^^^^^^^^^^^^^\u001b[0m \u001b[94mrustdoc does not generate documentation for statements\u001b[0m",
      "/**",
      " * 単に \"Hello \" を割り当てた場合は、push_str() メソッドでエラーが発生する",
      " * この場合 message 変数は \"Hello \" という文字列が存在するメモリ空間への参照（&str）が割り当てられているだけなので、文字列操作を行うことは出来ない",
      " */",
      "\u001b[91m^^^\u001b[0m \u001b[94m\u001b[0m",
      "unused doc comment"
     ]
    },
    {
     "ename": "Error",
     "evalue": "no method named `push_str` found for reference `&str` in the current scope",
     "output_type": "error",
     "traceback": [
      "message.push_str(\"world!\");",
      "\u001b[91m        ^^^^^^^^\u001b[0m \u001b[94mmethod not found in `&str`\u001b[0m",
      "no method named `push_str` found for reference `&str` in the current scope"
     ]
    }
   ],
   "source": [
    "/**\n",
    " * 単に \"Hello \" を割り当てた場合は、push_str() メソッドでエラーが発生する\n",
    " * この場合 message 変数は \"Hello \" という文字列が存在するメモリ空間への参照（&str）が割り当てられているだけなので、文字列操作を行うことは出来ない\n",
    " */\n",
    "let mut message = \"Hello \";\n",
    "message.push_str(\"world!\");\n",
    "message"
   ]
  },
  {
   "cell_type": "markdown",
   "id": "80a12118-9ec1-4a6a-b4ea-0960fac70d42",
   "metadata": {},
   "source": [
    "## 関数の定義・再定義\n",
    "\n",
    "EvCxR では、関数を一度定義した後、関数の内容を修正したい場合、再定義を行うことが出来る\n",
    "\n",
    "Rust の関数定義は `fn <関数名>([引数宣言]) [-> 戻り値の型] {<処理式>}` という形式で行われるが、デフォルトでは private 関数となり、スコープ外から呼び出すことは出来ない\n",
    "\n",
    "public 関数として公開したい場合は `pub fn <関数名>(...) {...}`  のように `pub` キーワードを用いる"
   ]
  },
  {
   "cell_type": "code",
   "execution_count": 9,
   "id": "9534c62b-4473-422d-8ee5-b1ce1bc91cb9",
   "metadata": {},
   "outputs": [
    {
     "data": {
      "text/plain": [
       "[0, 0, 0, 0, 0, 0, 0, 0, 0, 0, 0, 0]"
      ]
     },
     "execution_count": 9,
     "metadata": {},
     "output_type": "execute_result"
    }
   ],
   "source": [
    "/// フィボナッチ数を返す関数（※ただし間違っている）\n",
    "pub fn fib(x: i32) -> i32 {\n",
    "    // Rust の関数は最後に評価された式の結果を戻り値として返す\n",
    "    if x <= 2 {0} else {fib(x - 2) + fib(x - 1)}\n",
    "}\n",
    "\n",
    "// 1～13 の数列に対して fib 関数を適用し、配列（Vec）形式に変換\n",
    "(1..13).map(fib).collect::<Vec<i32>>()"
   ]
  },
  {
   "cell_type": "code",
   "execution_count": 10,
   "id": "70533fd8-fc75-43a6-bf1d-05c726075634",
   "metadata": {},
   "outputs": [
    {
     "data": {
      "text/plain": [
       "[1, 1, 2, 3, 5, 8, 13, 21, 34, 55, 89, 144]"
      ]
     },
     "execution_count": 10,
     "metadata": {},
     "output_type": "execute_result"
    }
   ],
   "source": [
    "/**\n",
    " * 上記の結果は間違っていたため、fib 関数を修正（再定義する）\n",
    " */\n",
    "/// フィボナッチ数を返す関数\n",
    "pub fn fib(x: i32) -> i32 {\n",
    "    if x <= 2 {1} else {fib(x - 2) + fib(x - 1)}\n",
    "}\n",
    "\n",
    "(1..13).map(fib).collect::<Vec<i32>>()"
   ]
  },
  {
   "cell_type": "markdown",
   "id": "eb64e889-8949-4a1c-8560-ea79ed4a8ca2",
   "metadata": {},
   "source": [
    "## 外部クレートのロード\n",
    "\n",
    "**クレート** とは Rust におけるコンパイルの単位\n",
    "\n",
    "他の言語におけるライブラリやモジュールのようなものと考えれば良い\n",
    "\n",
    "通常は **Cargo** パッケージマネージャを用いて外部クレートをインストールする必要があるが、EvCxR では `:dep <クレート名>` というマジックコマンドで外部クレートを呼び出すことが出来る\n",
    "\n",
    "ただし、マジックコマンドの前に何らかの式や文、コメント等を入れてはならない（`:dep` マジックコマンドが Rust 式として解釈されてエラーとなる）"
   ]
  },
  {
   "cell_type": "code",
   "execution_count": 11,
   "id": "37073ef8-280d-4c76-919a-c6747669a534",
   "metadata": {},
   "outputs": [
    {
     "data": {
      "text/plain": [
       "\"AQIDBA==\""
      ]
     },
     "execution_count": 11,
     "metadata": {},
     "output_type": "execute_result"
    }
   ],
   "source": [
    ":dep base64 = \"0.10.1\"\n",
    "\n",
    "// 上記マジックコマンドで base64: 0.10.1 クレートが使えるようになる\n",
    "base64::encode(&vec![1, 2, 3, 4])"
   ]
  },
  {
   "cell_type": "markdown",
   "id": "3ca61902-b566-4d62-a745-1d429d923fb8",
   "metadata": {},
   "source": [
    "## Jupyter 表示のカスタマイズ\n",
    "\n",
    "`evcxr_display` メソッドを継承することで、アウトプットセルの表示をカスタマイズすることができる\n",
    "\n",
    "以下の例では、`Matrix` 構造体に `evcxr_display` メソッドを定義し、アウトプットセルで `<table>` HTML を表示できるようにしている"
   ]
  },
  {
   "cell_type": "code",
   "execution_count": 12,
   "id": "aedc1f13-df87-4494-a50b-9cc622686a6b",
   "metadata": {},
   "outputs": [],
   "source": [
    "// std::fmt::Debug クレートを使う\n",
    "use std::fmt::Debug;\n",
    "\n",
    "// Matrix 構造体を定義\n",
    "pub struct Matrix<T> {\n",
    "    pub values: Vec<T>,\n",
    "    pub row_size: usize\n",
    "}\n",
    "\n",
    "/**\n",
    " * Matrix構造体に共通のメソッド（トレイト）を定義\n",
    " * Rust はオブジェクト指向言語ではなく class はないが、特定の型に共通のふるまい（トレイト）を定義することで、より柔軟なオブジェクト指向風の実装が可能\n",
    " */\n",
    "impl<T: Debug> Matrix<T> {\n",
    "    /// evcxr_display: Jupyterアウトプットセルへの表示カスタマイズ\n",
    "    pub fn evcxr_display(&self) {\n",
    "        let mut html = String::from(\"<table>\");\n",
    "        for r in 0..(self.values.len() / self.row_size) {\n",
    "            html.push_str(\"<tr>\");\n",
    "            for c in 0..self.row_size {\n",
    "                html.push_str(\"<td>\");\n",
    "                html.push_str(&format!(\"{:?}\", self.values[r * self.row_size + c]));\n",
    "                html.push_str(\"</td>\");\n",
    "            }\n",
    "            html.push_str(\"</tr>\");\n",
    "        }\n",
    "        html.push_str(\"</table>\");\n",
    "        \n",
    "        /**\n",
    "         * 以下のような形式で出力することで Jupyter 上では HTML として出力できる\n",
    "         *     EVCXR_BEGIN_CONTENT text/html\n",
    "         *     ...(HTML content)\n",
    "         *     EVCXR_END_CONTENT\n",
    "         */\n",
    "        println!(\"EVCXR_BEGIN_CONTENT text/html\\n{}\\nEVCXR_END_CONTENT\", html);\n",
    "    }\n",
    "}"
   ]
  },
  {
   "cell_type": "code",
   "execution_count": 13,
   "id": "9d989725-dd9e-4bdd-adfa-14fe569e1044",
   "metadata": {},
   "outputs": [
    {
     "data": {
      "text/html": [
       "<table><tr><td>1</td><td>2</td><td>3</td></tr><tr><td>4</td><td>5</td><td>6</td></tr><tr><td>7</td><td>8</td><td>9</td></tr></table>"
      ]
     },
     "execution_count": 13,
     "metadata": {},
     "output_type": "execute_result"
    }
   ],
   "source": [
    "let m = Matrix {\n",
    "    values: vec![1, 2, 3, 4, 5, 6, 7, 8, 9],\n",
    "    row_size: 3\n",
    "};\n",
    "\n",
    "m"
   ]
  },
  {
   "cell_type": "markdown",
   "id": "7d268d5a-c470-4670-841d-a65c26c806ef",
   "metadata": {},
   "source": [
    "同様に、`evcxr_image` 等のアドオンクレートを使用して画像を表示することもできる\n",
    "\n",
    "これにより RGB およびグレースケールの画像を Jupyter 上で表示できるようになる\n",
    "\n",
    "※ 使用するクレートのバージョンは `evcxr_image` によって使用されるバージョンと一致する必要があることに注意（一致しない場合、型が実質的に異なり、イメージが表示されない）"
   ]
  },
  {
   "cell_type": "code",
   "execution_count": 14,
   "id": "e789bc32-09b9-4279-a183-7faccea6c6c3",
   "metadata": {},
   "outputs": [
    {
     "data": {
      "image/png": "[encoded data removed]"
     },
     "execution_count": 14,
     "metadata": {},
     "output_type": "execute_result"
    }
   ],
   "source": [
    ":dep image = \"0.23\"\n",
    ":dep evcxr_image = \"1.1\"\n",
    "\n",
    "use evcxr_image::ImageDisplay;\n",
    "\n",
    "// 256 x 256 の画像を関数から作成\n",
    "// Rust では `|[引数]| {<式>}` という形式で無名関数を定義できる\n",
    "image::ImageBuffer::from_fn(256, 256, |x, y| {\n",
    "    if (x as i32 - y as i32).abs() < 3 {\n",
    "        image::Rgb([0, 0, 255])\n",
    "    } else {\n",
    "        image::Rgb([0, 0, 0])\n",
    "    }\n",
    "})"
   ]
  },
  {
   "cell_type": "markdown",
   "id": "4b2bc5de-29d0-4346-a3dd-f72163ebdbbe",
   "metadata": {},
   "source": [
    "## 定義されている変数の表示\n",
    "\n",
    "`:vars` マジックコマンドにより、定義済みの変数一覧を表示することが出来る"
   ]
  },
  {
   "cell_type": "code",
   "execution_count": 15,
   "id": "059d4212-c988-4e5a-a721-2c9a63767e7e",
   "metadata": {},
   "outputs": [
    {
     "data": {
      "text/html": [
       "<table><tr><th>Variable</th><th>Type</th></tr><tr><td>m</td><td>Matrix&lt;i32&gt;</td><tr><tr><td>message</td><td>String</td><tr></table>"
      ],
      "text/plain": [
       "m: Matrix<i32>\n",
       "message: String\n"
      ]
     },
     "execution_count": 15,
     "metadata": {},
     "output_type": "execute_result"
    }
   ],
   "source": [
    ":vars"
   ]
  },
  {
   "cell_type": "markdown",
   "id": "bc65ed22-fede-4593-8ee8-4e80322a9ba6",
   "metadata": {},
   "source": [
    "その他、使用可能なマジックコマンドは `:help` により確認することが出来る"
   ]
  },
  {
   "cell_type": "code",
   "execution_count": 16,
   "id": "b09c6b4d-56b1-47f7-ab39-b3b0c6f9e6bb",
   "metadata": {},
   "outputs": [
    {
     "data": {
      "text/html": [
       "<table>\n",
       "<tr><td>:clear</td><td>Clear all state, keeping compilation cache</td></tr>\n",
       "<tr><td>:dep</td><td>Add dependency. e.g. :dep regex = \"1.0\"</td></tr>\n",
       "<tr><td>:efmt</td><td>Set the formatter for errors returned by ?</td></tr>\n",
       "<tr><td>:explain</td><td>Print explanation of last error</td></tr>\n",
       "<tr><td>:fmt</td><td>Set output formatter (default: {:?})</td></tr>\n",
       "<tr><td>:help</td><td>Print command help</td></tr>\n",
       "<tr><td>:internal_debug</td><td>Toggle various internal debugging code</td></tr>\n",
       "<tr><td>:last_compile_dir</td><td>Print the directory in which we last compiled</td></tr>\n",
       "<tr><td>:last_error_json</td><td>Print the last compilation error as JSON (for debugging)</td></tr>\n",
       "<tr><td>:linker</td><td>Set/print linker. Supported: system, lld</td></tr>\n",
       "<tr><td>:load_config</td><td>Reloads startup configuration files. Accepts optional flag `--quiet` to suppress logging.</td></tr>\n",
       "<tr><td>:offline</td><td>Set offline mode when invoking cargo</td></tr>\n",
       "<tr><td>:opt</td><td>Set optimization level (0/1/2)</td></tr>\n",
       "<tr><td>:preserve_vars_on_panic</td><td>Try to keep vars on panic (0/1)</td></tr>\n",
       "<tr><td>:quit</td><td>Quit evaluation and exit</td></tr>\n",
       "<tr><td>:sccache</td><td>Set whether to use sccache (0/1).</td></tr>\n",
       "<tr><td>:time_passes</td><td>Toggle printing of rustc pass times (requires nightly)</td></tr>\n",
       "<tr><td>:timing</td><td>Toggle printing of how long evaluations take</td></tr>\n",
       "<tr><td>:toolchain</td><td>Set which toolchain to use (e.g. nightly)</td></tr>\n",
       "<tr><td>:vars</td><td>List bound variables and their types</td></tr>\n",
       "<tr><td>:version</td><td>Print Evcxr version</td></tr>\n",
       "</table>\n"
      ],
      "text/plain": [
       ":clear            Clear all state, keeping compilation cache\n",
       ":dep              Add dependency. e.g. :dep regex = \"1.0\"\n",
       ":efmt             Set the formatter for errors returned by ?\n",
       ":explain          Print explanation of last error\n",
       ":fmt              Set output formatter (default: {:?})\n",
       ":help             Print command help\n",
       ":internal_debug   Toggle various internal debugging code\n",
       ":last_compile_dir Print the directory in which we last compiled\n",
       ":last_error_json  Print the last compilation error as JSON (for debugging)\n",
       ":linker           Set/print linker. Supported: system, lld\n",
       ":load_config      Reloads startup configuration files. Accepts optional flag `--quiet` to suppress logging.\n",
       ":offline          Set offline mode when invoking cargo\n",
       ":opt              Set optimization level (0/1/2)\n",
       ":preserve_vars_on_panic Try to keep vars on panic (0/1)\n",
       ":quit             Quit evaluation and exit\n",
       ":sccache          Set whether to use sccache (0/1).\n",
       ":time_passes      Toggle printing of rustc pass times (requires nightly)\n",
       ":timing           Toggle printing of how long evaluations take\n",
       ":toolchain        Set which toolchain to use (e.g. nightly)\n",
       ":vars             List bound variables and their types\n",
       ":version          Print Evcxr version\n"
      ]
     },
     "execution_count": 16,
     "metadata": {},
     "output_type": "execute_result"
    }
   ],
   "source": [
    ":help"
   ]
  },
  {
   "cell_type": "code",
   "execution_count": null,
   "id": "4ab7667b-95ea-45a9-ae98-29d4043304ab",
   "metadata": {},
   "outputs": [],
   "source": []
  }
 ],
 "metadata": {
  "kernelspec": {
   "display_name": "Rust",
   "language": "rust",
   "name": "rust"
  },
  "language_info": {
   "codemirror_mode": "rust",
   "file_extension": ".rs",
   "mimetype": "text/rust",
   "name": "Rust",
   "pygment_lexer": "rust",
   "version": ""
  }
 },
 "nbformat": 4,
 "nbformat_minor": 5
}
