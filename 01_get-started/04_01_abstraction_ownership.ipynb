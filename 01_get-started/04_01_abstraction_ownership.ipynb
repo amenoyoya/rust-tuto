{
 "cells": [
  {
   "cell_type": "markdown",
   "id": "778fb55f-b6da-4510-bc12-3ef97b394d35",
   "metadata": {},
   "source": [
    "# Rustの言語機能\n",
    "\n",
    "## ゼロコスト抽象化\n",
    "\n",
    "- **抽象化**:\n",
    "    - 複雑な仕組みのシステムの大まかな動きだけに注目できるようにすること\n",
    "    - 抽象化を行うことで実装したシステムを扱いやすくすることができる\n",
    "    - C++ や Java のようなオブジェクト指向言語:\n",
    "        - 複雑な仕組みを持つオブジェクトの内部では、様々なデータが保持されていてデータに合わせた処理が行われている\n",
    "        - 内部のデータと処理は密接な関係にあるため、この2つを紐付けてまとめ、あえてオブジェクトの外から見えなくすることで抽象化を実現する\n",
    "            - これを **カプセル化** と呼ぶ\n",
    "        - 処理の内容が少しだけ異なるオブジェクトがあるものの、それらの使い方が同じ場合、オブジェクトの外から見たときのインターフェイスを定め、使い方を共通化する\n",
    "            - これを **ポリモーフィズム** と呼ぶ\n",
    "- **ゼロコスト抽象化**:\n",
    "    - 抽象化されたコード表現から具体的な動作を導くための処理を行うために、実行時に余計な負荷がかかるプログラミング言語も多い\n",
    "    - ゼロコスト抽象化とは、抽象化した処理を実行するために必要な負荷を可能な限り小さくすることを意味する\n",
    "        - Rust や C++ などの言語では、抽象化された表現を具体的な処理に落とし込む作業をコンパイル時に行うことで、ゼロコスト抽象化を実現している\n",
    "\n",
    "### trait, dyn\n",
    "多くのオブジェクト指向言語では、クラスを使ってカプセル化やポリモーフィズムを実現している\n",
    "\n",
    "一方 Rust では、トレイトを使ってポリモーフィズムを実現している\n",
    "\n",
    "- **トレイト**:\n",
    "    - 様々な型に共通のメソッドを実装するように促すことができる仕組み\n",
    "    - Javaのインターフェイスに似た機能を提供し、必要なメソッドや型を定義することで、共通の振る舞いを構造体や列挙体に適用する"
   ]
  },
  {
   "cell_type": "code",
   "execution_count": 2,
   "id": "95955b00-f46a-4e16-be63-8ed68341e640",
   "metadata": {},
   "outputs": [
    {
     "name": "stdout",
     "output_type": "stream",
     "text": [
      "Coo!\n",
      "Coo!\n",
      "Coo!\n",
      "Uoooooooooooooooohhh!!!!\n",
      "Quack!\n",
      "Quack!\n",
      "Quack!\n",
      "Uoooooooooooooooohhh!!!!\n"
     ]
    }
   ],
   "source": [
    "/// 鳥のさえずりに関する共通の振る舞い\n",
    "trait Tweet {\n",
    "    fn tweet(&self); // tweetメソッドの実装が必要\n",
    "    \n",
    "    /// 2回 tweet するメソッド\n",
    "    fn tweet_twice(&self) {\n",
    "        self.tweet();\n",
    "        self.tweet();\n",
    "    }\n",
    "    \n",
    "    /// 叫ぶメソッド\n",
    "    fn shout(&self) {\n",
    "        println!(\"Uoooooooooooooooohhh!!!!\");\n",
    "    }\n",
    "}\n",
    "\n",
    "// => 上記トレイトを適用した型は tweet メソッドの実装を強制される\n",
    "\n",
    "/// 鳩(Dove) 構造体\n",
    "struct Dove;\n",
    "\n",
    "/// アヒル(Duck) 構造体\n",
    "struct Duck;\n",
    "\n",
    "// Dove構造体 に Tweetトレイト を適用\n",
    "impl Tweet for Dove {\n",
    "    /// tweetメソッド: Coo! とさえずる\n",
    "    fn tweet(&self) {\n",
    "        println!(\"Coo!\");\n",
    "    }\n",
    "}\n",
    "\n",
    "// Duck構造体 に Tweetトレイト を適用\n",
    "impl Tweet for Duck {\n",
    "    /// tweetメソッド: Quack! とさえずる\n",
    "    fn tweet(&self) {\n",
    "        println!(\"Quack!\");\n",
    "    }\n",
    "}\n",
    "\n",
    "fn main() {\n",
    "    let dove = Dove{};\n",
    "    dove.tweet(); // => Coo!\n",
    "    dove.tweet_twice(); // => Coo!\\nCoo!\n",
    "    dove.shout(); // => Uoooooooooooooooohhh!!!!\n",
    "    \n",
    "    let duck = Duck{};\n",
    "    duck.tweet(); // => Quack!\n",
    "    duck.tweet_twice(); // => Quack!\\nQuack!\n",
    "    duck.shout(); // => Uoooooooooooooooohhh!!!!\n",
    "}\n",
    "main();"
   ]
  },
  {
   "cell_type": "markdown",
   "id": "1644b6fd-9d04-4274-adf1-dd39fee75328",
   "metadata": {},
   "source": [
    "一般にメソッドの呼び出し方法には、動的ディスパッチと静的ディスパッチの2つがある\n",
    "\n",
    "- 動的ディスパッチ:\n",
    "    - メソッドが呼び出されたとき、呼び出したインスタンスを動的に確認し、それに合わせた処理を実行時に定める\n",
    "- 静的ディスパッチ:\n",
    "    - メソッドの呼び出し元インスタンスがコンパイル時点で分かっている場合、実行する処理をコンパイル時に定める\n",
    "    - コンパイル時点で処理が決まっているため、高速な処理が可能\n",
    "\n",
    "前述のようなコードの場合、`tweet` メソッドを呼び出すインスタンスの型はコンパイル時点で分かっている（`dove` は `Dove`, `duck` は `Duck`）ため、静的ディスパッチとなる\n",
    "\n",
    "しかし、静的ディスパッチでは解決できないシチュエーションもあり得るため、Rustでは動的ディスパッチもサポートしている\n",
    "\n",
    "動的ディスパッチを実現するためには `dyn` キーワードを用いる"
   ]
  },
  {
   "cell_type": "code",
   "execution_count": 3,
   "id": "147822fc-3d4f-4c36-abab-5d38354bfdba",
   "metadata": {},
   "outputs": [
    {
     "name": "stdout",
     "output_type": "stream",
     "text": [
      "Coo!\n",
      "Quack!\n"
     ]
    }
   ],
   "source": [
    "fn main() {\n",
    "    // Tweetトレイトを適用された何かしらの型のベクタ\n",
    "    // => Box<dyn Tweet>型: Tweet という共通トレイトを有するインスタンスを画一的なポインタとして扱う\n",
    "    let birds: Vec<Box<dyn Tweet>> = vec![\n",
    "        // Box<dyn Tweet> にまとめることで Dove も Duck も格納可能となる\n",
    "        Box::new(Dove{}),\n",
    "        Box::new(Duck{}),\n",
    "    ];\n",
    "    \n",
    "    for bird in &birds {\n",
    "        bird.tweet();\n",
    "    }\n",
    "}\n",
    "main();"
   ]
  },
  {
   "cell_type": "markdown",
   "id": "624dfd73-228b-466e-bd0b-9f0d6205174d",
   "metadata": {},
   "source": [
    "### マーカトレイト\n",
    "トレイトの中にはメソッドのない、それぞれの持つ意味や役割をしるし（マーカ）のように付与するものがある\n",
    "\n",
    "このようなトレイトをマーカトレイトと呼び、標準ライブラリでは `Copy` や `Sized` 等、以下のようなトレイトが定義されている\n",
    "\n",
    "- `Copy`\n",
    "    - 値の所有権を渡す代わりに、値のコピーを行うようにする（コピーセマンティクスの振る舞い）\n",
    "        - 所有権やコピーセマンティクスについては後述\n",
    "- `Send`\n",
    "    - スレッド境界を越えて所有権を転送できることを示す\n",
    "- `Sized`\n",
    "    - メモリ上でサイズが決まっていることを示す\n",
    "- `Sync`\n",
    "    - スレッド間で安全に参照を共有できることを示す\n",
    "\n",
    "これらのトレイトはデータを含んでいないため、実行時にはメモリ上にデータが存在しないが、コンパイラが安全性の検査や最適化を行う際に使用される\n",
    "\n",
    "### ジェネリクス\n",
    "あり特定の型のために用意した処理を、別の型にも用意する必要がある場合、全く同じ処理を複数用意するのは冗長である\n",
    "\n",
    "こういった場合のために、型自体を抽象化する仕組みとしてジェネリクスがある\n",
    "\n",
    "ジェネリクスはコンパイル時に解決され、必要な型の分だけ自動的に定義される\n",
    "\n",
    "そのため、プログラマは抽象的な記述をでき、かつプログラムの実行は高速に行われる（ゼロコスト抽象化）"
   ]
  },
  {
   "cell_type": "code",
   "execution_count": 4,
   "id": "32cb5bb8-9dd2-472c-a974-c03e8555a7e6",
   "metadata": {},
   "outputs": [],
   "source": [
    "/// 2要素のタプルを作る関数\n",
    "// どのような型の組み合わせでも処理できるように T, S というジェネリクス型を指定する\n",
    "fn make_tuple<T, S>(t: T, s: S) -> (T, S) {\n",
    "    (t, s)\n",
    "}\n",
    "\n",
    "// make_tuple<i32, i32>(1, 2)\n",
    "let t1 = make_tuple(1, 2); // => コンパイル時に make_tuple(i32, i32) -> (i32, i32) 関数が自動定義される\n",
    "\n",
    "// make_tuple<&str, &str>(\"Hello\", \"World\")\n",
    "let t1 = make_tuple(\"Hello\", \"World\"); // => コンパイル時に make_tuple(&str, &str) -> (&str, &str) 関数が自動定義される\n",
    "\n",
    "// make_tuple<i32, &str>(3, \"three\")\n",
    "let t1 = make_tuple(3, \"three\"); // => コンパイル時に make_tuple(i32, &str) -> (i32, &str) 関数が自動定義される"
   ]
  },
  {
   "cell_type": "markdown",
   "id": "9579022a-76c8-4684-b7cd-718fcffdce0f",
   "metadata": {},
   "source": [
    "## 所有権と借用\n",
    "\n",
    "Rustの重要な概念として 所有権, 借用, ライフタイム というキーワードがある\n",
    "\n",
    "Rustでは、それぞれの値に所有権があり、その所有権を持っているのは必ず1つの変数（所有者）だけである\n",
    "\n",
    "これはつまり、全ての値が C++ で言うところの `std::unique_ptr` 型で用意されているイメージに近い\n",
    "\n",
    "そのため、所有者である変数がスコープから外れた瞬間にその値は破棄されることになり、メモリ管理が非常に単純化されている\n",
    "\n",
    "これにより、C/C++ のようにメモリ管理が煩雑になることを防ぎつつ、Java やその他の多くの言語に搭載されているようなガベージコレクションによる処理の遅延も防ぐことができるようになっている\n",
    "\n",
    "一方、値の所有者が必ず1つに限られているということは、関数に値を引数で渡したりすると所有権が移ってしまい、元のルーチンに所有権を戻すのに苦労することになる\n",
    "\n",
    "このようなとき、その値の参照を貸し出すことができ、これを **借用** と呼ぶ\n",
    "\n",
    "つまり、所有権はもとの所有者のまま、その値を所有する権利だけ借り受けるということである\n",
    "\n",
    "ただし、値の参照を借用している間に、所有者である変数が値を破棄してしまうと、借用者は破棄されたメモリ領域を参照することになり危険である\n",
    "\n",
    "これを防ぐためには、参照は所有者よりも長生きであってはならず、安全に参照できる期間を明確に定める必要がある\n",
    "\n",
    "このような安全に借用可能なきかんのことを **ライフタイム** と呼ぶ\n",
    "\n",
    "### ムーブセマンティクス\n",
    "- **セマンティクス**:\n",
    "    - 意味論、意味づけのことを指す\n",
    "    - シンタックス（文法、記法）と対になる言葉\n",
    "\n",
    "多くのプログラミング言語では、ある変数と別の変数を `=` でつなげた場合、変数に紐付けられた値が右から左へコピーされる\n",
    "\n",
    "これをコピーセマンティクスと呼び、右側の変数と左側の変数は同一の値を持つが、それぞれの値が格納されているメモリ領域は別個となる\n",
    "\n",
    "```cpp\n",
    "// C++ の場合\n",
    "\n",
    "#include <cstdio>\n",
    "\n",
    "struct Color {\n",
    "    int r, g, b;\n",
    "};\n",
    "\n",
    "int main(int argc, char *argv[]) {\n",
    "    struct Color a = {255, 255, 255};\n",
    "    struct Color b = a; // 値がコピーされる => 新規に構造体 Color{255, 255, 255} が作られる\n",
    "    printf(\"%d %d %d\\n\", b.r, b.g, b.b); // => 255 255 255\n",
    "}\n",
    "```\n",
    "\n",
    "一方、Rustの場合はムーブセマンティクスと呼ばれる挙動となり、右側の変数が所持していた値の所有権が左側の変数に移動する\n",
    "\n",
    "これによりデフォルトで高速な処理が可能となっている"
   ]
  },
  {
   "cell_type": "code",
   "execution_count": 5,
   "id": "1d6ff108-5a9c-4bb8-9960-fa243e07e155",
   "metadata": {},
   "outputs": [
    {
     "ename": "Error",
     "evalue": "borrow of moved value: `a`",
     "output_type": "error",
     "traceback": [
      "    let b = a; // Color{r: 255, g: 255, b: 255} の所有権が a から b に移る",
      "\u001b[91m            ^\u001b[0m \u001b[94mvalue moved here\u001b[0m",
      "    println!(\"{} {} {}\", a.r, a.g, a.b);",
      "\u001b[91m                                   ^^^\u001b[0m \u001b[94mvalue borrowed here after move\u001b[0m",
      "    let a = Color{r: 255, g: 255, b: 255};",
      "\u001b[91m        ^\u001b[0m \u001b[94mmove occurs because `a` has type `Color`, which does not implement the `Copy` trait\u001b[0m",
      "borrow of moved value: `a`"
     ]
    }
   ],
   "source": [
    "struct Color {\n",
    "    r: i32,\n",
    "    g: i32,\n",
    "    b: i32,\n",
    "}\n",
    "\n",
    "fn main() {\n",
    "    let a = Color{r: 255, g: 255, b: 255};\n",
    "    let b = a; // Color{r: 255, g: 255, b: 255} の所有権が a から b に移る\n",
    "    \n",
    "    println!(\"{} {} {}\", b.r, b.g, b.b); // => 255 255 255\n",
    "    \n",
    "    // a はすでに所有権を持っていないため、以下のコードはコンパイルエラーとなる\n",
    "    println!(\"{} {} {}\", a.r, a.g, a.b);\n",
    "}\n",
    "main();"
   ]
  },
  {
   "cell_type": "markdown",
   "id": "9c724e22-d432-4b70-9544-8422367b6c53",
   "metadata": {},
   "source": [
    "### 借用\n",
    "ある関数に引数で値を渡すとき、Rustはムーブセマンティクスであるため、値の所有権ごと関数の引数に渡すことになる\n",
    "\n",
    "この場合、呼び出し元の処理に再び所有権を返すのは面倒である"
   ]
  },
  {
   "cell_type": "code",
   "execution_count": 6,
   "id": "b229e766-9d1e-400f-8600-43ecbbcda847",
   "metadata": {},
   "outputs": [
    {
     "ename": "Error",
     "evalue": "borrow of moved value: `important_data`",
     "output_type": "error",
     "traceback": [
      "    print_data(important_data); // ここでムーブセマンティクスが起こり、important_data は所有権を失う",
      "\u001b[91m               ^^^^^^^^^^^^^^\u001b[0m \u001b[94mvalue moved here\u001b[0m",
      "    println!(\"{}\", important_data); // important_data は所有権を持っていないためコンパイルエラーとなる",
      "\u001b[91m                   ^^^^^^^^^^^^^^\u001b[0m \u001b[94mvalue borrowed here after move\u001b[0m",
      "    let mut important_data = \"Hello, World!\".to_string();",
      "\u001b[91m        ^^^^^^^^^^^^^^^^^^\u001b[0m \u001b[94mmove occurs because `important_data` has type `String`, which does not implement the `Copy` trait\u001b[0m",
      "borrow of moved value: `important_data`"
     ]
    }
   ],
   "source": [
    "fn main() {\n",
    "    let mut important_data = \"Hello, World!\".to_string();\n",
    "    \n",
    "    print_data(important_data); // ここでムーブセマンティクスが起こり、important_data は所有権を失う\n",
    "    println!(\"{}\", important_data); // important_data は所有権を持っていないためコンパイルエラーとなる\n",
    "}\n",
    "\n",
    "fn print_data(data: String) {\n",
    "    println!(\"print: {}\", data);\n",
    "}\n",
    "\n",
    "main();"
   ]
  },
  {
   "cell_type": "code",
   "execution_count": 7,
   "id": "28e433c3-6d0c-4d87-8ca1-98486f3160b7",
   "metadata": {},
   "outputs": [
    {
     "name": "stdout",
     "output_type": "stream",
     "text": [
      "print: Hello, World!\n",
      "Hello, World!\n"
     ]
    }
   ],
   "source": [
    "/// 上記問題を解決するためには、呼び出し元に値の所有権を返す必要がある\n",
    "\n",
    "fn main() {\n",
    "    let mut important_data = \"Hello, World!\".to_string();\n",
    "    \n",
    "    important_data = print_data(important_data); // important_data 関数実行時に所有権を失い、戻り値として再び所有権を手に入れる\n",
    "    println!(\"{}\", important_data); // important_data は所有権を持っているためOK\n",
    "}\n",
    "\n",
    "// 所有権を返すバージョン\n",
    "fn print_data(data: String) -> String {\n",
    "    println!(\"print: {}\", data);\n",
    "    data\n",
    "}\n",
    "\n",
    "main();"
   ]
  },
  {
   "cell_type": "markdown",
   "id": "55c3009a-487c-4ce4-ba5a-e96580f2f35d",
   "metadata": {},
   "source": [
    "上記のように、一旦渡したものを再び返してもらうような処理を毎回書くのは非効率的である\n",
    "\n",
    "そこで、関数の引数には値の参照を渡すようにして、借用の概念を実現する\n",
    "\n",
    "なお参照とは、別の変数に値の所有権を譲渡するのではなく、値へのアクセスを許可する方法である"
   ]
  },
  {
   "cell_type": "code",
   "execution_count": 8,
   "id": "1118707c-9cc5-4904-a5cc-c44c22a992f8",
   "metadata": {},
   "outputs": [
    {
     "name": "stdout",
     "output_type": "stream",
     "text": [
      "print: Hello, World!\n",
      "Hello, World!\n"
     ]
    }
   ],
   "source": [
    "fn main() {\n",
    "    let mut important_data = \"Hello, World!\".to_string();\n",
    "    \n",
    "    print_data(&important_data); // important_data の参照を渡し、値へのアクセス権のみを貸し出す\n",
    "    println!(\"{}\", important_data); // important_data は所有権を持ったままのためOK\n",
    "}\n",
    "\n",
    "// 参照を借用するバージョン\n",
    "fn print_data(data: &String) {\n",
    "    println!(\"print: {}\", data);\n",
    "}\n",
    "\n",
    "main();"
   ]
  },
  {
   "cell_type": "markdown",
   "id": "4bef1885-3008-4925-ab2d-f72321a7212c",
   "metadata": {},
   "source": [
    "借用を行う場合、元の変数が可変か不変かは重要である\n",
    "\n",
    "不変な変数の参照は、いくつ参照を渡したとしても問題はない\n",
    "\n",
    "参照先から値を変更されることはないためである\n",
    "\n",
    "一方、可変な参照の場合、一度に渡せる参照は1つだけである\n",
    "\n",
    "これは複数の参照が可能になった場合、複数の参照先に同時に値の更新が発生したときに、予期せず値が破壊されてしまう可能性があるためである\n",
    "\n",
    "また、可変な参照と不変な参照を同時に存在させることもできない\n",
    "\n",
    "不変参照の変数にとっては、可変参照の変数によって値が変更されることを予期していないためである"
   ]
  },
  {
   "cell_type": "code",
   "execution_count": 10,
   "id": "ec718ada-88d7-4e7b-befe-47069ea785be",
   "metadata": {},
   "outputs": [
    {
     "name": "stderr",
     "output_type": "stream",
     "text": [
      "[src/lib.rs:186] x = 5\n",
      "[src/lib.rs:187] y = 5\n",
      "[src/lib.rs:188] z = 5\n"
     ]
    },
    {
     "data": {
      "text/plain": [
       "()"
      ]
     },
     "execution_count": 10,
     "metadata": {},
     "output_type": "execute_result"
    }
   ],
   "source": [
    "{\n",
    "    let x = 5;\n",
    "    let y = &x; // 不変参照1: 問題ない\n",
    "    let z = &x; // 不変参照2: 問題ない\n",
    "\n",
    "    dbg!(x);\n",
    "    dbg!(y);\n",
    "    dbg!(z);\n",
    "}"
   ]
  },
  {
   "cell_type": "code",
   "execution_count": 11,
   "id": "f711a734-74da-4c80-9eab-f8cc4e61fdc4",
   "metadata": {},
   "outputs": [
    {
     "ename": "Error",
     "evalue": "cannot borrow `x` as mutable more than once at a time",
     "output_type": "error",
     "traceback": [
      "    let y = &mut x; // 可変参照1: 問題ない",
      "\u001b[91m            ^^^^^^\u001b[0m \u001b[94mfirst mutable borrow occurs here\u001b[0m",
      "    let z = &mut x; // 可変参照2: エラー",
      "\u001b[91m            ^^^^^^\u001b[0m \u001b[94msecond mutable borrow occurs here\u001b[0m",
      "    dbg!(y);",
      "\u001b[91m         ^\u001b[0m \u001b[94mfirst borrow later used here\u001b[0m",
      "cannot borrow `x` as mutable more than once at a time"
     ]
    },
    {
     "ename": "Error",
     "evalue": "cannot use `x` because it was mutably borrowed",
     "output_type": "error",
     "traceback": [
      "    let y = &mut x; // 可変参照1: 問題ない",
      "\u001b[91m            ^^^^^^\u001b[0m \u001b[94mborrow of `x` occurs here\u001b[0m",
      "    dbg!(x);",
      "\u001b[91m    ^^^^^^^^\u001b[0m \u001b[94muse of borrowed `x`\u001b[0m",
      "    dbg!(y);",
      "\u001b[91m         ^\u001b[0m \u001b[94mborrow later used here\u001b[0m",
      "cannot use `x` because it was mutably borrowed"
     ]
    }
   ],
   "source": [
    "{\n",
    "    let mut x = 5;\n",
    "    let y = &mut x; // 可変参照1: 問題ない\n",
    "    let z = &mut x; // 可変参照2: エラー\n",
    "    \n",
    "    dbg!(x);\n",
    "    dbg!(y);\n",
    "    dbg!(z);\n",
    "}"
   ]
  },
  {
   "cell_type": "code",
   "execution_count": 12,
   "id": "c1f47ef4-4085-4a1e-beb9-57cbdacaf6ac",
   "metadata": {},
   "outputs": [
    {
     "ename": "Error",
     "evalue": "cannot borrow `x` as mutable because it is also borrowed as immutable",
     "output_type": "error",
     "traceback": [
      "    let z = &mut x; // 可変参照1: エラー",
      "\u001b[91m            ^^^^^^\u001b[0m \u001b[94mmutable borrow occurs here\u001b[0m",
      "    let y = &x; // 不変参照1: 問題ない",
      "\u001b[91m            ^^\u001b[0m \u001b[94mimmutable borrow occurs here\u001b[0m",
      "    dbg!(y);",
      "\u001b[91m         ^\u001b[0m \u001b[94mimmutable borrow later used here\u001b[0m",
      "cannot borrow `x` as mutable because it is also borrowed as immutable"
     ]
    }
   ],
   "source": [
    "{\n",
    "    let mut x = 5;\n",
    "    let y = &x; // 不変参照1: 問題ない\n",
    "    let z = &mut x; // 可変参照1: エラー\n",
    "    \n",
    "    dbg!(y);\n",
    "    dbg!(z);\n",
    "}"
   ]
  },
  {
   "cell_type": "markdown",
   "id": "04459609-0226-4651-a583-c2628fad6bbb",
   "metadata": {},
   "source": [
    "### ライフタイム\n",
    "変数参照の可変・不変に関わらず、参照はもとの所有者よりも長く生存することはできない\n",
    "\n",
    "もとの所有者が値を破棄してしまった場合に、参照先が消失してしまうためである"
   ]
  },
  {
   "cell_type": "code",
   "execution_count": 13,
   "id": "254cb903-302c-4bdd-a6eb-fb45b5c5ed38",
   "metadata": {},
   "outputs": [
    {
     "ename": "Error",
     "evalue": "`x` does not live long enough",
     "output_type": "error",
     "traceback": [
      "        y = &x;    // | | y のライフタイム",
      "\u001b[91m            ^^\u001b[0m \u001b[94mborrowed value does not live long enough\u001b[0m",
      "    }              //   |",
      "\u001b[91m    ^\u001b[0m \u001b[94m`x` dropped here while still borrowed\u001b[0m",
      "    dbg!(y);       //   |",
      "\u001b[91m         ^\u001b[0m \u001b[94mborrow later used here\u001b[0m",
      "`x` does not live long enough"
     ]
    }
   ],
   "source": [
    "{\n",
    "    let y;\n",
    "    {\n",
    "        let x = 5; // | x のライフタイム\n",
    "        y = &x;    // | | y のライフタイム\n",
    "        dbg!(x);   // | |\n",
    "    }              //   |\n",
    "    dbg!(y);       //   |\n",
    "    // => x よりも y が長く生存してはならない: エラー\n",
    "}"
   ]
  },
  {
   "cell_type": "markdown",
   "id": "f5b526c3-3e18-45e3-8c31-4c0c731eedce",
   "metadata": {},
   "source": [
    "借用にはいくつの厳密なルールが存在し、Rustに慣れない内は謎のコンパイルエラーに悩まされることも多い\n",
    "\n",
    "しかしながら、これらのルールはプログラミングを安全に行うためのルールであるため、慣れてさえしまえば、コンパイラによるエラーチェックにより快適なプログラミングができるようになるはずである\n",
    "\n",
    "#### ライフタイム決定の流れ\n",
    "Rustの借用チェッカーは、リソースのライフタイムを調べるために、次の2つのライフタイムに注目している\n",
    "\n",
    "1. 参照のライフタイム\n",
    "    - 参照が利用されている期間に対応したライフタイム\n",
    "2. 値のライフタイム\n",
    "    - 値が解放される直前までの期間に対応したライフタイム\n",
    "\n",
    "これらのライフタイムは、制御フローをベースに特定される"
   ]
  },
  {
   "cell_type": "code",
   "execution_count": 14,
   "id": "b1cc43f1-bbfd-4535-a8e6-b7ff50811bb7",
   "metadata": {},
   "outputs": [
    {
     "ename": "Error",
     "evalue": "unused variable: `z`",
     "output_type": "error",
     "traceback": [
      "    let z = &mut x; // | | | z のライフタイム: 不変参照とか変参照が同時に存在するためエラー",
      "\u001b[91m        ^\u001b[0m \u001b[94m\u001b[0m",
      "unused variable: `z`",
      "\u001b[1mhelp\u001b[0m: if this is intentional, prefix it with an underscore\n\n_z"
     ]
    },
    {
     "ename": "Error",
     "evalue": "cannot borrow `x` as mutable because it is also borrowed as immutable",
     "output_type": "error",
     "traceback": [
      "    let z = &mut x; // | | | z のライフタイム: 不変参照とか変参照が同時に存在するためエラー",
      "\u001b[91m            ^^^^^^\u001b[0m \u001b[94mmutable borrow occurs here\u001b[0m",
      "    let y = &x;     // | | y のライフタイム",
      "\u001b[91m            ^^\u001b[0m \u001b[94mimmutable borrow occurs here\u001b[0m",
      "    dbg!(y);        // | |",
      "\u001b[91m         ^\u001b[0m \u001b[94mimmutable borrow later used here\u001b[0m",
      "cannot borrow `x` as mutable because it is also borrowed as immutable"
     ]
    }
   ],
   "source": [
    "{\n",
    "    let mut x = 5;  // | x のライフタイム\n",
    "    let y = &x;     // | | y のライフタイム\n",
    "    let z = &mut x; // | | | z のライフタイム: 不変参照と可変参照が同時に存在するためエラー\n",
    "    dbg!(y);        // | |\n",
    "    dbg!(x);        // |\n",
    "}"
   ]
  },
  {
   "cell_type": "code",
   "execution_count": 15,
   "id": "b4cfd4c9-f339-48cd-8735-6532db67457b",
   "metadata": {},
   "outputs": [
    {
     "name": "stderr",
     "output_type": "stream",
     "text": [
      "[src/lib.rs:185] z = 5\n",
      "[src/lib.rs:186] x = 5\n"
     ]
    },
    {
     "data": {
      "text/plain": [
       "()"
      ]
     },
     "execution_count": 15,
     "metadata": {},
     "output_type": "execute_result"
    }
   ],
   "source": [
    "{\n",
    "    let mut x = 5;  // | x のライフタイム\n",
    "    let y = &x;     // | | y のライフタイム\n",
    "    let z = &mut x; // |   | z のライフタイム: yのライフタイムが切れているため可変参照が存在できる\n",
    "    dbg!(z);        // |   |\n",
    "    dbg!(x);        // |\n",
    "}"
   ]
  },
  {
   "cell_type": "markdown",
   "id": "31246352-697e-4a89-b3cc-d6221db04ffe",
   "metadata": {},
   "source": [
    "#### ライフタイム注釈記法\n",
    "ライフタイム注釈は、いかなる参照の生存期間も変えることはない\n",
    "\n",
    "シグネチャにジェネリックな型引数を指定された関数が、あらゆる型を受け取ることができるのと同様に、ジェネリックなライフタイム引数を指定された関数は、あらゆるライフタイムの参照を受け取ることができる\n",
    "\n",
    "ライフタイム注釈は、ライフタイムに影響することなく、複数の参照のライフタイムのお互いの関係を記述するための記法で、以下のように記述される\n",
    "\n",
    "- ライフタイム引数の名前はアポストロフィー(`'`)で始まらなければならず、通常全て小文字で記述される\n",
    "    - 基本的には、ジェネリクス型のように短い名前で命名される\n",
    "    - 多くの場合、`'a` という名前が使われる\n",
    "- ライフタイム引数注釈は、参照の `&` の後に配置し、注釈と参照の型を区別するために空白を1つ使用する\n",
    "\n",
    "```rust\n",
    "&i32        // (ただの)参照\n",
    "&'a i32     // 明示的なライフタイム付きの参照\n",
    "&'a mut i32 // 明示的なライフタイム付きの可変参照\n",
    "```\n",
    "\n",
    "1つのライフタイム注釈それだけでは、大した意味はない\n",
    "\n",
    "注釈は、複数の参照のジェネリックなライフタイム引数が、お互いにどう関係するかをコンパイラに指示することを意図しているためである\n",
    "\n",
    "例えば、ライフタイム `'a` 付きの i32型 への参照となる引数 `first` を受け取る関数があるとする\n",
    "\n",
    "この関数にはさらに、`'a` のライフタイム付きの i32型 への別の参照となる `second` という別の引数もあるとする\n",
    "\n",
    "ライフタイム注釈は、`first` と `second` の参照がどちらもこのジェネリックなライフタイムと同じだけ生きることを明示することになる\n",
    "\n",
    "```rust\n",
    "fn some_function<'a>(first: &'a i32, second: &'a i32) {\n",
    "    // first と second はともに同じライフタイム 'a だけ生きる\n",
    "}\n",
    "```\n",
    "\n",
    "### RAII\n",
    "- **RAII**: Resource Acquisition Is Initialization\n",
    "    - リソースの取得は初期化である、という意味\n",
    "    - わかりやすく言えば、変数の初期化時にリソースの確保を行い、変数を破棄するときにリソースの解放を行う、ということ\n",
    "        - これを正しく行わないと、メモリリーク等のリソースのリーク問題が発生することになる\n",
    "\n",
    "Rustでは、各変数のライフタイムを厳密に管理しているため、変数がスコープから外れた瞬間に確保していたリソースは解放されることになる\n",
    "\n",
    "このとき、「開いているファイルを閉じる」「接続しているネットワークから切断する」等の振る舞いを定義しておかないと、リソースのリーク問題が発生してしまう\n",
    "\n",
    "これを防ぐために、Rustでは、デストラクタを定義するための `Drop` トレイトが用意されている"
   ]
  },
  {
   "cell_type": "code",
   "execution_count": 16,
   "id": "90b9a06b-bd7b-4f1a-b90e-aebe055dbc4c",
   "metadata": {},
   "outputs": [
    {
     "name": "stdout",
     "output_type": "stream",
     "text": [
      "Resource will be released!\n",
      "The Droppable instance is dropped.\n"
     ]
    }
   ],
   "source": [
    "struct Droppable;\n",
    "\n",
    "// Dropトレイト を Droppable構造体 に適用\n",
    "impl Drop for Droppable {\n",
    "    // dropメソッドにてデストラクタを定義可能\n",
    "    fn drop(&mut self) {\n",
    "        println!(\"Resource will be released!\");\n",
    "    }\n",
    "}\n",
    "\n",
    "fn main() {\n",
    "    {\n",
    "        let d = Droppable{};\n",
    "    } // d のライフタイムが切れる => Droppable::drop メソッドが呼ばれる => Resource will be released!\n",
    "    println!(\"The Droppable instance is dropped.\");\n",
    "}\n",
    "main();"
   ]
  },
  {
   "cell_type": "code",
   "execution_count": null,
   "id": "18b115ac-ca4a-441a-974a-49c26c92653c",
   "metadata": {},
   "outputs": [],
   "source": []
  }
 ],
 "metadata": {
  "kernelspec": {
   "display_name": "Rust",
   "language": "rust",
   "name": "rust"
  },
  "language_info": {
   "codemirror_mode": "rust",
   "file_extension": ".rs",
   "mimetype": "text/rust",
   "name": "Rust",
   "pygment_lexer": "rust",
   "version": ""
  }
 },
 "nbformat": 4,
 "nbformat_minor": 5
}
