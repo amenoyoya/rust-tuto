{
 "cells": [
  {
   "cell_type": "markdown",
   "id": "63606990-b3cb-4927-80fe-094524415a2b",
   "metadata": {},
   "source": [
    "# Rust 基本文法\n",
    "\n",
    "## 関数\n",
    "\n",
    "関数とは何かしらの値を受け取り、それらを処理した結果の値を返すものである\n",
    "\n",
    "### fn\n",
    "関数を定義するためには `fn` キーワードを用いる"
   ]
  },
  {
   "cell_type": "code",
   "execution_count": 2,
   "id": "016b1c55-f3e7-49d0-a878-71cc6e55a822",
   "metadata": {},
   "outputs": [
    {
     "name": "stdout",
     "output_type": "stream",
     "text": [
      "30, -10\n"
     ]
    }
   ],
   "source": [
    "/// add: i32型 の引数 a, b を受け取り、それらを加算した結果の i32型 の値を返す関数\n",
    "fn add(a: i32, b: i32) -> i32 {\n",
    "    return a + b; // return 文で戻り値を指定\n",
    "}\n",
    "\n",
    "/// sub: i32型 の引数 a, b を受け取り、それらを減算した結果の i32型 の値を返す関数\n",
    "fn sub(a: i32, b: i32) -> i32 {\n",
    "    a - b // Rust は最後に評価した式は自動的に return される (; を付けると文になってしまうため注意)\n",
    "}\n",
    "\n",
    "fn main() {\n",
    "    let a = 10;\n",
    "    let b = 20;\n",
    "    let added = add(a, b); // => 30\n",
    "    let subbed = sub(a, b); // => -10\n",
    "    \n",
    "    println!(\"{}, {}\", added, subbed);\n",
    "}\n",
    "main();"
   ]
  },
  {
   "cell_type": "markdown",
   "id": "9c0a5c3a-9e45-41b5-9fde-dad720986450",
   "metadata": {},
   "source": [
    "### クロージャ\n",
    "Rustにおけるクロージャとは、変数に束縛できたり、関数の引数として渡すことのできる無名関数のことである\n",
    "\n",
    "クロージャはその呼び出し元のスコープにある変数をキャプチャすることもできる\n",
    "\n",
    "厳密に言うと、無名関数の中で束縛していない変数のことを自由変数と言い、自由変数をまとめた環境を無名関数のスコープ内に閉じこめたものをクロージャと呼ぶ\n",
    "\n",
    "クロージャは `||` で定義し、引数があれば `|param1: Type1, param2: Type2|` のように `||` の間に入れる\n",
    "\n",
    "その後に `{}` で本体を記述するが、本体が式1つだけであれば `{}` を省略することができる\n",
    "\n",
    "次のコードは関数とそれと同じ振る舞いをするクロージャの例である\n",
    "\n",
    "```rust\n",
    "fn  add_one_v1   (x: u32) -> u32 { x + 1 }\n",
    "let add_one_v2 = |x: u32| -> u32 { x + 1 };\n",
    "let add_one_v3 = |x|             { x + 1 };\n",
    "let add_one_v4 = |x|               x + 1  ;\n",
    "```\n",
    "\n",
    "クロージャはそれぞれ独自の型を持っており、`Fn`, `FnMut`, `FnOnce` トレイトのいずれかのインスタンスとなっている\n",
    "\n",
    "それぞれ `&self`, `&mut self`, `self` を内部的に引数として受け取っているかどうかの違いがある\n",
    "\n",
    "また、`Fn` は `FnMut` を、`FnMut` は `FnOnce` を継承している\n",
    "\n",
    "#### Fn と fn\n",
    "`Fn` トレイトと `fn` キーワードは別ものである\n",
    "\n",
    "`fn` は関数定義で使うが、同時に型でもある\n",
    "\n",
    "そして、`fn` のことを **関数ポインタ** と呼ぶ\n",
    "\n",
    "`fn` は `Fn` のインスタンスであるため、`FnMut`, `FnOnce` のインスタンスでもある、という関係になっている\n",
    "\n",
    "なお、クロージャはトレイトで実装されているため、コンパイル時にサイズがわからない\n",
    "\n",
    "そのため、例えば、次のようにクロージャを返す関数はエラーになる"
   ]
  },
  {
   "cell_type": "code",
   "execution_count": 2,
   "id": "082002b4-96de-4937-8206-940e82f4e304",
   "metadata": {},
   "outputs": [
    {
     "ename": "Error",
     "evalue": "trait objects without an explicit `dyn` are deprecated",
     "output_type": "error",
     "traceback": [
      "fn get_closure() -> Fn(i32) -> i32 {",
      "\u001b[91m                    ^^^^^^^^^^^^^^\u001b[0m \u001b[94m\u001b[0m",
      "trait objects without an explicit `dyn` are deprecated",
      "\u001b[1mhelp\u001b[0m: use `dyn`\n\ndyn Fn(i32) -> i32"
     ]
    },
    {
     "ename": "Error",
     "evalue": "return type cannot have an unboxed trait object",
     "output_type": "error",
     "traceback": [
      "fn get_closure() -> Fn(i32) -> i32 {",
      "\u001b[91m                    ^^^^^^^^^^^^^^\u001b[0m \u001b[94mdoesn't have a size known at compile-time\u001b[0m",
      "return type cannot have an unboxed trait object",
      "\u001b[1mhelp\u001b[0m: use `impl Fn(i32) -> i32` as the return type, as all return paths are of type `[closure@src/lib.rs:5:5: 5:14]`, which implements `Fn(i32) -> i32`\n\nimpl Fn(i32) -> i32"
     ]
    }
   ],
   "source": [
    "/// クロージャを返す関数\n",
    "// => サイズ不明のためコンパイルエラー\n",
    "fn get_closure() -> Fn(i32) -> i32 {\n",
    "    |x| x + 1\n",
    "}"
   ]
  },
  {
   "cell_type": "code",
   "execution_count": 3,
   "id": "0b39fe03-cfd5-4866-a96a-198e05da7380",
   "metadata": {},
   "outputs": [
    {
     "name": "stdout",
     "output_type": "stream",
     "text": [
      "2\n"
     ]
    }
   ],
   "source": [
    "// 上記エラーを解決するためには、Box型で包んでヒープ領域にクロージャを保存するようにすれば良い\n",
    "// これにより get_closure が返すのはトレイトではなく関数ポインタとなり、問題なくコンパイルできるようになる\n",
    "\n",
    "fn get_closure() -> Box<Fn(i32) -> i32> {\n",
    "    Box::new(|x| x + 1)\n",
    "}\n",
    "\n",
    "let increment = get_closure();\n",
    "println!(\"{}\", increment(1)); // => 2"
   ]
  },
  {
   "cell_type": "markdown",
   "id": "5ecc29e7-3504-47bc-b14e-89c183ec2d4d",
   "metadata": {},
   "source": [
    "#### キャプチャ\n",
    "クロージャではスコープ内の変数を自動的にキャプチャして参照することができる\n",
    "\n",
    "ここで、クロージャのキャプチャは、所有権の移動（ムーブセマンティクス）ではなく参照のコピー（借用）であるという点に注意が必要である\n",
    "\n",
    "詳しくはスレッドの項にて解説する"
   ]
  },
  {
   "cell_type": "code",
   "execution_count": 5,
   "id": "9500f857-2473-407c-ab8f-503384cd6486",
   "metadata": {},
   "outputs": [
    {
     "name": "stdout",
     "output_type": "stream",
     "text": [
      "1\n",
      "2\n",
      "3\n",
      "4\n",
      "5\n",
      "6\n",
      "7\n",
      "8\n",
      "9\n",
      "10\n"
     ]
    },
    {
     "data": {
      "text/plain": [
       "()"
      ]
     },
     "execution_count": 5,
     "metadata": {},
     "output_type": "execute_result"
    }
   ],
   "source": [
    "for x in 0..10 {\n",
    "    let get_next = || x + 1; // x を参照可能\n",
    "    println!(\"{}\", get_next());\n",
    "}"
   ]
  },
  {
   "cell_type": "markdown",
   "id": "2fbd9245-c94e-4e36-a89a-7ea7ca508efc",
   "metadata": {},
   "source": [
    "### impl\n",
    "Rustはオブジェクト指向言語ではないが、ある構造体に関係の深い関数を紐付けて定義することで、オブジェクト指向風の書き方をすることが可能\n",
    "\n",
    "`impl` キーワードを使うことで、構造体にメソッドを加えることが可能である"
   ]
  },
  {
   "cell_type": "code",
   "execution_count": 3,
   "id": "a4d15a88-b6c5-4398-92ab-e667fecb2578",
   "metadata": {},
   "outputs": [
    {
     "name": "stdout",
     "output_type": "stream",
     "text": [
      "I am John.\n",
      "I am 10 year(s) old.\n"
     ]
    }
   ],
   "source": [
    "// 自作型: Person構造体\n",
    "struct Person {\n",
    "    name: String,\n",
    "    age: u32,\n",
    "}\n",
    "\n",
    "// Person構造体に関数を紐付けていく\n",
    "impl Person {\n",
    "    // impl ブロック内で定義する関数の第一引数には、構造体へのポインタを渡す\n",
    "    // 戻り値に自分自身のポインタを指定することでメソッドチェーンを使うことができるようになる\n",
    "    // ※ メソッドチェーン: person.say_hello().say_age()... のようにメソッドを連ねること\n",
    "    fn say_hello(&self) -> &Self {\n",
    "        println!(\"I am {}.\", self.name);\n",
    "        self\n",
    "    }\n",
    "    \n",
    "    fn say_age(&self) -> &Self {\n",
    "        println!(\"I am {} year(s) old.\", self.age);\n",
    "        self\n",
    "    }\n",
    "    \n",
    "    // 構造体の値を変更したい場合は第一引数に mutable 構造体ポインタを渡す\n",
    "    fn set_age(&mut self, age: u32) -> &Self {\n",
    "        self.age = age;\n",
    "        self\n",
    "    }\n",
    "}\n",
    "\n",
    "fn main() {\n",
    "    let mut p = Person{\n",
    "        name: String::from(\"John\"),\n",
    "        age: 0,\n",
    "    };\n",
    "    \n",
    "    // impl で紐付けた関数は、オブジェクト指向のメソッドのような記述方法で呼び出すことができる\n",
    "    // ※ 自動的に第一引数に対象の構造体のポインタが渡される\n",
    "    p\n",
    "        .set_age(10) // set_age(&p, 10) => p.age: 10\n",
    "        .say_hello() // => I am John.\n",
    "        .say_age(); // => I am 10 year(s) old.\n",
    "}\n",
    "main();"
   ]
  },
  {
   "cell_type": "markdown",
   "id": "6cecf755-4047-4de8-aa8d-9e4346a9ef5d",
   "metadata": {},
   "source": [
    "## マクロ\n",
    "\n",
    "Rustでは抽象構文木に直接影響を与えるような強力なマクロ機能を使うことができる\n",
    "\n",
    "ここでは、関数のように扱えるマクロと、`#[derive]` attribute (定義の前の行に付与して該当定義を拡張する表現) によって実装を自動的に導出するマクロの2種類を解説する\n",
    "\n",
    "### 標準ライブラリのマクロ\n",
    "Rustではいくつかのマクロが標準で提供されている\n",
    "\n",
    "- https://github.com/rust-lang/rust/blob/master/library/core/src/macros/mod.rs\n",
    "\n",
    "マクロ呼び出しには `!` が付き、関数呼び出しと見た目で区別できるようになっている\n",
    "\n",
    "なお、マクロ定義では慣例的に、Rustの構文と見た目が合うような括弧が使われる\n",
    "\n",
    "例えば関数呼び出し的なマクロなら `()`、コードブロックを引数に取るようなマクロなら `{}` といった具合である\n",
    "\n",
    "#### 文字列操作マクロ\n",
    "- `format!`\n",
    "    - フォーマット文字列と値から文字列を作成するマクロ\n",
    "    - 文字列スライスを結合して新しい文字列を作成する際にも使われる\n",
    "    - フォーマット文字列:\n",
    "        - `{:?}`\n",
    "            - std::fmt::Debug トレイトで定義\n",
    "            - データの内部情報の文字列表現\n",
    "            - 自作型で定義する場合は `#[derive(Debug)]` attribute で実装する\n",
    "        - `{}`\n",
    "            - std::fmt::Display トレイトで定義\n",
    "            - ユーザに提示するためのシンプルな文字列\n",
    "            - 自作型で定義する場合は impl キーワードで実装する必要がある\n",
    "- concat!\n",
    "    - リテラルを結合するマクロ"
   ]
  },
  {
   "cell_type": "code",
   "execution_count": 4,
   "id": "d30e9959-5b6a-4691-a067-8af7913a47dc",
   "metadata": {},
   "outputs": [
    {
     "name": "stdout",
     "output_type": "stream",
     "text": [
      "Ab23\n",
      "c-(\"D\", 5)\n"
     ]
    }
   ],
   "source": [
    "fn main() {\n",
    "    let s = concat!(\"A\", \"b2\", 3);\n",
    "    println!(\"{}\", s); // => Ab23\n",
    "    \n",
    "    let s = format!(\"{}-{:?}\", \"c\", (\"D\", 5));\n",
    "    println!(\"{}\", s); // => c-(\"D\", 5)\n",
    "}\n",
    "main();"
   ]
  },
  {
   "cell_type": "markdown",
   "id": "ca17cf7a-d2bd-4208-b721-376ac163b9c3",
   "metadata": {},
   "source": [
    "#### データ出力用マクロ\n",
    "- `print!`, `println!`\n",
    "    - フォーマット結果を標準出力に出力するマクロ\n",
    "    - `print!` は末尾改行なしで、`println!` は末尾改行ありで出力する\n",
    "- `eprint!`, `eprintln!`\n",
    "    - フォーマット結果を標準エラーに出力するマクロ\n",
    "- `write!`, `writeln!`\n",
    "    - バッファーにバイト列を出力するマクロ\n",
    "- `dbg!`\n",
    "    - 呼び出し元のファイル名、行数、式、式の値を標準エラーに出力するマクロ"
   ]
  },
  {
   "cell_type": "code",
   "execution_count": 5,
   "id": "12dd4072-1fda-4d1e-a5f9-740dc01c93c5",
   "metadata": {},
   "outputs": [
    {
     "name": "stdout",
     "output_type": "stream",
     "text": [
      "Hello, World!!\n"
     ]
    },
    {
     "name": "stderr",
     "output_type": "stream",
     "text": [
      "Error: I'm error message\n",
      "[src/lib.rs:47] bytes = [\n",
      "    65,\n",
      "    66,\n",
      "    67,\n",
      "    105,\n",
      "    115,\n",
      "    32,\n",
      "    49,\n",
      "    50,\n",
      "    51,\n",
      "    10,\n",
      "]\n"
     ]
    }
   ],
   "source": [
    "use std::io::Write; // write, writeln マクロを使うため\n",
    "\n",
    "fn main() {\n",
    "    print!(\"Hello, \");\n",
    "    println!(\"World!!\");\n",
    "    eprint!(\"{}: \", \"Error\");\n",
    "    eprintln!(\"{}\", \"I'm error message\");\n",
    "    \n",
    "    let mut bytes = Vec::new(); // バイト列書き込み用のベクタ\n",
    "    write!(&mut bytes, \"{}\", \"ABC\"); // UTF-8バイト列で 65, 66, 67 書き込み\n",
    "    writeln!(&mut bytes, \"{}\", \"is 123\"); // UTF-8バイト列で 32, 105, 115, 32, 49, 50, 51, 10(\\n) 書き込み\n",
    "    \n",
    "    // デバッグ: フォーマット文字列は使えない\n",
    "    dbg!(bytes);\n",
    "}\n",
    "main();"
   ]
  },
  {
   "cell_type": "markdown",
   "id": "27957202-9c25-41a1-8200-afc2e5389996",
   "metadata": {},
   "source": [
    "#### 異常終了用のマクロ\n",
    "- `panic!`\n",
    "    - プログラムを異常終了するマクロ"
   ]
  },
  {
   "cell_type": "code",
   "execution_count": 6,
   "id": "3f97be9b-3c36-4f86-80fc-0ca7917f5843",
   "metadata": {},
   "outputs": [
    {
     "name": "stderr",
     "output_type": "stream",
     "text": [
      "thread '<unnamed>' panicked at 'it will panic', src/lib.rs:37:5\n",
      "stack backtrace:\n",
      "   0: std::panicking::begin_panic\n",
      "   1: __ImageBase\n",
      "   2: run_user_code_5\n",
      "   3: <unknown>\n",
      "   4: <unknown>\n",
      "   5: <unknown>\n",
      "   6: <unknown>\n",
      "   7: <unknown>\n",
      "   8: <unknown>\n",
      "   9: <unknown>\n",
      "  10: <unknown>\n",
      "  11: BaseThreadInitThunk\n",
      "  12: RtlUserThreadStart\n",
      "note: Some details are omitted, run with `RUST_BACKTRACE=full` for a verbose backtrace.\n"
     ]
    },
    {
     "ename": "Error",
     "evalue": "Child process terminated with status: exit code: 0xc0000005",
     "output_type": "error",
     "traceback": [
      "Child process terminated with status: exit code: 0xc0000005"
     ]
    }
   ],
   "source": [
    "fn main() {\n",
    "    panic!(\"it will panic\");\n",
    "}\n",
    "main();"
   ]
  },
  {
   "cell_type": "markdown",
   "id": "0b6f975a-5588-4f87-8011-225a10922df6",
   "metadata": {},
   "source": [
    "#### ベクタを初期化するマクロ\n",
    "- `vec!`\n",
    "    - `Vec<T>` を手軽に初期化するマクロ\n",
    "    - 配列と同じ記法になるように、慣例的に `[]` を使って呼び出す\n",
    "\n",
    "#### プログラム外のリソースにアクセスするマクロ\n",
    "- `file!`\n",
    "    - 呼び出し元ファイル名を取得するマクロ\n",
    "- `line!`\n",
    "    - 呼び出し元ソースコードの行数を取得するマクロ\n",
    "- `cfg!`\n",
    "    - コンパイラから該当フラグが渡されていれば `true`, 渡されていなければ `false` を返すマクロ\n",
    "- `env!`\n",
    "    - コンパイル時の環境変数を取得するマクロ"
   ]
  },
  {
   "cell_type": "code",
   "execution_count": 7,
   "id": "ac0d6a9a-3064-49b0-95c7-b0bceb35aada",
   "metadata": {},
   "outputs": [
    {
     "name": "stdout",
     "output_type": "stream",
     "text": [
      "defined in file: src/lib.rs\n",
      "defined on line: 58\n",
      "compiler defined unix flag: false\n",
      "CARGO_HOME: C:\\Users\\user\\.cargo\n"
     ]
    }
   ],
   "source": [
    "println!(\"defined in file: {}\", file!());\n",
    "println!(\"defined on line: {}\", line!());\n",
    "println!(\"compiler defined unix flag: {}\", cfg!(unix));\n",
    "println!(\"CARGO_HOME: {}\", env!(\"CARGO_HOME\"));"
   ]
  },
  {
   "cell_type": "markdown",
   "id": "ed41f62f-928f-4904-92b3-dc0768b31cbd",
   "metadata": {},
   "source": [
    "#### アサーション用のマクロ\n",
    "- `assert!`, `debug_assert!`\n",
    "    - 引数が `true` であることを表明するマクロ\n",
    "- `assert_eq!`, `debug_assert_eq!`\n",
    "    - 2つの引数が等しいことを表明するマクロ\n",
    "- `assert_ne!`, `debug_assert_ne!`\n",
    "    - 2つの引数が等しくないことを表明するマクロ\n",
    "\n",
    "`debug_***` のマクロは、デバッグビルドの場合のみ実行され、リリースビルドの場合は無視されてコンパイルが成功する"
   ]
  },
  {
   "cell_type": "code",
   "execution_count": 8,
   "id": "cece003e-9b92-4810-b0e2-bc86b1a9e4bc",
   "metadata": {},
   "outputs": [
    {
     "name": "stderr",
     "output_type": "stream",
     "text": [
      "thread '<unnamed>' panicked at 'assertion failed: `(left != right)`\n",
      "  left: `1`,\n",
      " right: `1`', src/lib.rs:39:5\n",
      "stack backtrace:\n",
      "note: Some details are omitted, run with `RUST_BACKTRACE=full` for a verbose backtrace.\n"
     ]
    },
    {
     "ename": "Error",
     "evalue": "Child process terminated with status: exit code: 0xc0000005",
     "output_type": "error",
     "traceback": [
      "Child process terminated with status: exit code: 0xc0000005"
     ]
    }
   ],
   "source": [
    "fn main() {\n",
    "    assert!(true);\n",
    "    assert_eq!(1, 1);\n",
    "    assert_ne!(1, 1);\n",
    "    \n",
    "    debug_assert!(false);\n",
    "    debug_assert_eq!(1, 1);\n",
    "    debug_assert_ne!(1, 1);\n",
    "}\n",
    "main();"
   ]
  },
  {
   "cell_type": "markdown",
   "id": "ca66f475-cefd-49e0-ac67-e1c6bcc9f886",
   "metadata": {},
   "source": [
    "### トレイトの導出\n",
    "標準ライブラリのいくつかのトレイトは、自作の型に対する標準的な実装を自動的に導出 (**derive**) することができる\n",
    "\n",
    "導出には `#[derive]` attribute マクロを用いる"
   ]
  },
  {
   "cell_type": "code",
   "execution_count": 9,
   "id": "34e60eb4-7401-4f8e-bf5b-cccf0e86d1e4",
   "metadata": {},
   "outputs": [
    {
     "name": "stdout",
     "output_type": "stream",
     "text": [
      "false\n",
      "true\n",
      "C\n"
     ]
    }
   ],
   "source": [
    "// 一致比較可能な構造体 A を定義\n",
    "// => Eq, PartialEq を derive する\n",
    "#[derive(Eq, PartialEq)]\n",
    "struct A(i32);\n",
    "\n",
    "println!(\"{:?}\", A(0) == A(1));\n",
    "\n",
    "\n",
    "// 大小比較可能な構造体 B を定義\n",
    "// => PartialEq, PartialOrd を derive する\n",
    "#[derive(PartialEq, PartialOrd)]\n",
    "struct B(f32);\n",
    "\n",
    "println!(\"{:?}\", B(1.0) > B(0.5));\n",
    "\n",
    "\n",
    "// デバッグプリント {:?} が可能な構造体 C を定義\n",
    "// => Debug を derive する\n",
    "#[derive(Debug)]\n",
    "struct C;\n",
    "\n",
    "println!(\"{:?}\", C);"
   ]
  },
  {
   "cell_type": "code",
   "execution_count": null,
   "id": "bb116188-185c-4d54-8ee5-eae007a8d363",
   "metadata": {},
   "outputs": [],
   "source": []
  }
 ],
 "metadata": {
  "kernelspec": {
   "display_name": "Rust",
   "language": "rust",
   "name": "rust"
  },
  "language_info": {
   "codemirror_mode": "rust",
   "file_extension": ".rs",
   "mimetype": "text/rust",
   "name": "Rust",
   "pygment_lexer": "rust",
   "version": ""
  }
 },
 "nbformat": 4,
 "nbformat_minor": 5
}
