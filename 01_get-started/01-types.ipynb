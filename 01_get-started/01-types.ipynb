{
 "cells": [
  {
   "cell_type": "markdown",
   "id": "215af39c-205e-457d-a076-132a72973321",
   "metadata": {},
   "source": [
    "# Rust 入門\n",
    "\n",
    "## 基本的な型\n",
    "\n",
    "### 数値型\n",
    "- 数値型はアルファベット一文字とビットサイズから成る\n",
    "    - アルファベット部:\n",
    "        - `i`: 符号あり数値型\n",
    "        - `u`: 符号なし数値型\n",
    "        - `f`: 浮動小数点型\n",
    "    - ビットサイズ部:\n",
    "        - `8`: 8bit\n",
    "        - `16`: 16bit\n",
    "        - `32`: 32bit\n",
    "        - `64`: 64bit\n",
    "        - `128`: 128bit"
   ]
  },
  {
   "cell_type": "code",
   "execution_count": 2,
   "id": "d862246a-f32b-407e-b9d5-85f239dff9c7",
   "metadata": {},
   "outputs": [
    {
     "name": "stdout",
     "output_type": "stream",
     "text": [
      "i8 value: -128\n",
      "u8 value: 255\n",
      "f32 value: 3.141592\n"
     ]
    }
   ],
   "source": [
    "fn main() {\n",
    "    // 8bit 符号あり整数\n",
    "    let int8bit: i8 = -128; // -128 ~ 127\n",
    "\n",
    "    // 8bit 符号なし整数\n",
    "    let uint8bit: u8 = 255; // 0 ~ 255\n",
    "\n",
    "    // 32bit 浮動小数点\n",
    "    let float32bit: f32 = 3.141592;\n",
    "\n",
    "    println!(\"i8 value: {}\\nu8 value: {}\\nf32 value: {}\", int8bit, uint8bit, float32bit);\n",
    "}\n",
    "main();"
   ]
  },
  {
   "cell_type": "markdown",
   "id": "bad69783-8896-4bdf-99cb-702a702aa238",
   "metadata": {},
   "source": [
    "### 文字列型\n",
    "文字列型は基本的に `str` 型のみだが、実用上 `String` 型という型も使われる\n",
    "\n",
    "- `str`:\n",
    "    - 組み込みの文字列型で、文字列スライスを表す\n",
    "        - スライス:\n",
    "            - メモリ上に存在する文字列データのポインタ位置と長さを示すもの\n",
    "    - 扱える文字列データは固定サイズ\n",
    "    - 文字列そのものの変更は不可\n",
    "    - C++で言うところの `const char *` に等しい\n",
    "- `String`:\n",
    "    - 標準ライブラリで定義されている文字列型\n",
    "    - 文字列データや長さの変更が可能\n",
    "    - C++で言うところの `std::string` に等しい\n",
    "\n",
    "`str` と `String` はいずれも UTF-8 エンコーディングされた文字列データを格納している\n",
    "\n",
    "`String` を `&str` (文字列型の参照 = 文字列データが格納されているメモリ上のポインタ位置) に変換するときは、ポインタと文字列長のコピーのみが発生し、文字列データそのもののコピーは発生しないため、メモリを圧迫することはない\n",
    "\n",
    "一方 `&str` を `String` に変換する場合は、メモリを新規に確保して文字列データそのものをコピーするため、長い文字列の変換を行う場合のオーバーヘッドが生じる"
   ]
  },
  {
   "cell_type": "code",
   "execution_count": 13,
   "id": "a6b9a923-a823-45bf-a502-b1d318d24948",
   "metadata": {},
   "outputs": [
    {
     "name": "stdout",
     "output_type": "stream",
     "text": [
      "str1:\n",
      "\tstring: Hello, World!\n",
      "\tpointer: 0xe951aff360\n",
      "str2:\n",
      "\tstring: Hello, World!\n",
      "\tpointer: 0xe951aff338\n",
      "str3:\n",
      "\tstring: Hello, World!\n",
      "\tpointer: 0xe951aff348\n"
     ]
    }
   ],
   "source": [
    "fn main() {\n",
    "    // 新規にメモリを確保して \"Hello, World!\" という文字列を格納\n",
    "    let str1: String = String::from(\"Hello, World!\");\n",
    "    \n",
    "    // String型 を &str型 に変換\n",
    "    // => str2 (文字列の参照: メモリ上のポインタ位置) は str1 の参照に等しい\n",
    "    // ※ ただし Rust のポインタはファットポインタであり、ポインタ位置以外の情報（&str の場合は文字列の長さ情報）も保持する\n",
    "    //    => 実際のポインタ位置はずれる\n",
    "    let str2: &str = &str1;\n",
    "\n",
    "    // &str型 を String型 に変換\n",
    "    // => 新規にメモリを確保して str2 のポインタ位置に格納されている文字列データをコピーする\n",
    "    // => str3 の参照と str2 は別のポインタ位置を指す\n",
    "    let str3: String = str2.to_string();\n",
    "    \n",
    "    // {:p}: ポインタ位置をフォーマット\n",
    "    println!(\"str1:\\n\\tstring: {}\\n\\tpointer: {:p}\", str1, &str1);\n",
    "    println!(\"str2:\\n\\tstring: {}\\n\\tpointer: {:p}\", str2, &str2);\n",
    "    println!(\"str3:\\n\\tstring: {}\\n\\tpointer: {:p}\", str3, &str3);\n",
    "}\n",
    "main();"
   ]
  },
  {
   "cell_type": "markdown",
   "id": "936458c7-83fd-4247-bf1f-7f46544555b2",
   "metadata": {},
   "source": [
    "### タプル型\n",
    "タプルは複数の異なる型を収めることができる集合\n",
    "\n",
    "関数から複数の値を返すときにタプルでまとめて返すことがある\n",
    "\n",
    "タプルは内部に格納された型の全てをまとめて1つの型を構成するため、タプル内の一部の型を後から変更することは出来ない\n",
    "\n",
    "内部の値にアクセスするときは `.0` や `.1` のように記述する"
   ]
  },
  {
   "cell_type": "code",
   "execution_count": 16,
   "id": "77478293-c23d-429c-8c33-9287a9fc83f6",
   "metadata": {},
   "outputs": [
    {
     "name": "stdout",
     "output_type": "stream",
     "text": [
      "tuple: 1, 2\n"
     ]
    }
   ],
   "source": [
    "fn main() {\n",
    "    // タプル型は (型0, 型1, ...) で宣言する\n",
    "    let tuple: (i32, &str) = (1, \"2\");\n",
    "    println!(\"tuple: {}, {}\", tuple.0, tuple.1);\n",
    "}\n",
    "main();"
   ]
  },
  {
   "cell_type": "markdown",
   "id": "49d205b6-933f-48cc-bd27-2f183e297b47",
   "metadata": {},
   "source": [
    "### 配列型\n",
    "配列は特定の型の値を連続に収めた集合\n",
    "\n",
    "配列のサイズは固定で、コンパイル時に定まっている必要がある\n",
    "\n",
    "内部の値にアクセスするときは `[index]` を使って指定する\n",
    "\n",
    "配列の参照は自動的にスライスとして扱われ、`[start..end]` のような範囲指定が可能 (このとき返る値に `end` 添字の値は含まれない)"
   ]
  },
  {
   "cell_type": "code",
   "execution_count": 17,
   "id": "6e954b5e-4589-4482-a071-10e64d0a1aac",
   "metadata": {},
   "outputs": [
    {
     "name": "stdout",
     "output_type": "stream",
     "text": [
      "[0, 0]\n"
     ]
    }
   ],
   "source": [
    "fn main() {\n",
    "    // 配列型は [型; サイズ] で宣言する\n",
    "    // * 変数の値を後から変更したい場合は mut (mutable) を宣言する \n",
    "    let mut a: [i32; 3] = [0, 1, 2]; // 3つの i32型 で構成される配列\n",
    "    let b: [i32; 3] = [0; 3]; // [0, 0, 0]\n",
    "    \n",
    "    a[1] = b[1]; // => a: [0, 0, 2]\n",
    "    a[2] = b[2]; // => a: [0, 0, 0]\n",
    "    \n",
    "    // {:?}: スライスをフォーマット\n",
    "    println!(\"{:?}\", &a[0..3]); // &array[0..3] => array[0], array[1], array[2]\n",
    "}\n",
    "main();"
   ]
  },
  {
   "cell_type": "markdown",
   "id": "3635bbba-5a58-4a54-8a73-a9b6a2c9a339",
   "metadata": {},
   "source": [
    "### ユーザ定義型\n",
    "Rust では、ユーザが定義可能な型は以下の2つのみ\n",
    "\n",
    "- 構造体:\n",
    "    - `struct` で宣言する\n",
    "    - 複数の異なる型の値をまとめた集合型で、各データに変数名を定義することが可能\n",
    "- 列挙体:\n",
    "    - `enum` で宣言する\n",
    "    - ユーザが定義した各識別子（列挙子）をそのまま有限集合として持つ抽象データ型\n",
    "    - Rust の列挙体は、各識別子にさらにデータを付与することができる"
   ]
  },
  {
   "cell_type": "code",
   "execution_count": 24,
   "id": "337b538f-d718-4f9c-9998-0eba4a657612",
   "metadata": {},
   "outputs": [
    {
     "name": "stdout",
     "output_type": "stream",
     "text": [
      "person:\n",
      "\tname: John\n",
      "\tage: 16\n",
      "Quit...\n",
      "KeyDown: code=0\n",
      "MouseDown: x=10, y=20\n"
     ]
    }
   ],
   "source": [
    "fn main() {\n",
    "    // Person 構造体の定義\n",
    "    struct Person {\n",
    "        name: String, // 文字列型変数 name\n",
    "        age: u32, // unsigned 32bit integer型変数 age\n",
    "    }\n",
    "    \n",
    "    // 構造体の値を宣言するときは `ユーザ定義型名{変数: 値, ...}` と記述する\n",
    "    let person: Person = Person{\n",
    "        name: String::from(\"John\"),\n",
    "        age: 16\n",
    "    };\n",
    "    \n",
    "    // 構造体の各データへのアクセスは `.変数名` で行う\n",
    "    println!(\"person:\\n\\tname: {}\\n\\tage: {}\", person.name, person.age);\n",
    "    \n",
    "    \n",
    "    // Event 列挙体の定義\n",
    "    enum Event {\n",
    "        Quit,\n",
    "        KeyDown(u8),\n",
    "        MouseDown {x: i32, y: i32}\n",
    "    }\n",
    "    \n",
    "    // 列挙体は基本的に渡された識別子によって挙動を制御したい場合に使う\n",
    "    fn processEvent(event: Event) {\n",
    "        // match式: パターンマッチング\n",
    "        // 列挙体の識別子へのアクセスは `ユーザ定義型名::識別子` で行う\n",
    "        match event {\n",
    "            Event::Quit => println!(\"Quit...\"),\n",
    "            Event::KeyDown(keycode) => println!(\"KeyDown: code={}\", keycode),\n",
    "            Event::MouseDown{x, y} => println!(\"MouseDown: x={}, y={}\", x, y),\n",
    "        }\n",
    "    }\n",
    "    \n",
    "    let event1 = Event::Quit;\n",
    "    let event2 = Event::KeyDown(0);\n",
    "    let event3 = Event::MouseDown {x: 10, y: 20};\n",
    "    \n",
    "    processEvent(event1); // => Quit...\n",
    "    processEvent(event2); // => KeyDown: code=0\n",
    "    processEvent(event3); // => MouseDown: x=10, y=20\n",
    "}\n",
    "main();"
   ]
  },
  {
   "cell_type": "markdown",
   "id": "ec87d09e-8f14-463a-9bcc-dfb4ccf1d3c2",
   "metadata": {},
   "source": [
    "## よく使う標準ライブラリ型\n",
    "\n",
    "組み込み型は、数値型、文字列型、タプル型、配列型の4つのみである\n",
    "\n",
    "それ以外は構造体か列挙体のユーザ定義型となっている\n",
    "\n",
    "ここでは、標準ライブラリで定義されているユーザ定義型の内、よく使う以下の型について解説する\n",
    "\n",
    "- `Option` 列挙体\n",
    "- `Result` 列挙体\n",
    "- `Vec` 構造体\n",
    "- `Box` 構造体\n",
    "\n",
    "### Option型\n",
    "Option型は、データが存在する場合と存在しない場合を表現する\n",
    "\n",
    "標準ライブラリ上では以下のように定義されている (なお `pub` キーワードは外部公開することを意味する)\n",
    "\n",
    "```rust\n",
    "pub enum Option<T> {\n",
    "    None,\n",
    "    Some(T),\n",
    "}\n",
    "```\n",
    "\n",
    "ここで `<T>` はジェネリックな型パラメータ `T` を指定可能ということを表現する\n",
    "\n",
    "すなわち Option型 は、任意の型を内包した抽象列挙体であり、型パラメータを指定する必要があるということである"
   ]
  },
  {
   "cell_type": "code",
   "execution_count": 29,
   "id": "8297f040-f4c1-4ece-b944-3cf80d5836f7",
   "metadata": {},
   "outputs": [
    {
     "name": "stdout",
     "output_type": "stream",
     "text": [
      "the value is none\n",
      "the value is 10\n"
     ]
    }
   ],
   "source": [
    "fn main() {\n",
    "    // Option<i32>: i32型 で具象化された Option型\n",
    "    // Option<i32>型 の識別子により挙動制御\n",
    "    fn processI32Option(val: Option<i32>) {\n",
    "        match val {\n",
    "            Option::None => println!(\"the value is none\"),\n",
    "            Option::Some(v) => println!(\"the value is {}\", v),\n",
    "        }\n",
    "    }\n",
    "    \n",
    "    let val1: Option<i32> = Option::None;\n",
    "    let val2: Option<i32> = Option::Some(10);\n",
    "    \n",
    "    processI32Option(val1); // => the value is none\n",
    "    processI32Option(val2); // => the value is 10\n",
    "}\n",
    "main();"
   ]
  },
  {
   "cell_type": "markdown",
   "id": "92aeb6ac-b633-4b0e-8d5b-0b4e276b30a5",
   "metadata": {},
   "source": [
    "### Result型\n",
    "Result型は、処理の結果が成功か失敗かを表現する\n",
    "\n",
    "```rust\n",
    "pub enum Result<T, E> {\n",
    "    Ok(T),\n",
    "    Err(E),\n",
    "}\n",
    "```\n",
    "\n",
    "処理の結果が成功の場合は、任意の型 `T` のデータを持つ `Ok(T)` 識別子を使う\n",
    "\n",
    "逆にエラーの場合は、任意の型 `E` のデータを持つ `Err(E)` 識別子を使う\n",
    "\n",
    "例えば `Result<i32, String>` のような 具象Result型 を宣言した場合、成功したとき数値データを取得でき、失敗したとき文字列データを取得できるようになる\n",
    "\n",
    "一般的には、処理の結果を任意の Result型 で受け取り、match式 や if let式 でパターンマッチング（処理の分岐）を行うことになる"
   ]
  },
  {
   "cell_type": "code",
   "execution_count": 33,
   "id": "15af56ad-31b6-413f-ad17-5ab22e81faec",
   "metadata": {},
   "outputs": [
    {
     "name": "stdout",
     "output_type": "stream",
     "text": [
      "code: 200\n",
      "result is OK: 201\n",
      "OK code: 201\n",
      "Error code: -1\n"
     ]
    }
   ],
   "source": [
    "fn main() {\n",
    "    let result: Result<i32, String> = Ok(200);\n",
    "    \n",
    "    // match による分岐\n",
    "    match result {\n",
    "        Ok(code) => println!(\"code: {}\", code),\n",
    "        Err(err) => println!(\"error: {}\", err),\n",
    "    }\n",
    "    \n",
    "    // Rust は変数を再定義可能: 上書き宣言\n",
    "    let result: Result<i32, String> = Ok(201);\n",
    "    \n",
    "    // if let による分岐\n",
    "    if let Ok(code) = result {\n",
    "        println!(\"result is OK: {}\", code);\n",
    "    }\n",
    "    \n",
    "    /* match, if let による分岐は冗長であるため、\n",
    "     * Result型 には .unwrap_or メソッドが用意されている\n",
    "     */\n",
    "    \n",
    "    // unwrap_or(v): Ok(T) だった場合にはそのまま T を返す\n",
    "    println!(\"OK code: {}\", result.unwrap_or(-1)); // Ok(200).unwrap_or(-1) => 200\n",
    "    \n",
    "    let result: Result<i32, String> = Err(String::from(\"error\"));\n",
    "    \n",
    "    // unwrap_or(v): Err(E) だった場合には v を返す\n",
    "    println!(\"Error code: {}\", result.unwrap_or(-1)); // Err(\"error\").unwrap_or(-1) => -1\n",
    "}\n",
    "main();"
   ]
  },
  {
   "cell_type": "code",
   "execution_count": null,
   "id": "407ee227-2fa3-48e5-a009-8d824b6aced9",
   "metadata": {},
   "outputs": [],
   "source": []
  }
 ],
 "metadata": {
  "kernelspec": {
   "display_name": "Rust",
   "language": "rust",
   "name": "rust"
  },
  "language_info": {
   "codemirror_mode": "rust",
   "file_extension": ".rs",
   "mimetype": "text/rust",
   "name": "Rust",
   "pygment_lexer": "rust",
   "version": ""
  }
 },
 "nbformat": 4,
 "nbformat_minor": 5
}
