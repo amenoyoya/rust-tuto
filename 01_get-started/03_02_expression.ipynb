{
 "cells": [
  {
   "cell_type": "markdown",
   "id": "dad1e635-30c3-461e-8a39-538450305a45",
   "metadata": {},
   "source": [
    "# Rust 基本文法\n",
    "\n",
    "## 変数宣言\n",
    "\n",
    "### let, mut\n",
    "値を変数に束縛するときは `let` 宣言を用いる\n",
    "\n",
    "Rustでは、変数はデフォルトで変更不可であるため、変数を変更可能にしたい場合は `mut` を付けて変数宣言する必要がある"
   ]
  },
  {
   "cell_type": "code",
   "execution_count": 2,
   "id": "ffabac69-a44a-4a9c-abad-35b54db59bf9",
   "metadata": {},
   "outputs": [],
   "source": [
    "// 変数を束縛する際、多くの場合は型を明示しなくてもコンパイラが自動的に型を推論してくれる\n",
    "let immutable_value = 10; // i32型 に自動推論される\n",
    "\n",
    "// 変更可能な変数を宣言\n",
    "let mut mutable_value = 20;\n",
    "\n",
    "// 変更可能な変数には、同じ型の別値を再代入可能\n",
    "mutable_value += immutable_value; // mutable_value = mutable_value(=20) + immutable_value(=10) => 30\n",
    "\n",
    "// 型を明示する場合\n",
    "let u32val: u32 = mutable_value; // u64型 の変数に束縛\n",
    "\n",
    "// 数値限定で、値の後ろに直接型名を付けて指定することもできる\n",
    "let u64val = 1234u64; // u64型 の 1234"
   ]
  },
  {
   "cell_type": "markdown",
   "id": "9cddd409-9c55-43ad-b73f-b3e700341369",
   "metadata": {},
   "source": [
    "### const, static\n",
    "`const` と `static` はいずれも定数を宣言するためのキーワード\n",
    "\n",
    "これらは、グローバルスコープでも特定のブロック内スコープでも、任意の場所で利用することができる\n",
    "\n",
    "`const` は常に変更不可であるため、別の値を紐付けたり変更したりすることはできない\n",
    "\n",
    "一方 `static` は変更可能であるため、グローバルスコープで定義した static の値は、どこからでも変更可能な危険な変数になってしまう\n",
    "\n",
    "そのため、グローバル static 値は `unsafe` ブロックに入れない限り操作することはできなくなっている"
   ]
  },
  {
   "cell_type": "code",
   "execution_count": 3,
   "id": "20eef5d6-d0ba-4256-87c5-37f0634dfbe2",
   "metadata": {},
   "outputs": [],
   "source": [
    "// PI定数の定義\n",
    "// => コンパイル時に PI は 3.14 という実際の値に置き換えられる\n",
    "const PI: f32 = 3.14; // PI を別の値に変更することは出来ない\n",
    "\n",
    "// 'static ライフタイムを持つ定数を作成\n",
    "// => バイナリの特定のセクションに配置され、プログラム中最長のライフタイムを持つ\n",
    "static NUMBER: i32 = 18;"
   ]
  },
  {
   "cell_type": "markdown",
   "id": "fb5e38b0-ad6d-48f4-b544-decf2ac4decc",
   "metadata": {},
   "source": [
    "## 制御構文\n",
    "\n",
    "### if式\n",
    "条件分岐を行う際は `if` キーワードに条件を渡してプログラムを分岐する\n",
    "\n",
    "Rustにおける if は式であるため、評価した値を変数に束縛したり、関数の引数にすることもできる\n",
    "\n",
    "ただし、if式が返す値の型は全て揃っている必要がある"
   ]
  },
  {
   "cell_type": "code",
   "execution_count": 4,
   "id": "bd6a7b1b-5629-42c9-b09d-f544f73e0625",
   "metadata": {},
   "outputs": [
    {
     "name": "stdout",
     "output_type": "stream",
     "text": [
      "正の値です\n"
     ]
    }
   ],
   "source": [
    "fn main() {\n",
    "    let number: i32 = 1;\n",
    "    let answer: &str = if number < 0 {\n",
    "        \"負の値です\" // if式 で値を返す際は ; をつけてはならない（; をつけると文になってしまう）\n",
    "    } else if number == 0 {\n",
    "        \"ゼロです\"\n",
    "    } else {\n",
    "        \"正の値です\"\n",
    "    };\n",
    "    \n",
    "    println!(\"{}\", answer);\n",
    "}\n",
    "main();"
   ]
  },
  {
   "cell_type": "markdown",
   "id": "84639839-3ea7-4543-917a-fda08d2211a5",
   "metadata": {},
   "source": [
    "### loop, while, for\n",
    "Rustにはループ処理を行うための制御構文として `loop`, `while`, `for` の3つが存在する\n",
    "\n",
    "この内 `loop` は式であり `break` キーワードに戻り値を付与して値を返すことができる\n",
    "\n",
    "式と文という違いはあるが、基本的な挙動は `loop` と `while true` で同じであり、どちらも無限ループとなる（ただし `while` は式ではないため値を返すことはない）"
   ]
  },
  {
   "cell_type": "code",
   "execution_count": 5,
   "id": "b00bd168-de50-4316-a5fa-86d7c7590582",
   "metadata": {},
   "outputs": [
    {
     "name": "stdout",
     "output_type": "stream",
     "text": [
      "10\n"
     ]
    }
   ],
   "source": [
    "fn main() {\n",
    "    let mut count = 0;\n",
    "    let result = loop {\n",
    "        count += 1; // Rust にはインクリメント構文 (++) はない\n",
    "        if count == 10 { // count が 10 になったタイミングで抜ける\n",
    "            break count; // count 値を戻り値として返す\n",
    "        }\n",
    "    };\n",
    "    \n",
    "    println!(\"{}\", result); // => 10\n",
    "}\n",
    "main();"
   ]
  },
  {
   "cell_type": "code",
   "execution_count": 6,
   "id": "6c0dff83-7417-4f0b-9896-ea020cb119b1",
   "metadata": {},
   "outputs": [
    {
     "name": "stdout",
     "output_type": "stream",
     "text": [
      "10\n"
     ]
    }
   ],
   "source": [
    "fn main() {\n",
    "    let mut count = 0;\n",
    "    \n",
    "    // count が 10 未満である限りループする\n",
    "    while count < 10 {\n",
    "        count += 1;\n",
    "    }\n",
    "    \n",
    "    println!(\"{}\", count);\n",
    "}\n",
    "main();"
   ]
  },
  {
   "cell_type": "code",
   "execution_count": 7,
   "id": "7ed64f64-4616-4909-b6fd-0fd5fef6d92f",
   "metadata": {},
   "outputs": [
    {
     "name": "stdout",
     "output_type": "stream",
     "text": [
      "count: 0\n",
      "count: 1\n",
      "count: 2\n",
      "count: 3\n",
      "count: 4\n",
      "count: 5\n",
      "count: 6\n",
      "count: 7\n"
     ]
    }
   ],
   "source": [
    "fn main() {\n",
    "    // 0..10 の範囲で繰り返す (ただし 10 は含まれない)\n",
    "    // Range型: (start)..(end + 1)\n",
    "    for count in 0..10 {\n",
    "        println!(\"count: {}\", count);\n",
    "    }\n",
    "    \n",
    "    // 配列を反復子（イテレータ）として繰り返し処理\n",
    "    let fruits = [\"apple\", \"banana\", \"orange\"];\n",
    "    for fruit in &fruits {\n",
    "        println!(\"fruit: {}\", fruit);\n",
    "    }\n",
    "}\n",
    "main();"
   ]
  },
  {
   "cell_type": "code",
   "execution_count": 8,
   "id": "0c39b79b-f1db-4dcd-aa99-664c76d759ba",
   "metadata": {},
   "outputs": [
    {
     "name": "stdout",
     "output_type": "stream",
     "text": [
      "count: 8\n",
      "count: 9\n",
      "fruit: apple\n",
      "fruit: banana\n",
      "fruit: orange\n",
      "main loop start: 0\n",
      "sub loop start\n"
     ]
    },
    {
     "data": {
      "text/plain": [
       "()"
      ]
     },
     "execution_count": 8,
     "metadata": {},
     "output_type": "execute_result"
    }
   ],
   "source": [
    "// loop, while, for にはラベルを付けることができ、break 時にそのラベルを指定して繰り返しを抜けることができる\n",
    "// ラベル名はその先頭に ' を付ける必要がある\n",
    "\n",
    "// mainラベル: 0 ~ 9 for-loop\n",
    "'main: for i in 0..10 {\n",
    "    println!(\"main loop start: {}\", i);\n",
    "    \n",
    "    // subラベル: loop\n",
    "    'sub: loop {\n",
    "        println!(\"sub loop start\");\n",
    "        \n",
    "        // mainラベルのループを抜ける\n",
    "        break 'main;\n",
    "        \n",
    "        println!(\"sub loop end\"); // => 表示されない\n",
    "    }\n",
    "    println!(\"main loop end\"); // => 表示されない\n",
    "}"
   ]
  },
  {
   "cell_type": "markdown",
   "id": "29542b6f-9a2f-4a6c-b276-b9d9f9798cc5",
   "metadata": {},
   "source": [
    "#### Range\n",
    "forループで特定の範囲の数値を指定するときは Range型 を使う\n",
    "\n",
    "Range型の数値範囲指定は以下のようになっている\n",
    "\n",
    "- `S..E`: 数値S以上、数値E未満の範囲\n",
    "- `S..=E`: 数値S以上、数値E以下の範囲"
   ]
  },
  {
   "cell_type": "code",
   "execution_count": 9,
   "id": "e6d4ecc4-6e3f-47a6-b7dd-2e3c8daf11f1",
   "metadata": {},
   "outputs": [
    {
     "name": "stdout",
     "output_type": "stream",
     "text": [
      "loop1: 1\n",
      "loop1: 2\n",
      "loop2: 1\n",
      "loop2: 2\n",
      "loop2: 3\n"
     ]
    },
    {
     "data": {
      "text/plain": [
       "()"
      ]
     },
     "execution_count": 9,
     "metadata": {},
     "output_type": "execute_result"
    }
   ],
   "source": [
    "// 1 ~ 2 loop\n",
    "for i in 1..3 {\n",
    "    println!(\"loop1: {}\", i);\n",
    "}\n",
    "\n",
    "// 1 ~ 3 loop\n",
    "for i in 1..=3 {\n",
    "    println!(\"loop2: {}\", i);\n",
    "}"
   ]
  },
  {
   "cell_type": "markdown",
   "id": "ca212f71-c577-4070-b25f-c68ba80d3466",
   "metadata": {},
   "source": [
    "#### Iterator\n",
    "forループでは、データの集合から1つずつ要素を取り出して順番に繰り返し処理ができる\n",
    "\n",
    "これは、データの集合に Iteratorトレイト が実装されているためである\n",
    "\n",
    "ユーザ定義型にも Iteratorトレイト を適用でき、それによりforループで繰り返しすることができるようになる\n",
    "\n",
    "※ トレイトについては後述\n",
    "\n",
    "Iteratorトレイトを適用するには以下の2つの操作を行う必要がある\n",
    "\n",
    "- Iteratorが出力する型を決定し type Item に紐付ける\n",
    "- Iteratorの次の要素を返すための next() メソッドを実装する"
   ]
  },
  {
   "cell_type": "code",
   "execution_count": 10,
   "id": "3c026482-7d12-495e-9fd9-314824cca1b2",
   "metadata": {},
   "outputs": [
    {
     "name": "stdout",
     "output_type": "stream",
     "text": [
      "0\n",
      "1\n",
      "2\n",
      "3\n",
      "4\n",
      "5\n"
     ]
    }
   ],
   "source": [
    "// 自作型: MyIter構造体\n",
    "struct MyIter {\n",
    "    current: usize,\n",
    "    max: usize,\n",
    "}\n",
    "\n",
    "// MyIter構造体に Iteratorトレイト 適用\n",
    "impl Iterator for MyIter {\n",
    "    type Item = usize; // Iteratorが出力する型を usize に決定\n",
    "    \n",
    "    // next() メソッドの定義\n",
    "    fn next(&mut self) -> Option<usize> {\n",
    "        let next_value = \n",
    "            // 現在位置が max 以下なら現在位置を返す\n",
    "            if self.current <= self.max {\n",
    "                Some(self.current)\n",
    "            } else {\n",
    "                None\n",
    "            };\n",
    "        self.current += 1; // インクリメント\n",
    "        return next_value;\n",
    "    }\n",
    "}\n",
    "\n",
    "fn main() {\n",
    "    let it = MyIter {\n",
    "        current: 0,\n",
    "        max: 10,\n",
    "    };\n",
    "    // println: 0 ~ 10\n",
    "    for num in it {\n",
    "        println!(\"{}\", num);\n",
    "    }\n",
    "}\n",
    "main();"
   ]
  },
  {
   "cell_type": "markdown",
   "id": "17a9cda0-50d5-4982-9a18-1061d8f7c9da",
   "metadata": {},
   "source": [
    "### match\n",
    "C言語などのプログラミング言語には、変数の値によって処理を分岐させる `switch` 構文がある\n",
    "\n",
    "Rustにも同じように分岐を行うことができる `match` 式が存在し、これはC言語の `switch` 構文よりも強力なパターンマッチングを行うことができる\n",
    "\n",
    "ここで、Rustにおける「パターン」とは、型の構造に一致しているか確認するための記法を指す\n",
    "\n",
    "パターンは、数値や文字列のような単純な値だけでなく、列挙型やタプル、構造体などの比較を行ったり、値の範囲比較やワイルドカードによるマッチングも行うことができる"
   ]
  },
  {
   "cell_type": "code",
   "execution_count": 11,
   "id": "53fbf5fa-782b-4f79-ad64-5d78715f1368",
   "metadata": {},
   "outputs": [
    {
     "name": "stdout",
     "output_type": "stream",
     "text": [
      "6\n",
      "7\n",
      "8\n",
      "9\n",
      "10\n",
      "One\n"
     ]
    }
   ],
   "source": [
    "fn main() {\n",
    "    // 単純な数値マッチング\n",
    "    let i: i32 = 1;\n",
    "    match i {\n",
    "        1 => println!(\"One\"),\n",
    "        2 => println!(\"Two\"),\n",
    "        3 => println!(\"Three\"),\n",
    "        _ => println!(\"Misc\"), // アンダースコアはあらゆる値にマッチするワイルドカード\n",
    "    } // => One\n",
    "}\n",
    "main();"
   ]
  },
  {
   "cell_type": "code",
   "execution_count": 12,
   "id": "93426274-6b1a-4eff-8587-7ba69aafae15",
   "metadata": {},
   "outputs": [
    {
     "ename": "Error",
     "evalue": "non-exhaustive patterns: `Green` not covered",
     "output_type": "error",
     "traceback": [
      "    match c {",
      "\u001b[91m          ^\u001b[0m \u001b[94mpattern `Green` not covered\u001b[0m",
      "    enum Color {",
      "        Red,",
      "        Blue,",
      "        Green,",
      "    }",
      "\u001b[91m    ^\u001b[0m \u001b[94m`Color` defined here\u001b[0m",
      "        Green,",
      "\u001b[91m        ^^^^^\u001b[0m \u001b[94mnot covered\u001b[0m",
      "non-exhaustive patterns: `Green` not covered",
      "\u001b[1mhelp\u001b[0m: ensure that all possible cases are being handled, possibly by adding wildcards or more match arms"
     ]
    }
   ],
   "source": [
    "fn main() {\n",
    "    // 列挙型のマッチング\n",
    "    enum Color {\n",
    "        Red,\n",
    "        Blue,\n",
    "        Green,\n",
    "    }\n",
    "    \n",
    "    let c = Color::Red;\n",
    "    \n",
    "    // 列挙型を match で分岐する際は、網羅性の確認をし、全ての列挙子に対する処理が存在するかチェックする\n",
    "    // => 足りない列挙子があった場合はコンパイルエラーとなる\n",
    "    match c {\n",
    "        Color::Red => println!(\"Red\"),\n",
    "        Color::Blue => println!(\"Blue\"),\n",
    "        // Color::Green に対する処理が抜けている => コンパイルエラー\n",
    "    }\n",
    "}\n",
    "main();"
   ]
  },
  {
   "cell_type": "code",
   "execution_count": 13,
   "id": "4f24d281-5406-454a-a026-f6a228788221",
   "metadata": {},
   "outputs": [
    {
     "name": "stdout",
     "output_type": "stream",
     "text": [
      "Error: I'm error result\n",
      "Result: -1\n"
     ]
    }
   ],
   "source": [
    "fn main() {\n",
    "    let result: Result<i32, String> = Err(\"I'm error result\".to_string());\n",
    "    \n",
    "    // match は式であるため、分岐処理の結果を変数に束縛することができる\n",
    "    let code: i32 = match result {\n",
    "        Ok(number) => number,\n",
    "        Err(message) => { // match 分岐処理を複数記述したい場合は {} で囲む\n",
    "            println!(\"Error: {}\", message);\n",
    "            -1 // Rust は最後に評価した式は自動的に return される\n",
    "        },\n",
    "    };\n",
    "    \n",
    "    println!(\"Result: {}\", code);\n",
    "}\n",
    "main();"
   ]
  },
  {
   "cell_type": "code",
   "execution_count": null,
   "id": "bf71daf6-5eae-4b1d-9e2d-28b0f00838c5",
   "metadata": {},
   "outputs": [],
   "source": []
  }
 ],
 "metadata": {
  "kernelspec": {
   "display_name": "Rust",
   "language": "rust",
   "name": "rust"
  },
  "language_info": {
   "codemirror_mode": "rust",
   "file_extension": ".rs",
   "mimetype": "text/rust",
   "name": "Rust",
   "pygment_lexer": "rust",
   "version": ""
  }
 },
 "nbformat": 4,
 "nbformat_minor": 5
}
