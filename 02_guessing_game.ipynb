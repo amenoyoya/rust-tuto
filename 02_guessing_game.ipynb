{
 "cells": [
  {
   "cell_type": "markdown",
   "id": "702fc5f7-deeb-42e0-8aa2-ec817af99294",
   "metadata": {},
   "source": [
    "# 数当てゲームの実装\n",
    "\n",
    "実物のプロジェクトに取り組むことで一般的な Rust の概念に触れる（`let`、`match`、メソッド、関連関数、外部クレートの使用などについて基礎的な部分を学ぶ）\n",
    "\n",
    "ここでは、古典的な初心者向けのプログラミング問題である「数当てゲーム」を実装する\n",
    "\n",
    "これは以下のように動作する\n",
    "\n",
    "- プログラムは1から100までの乱数整数を生成する\n",
    "- プレーヤーに予想を入力するよう促す\n",
    "- 予想が入力されると、プログラムはその予想が小さすぎたか大きすぎたかを出力する\n",
    "    - 予想が当たっていれば、祝福メッセージを表示して終了する\n",
    "\n",
    "## 予想を処理する\n",
    "\n",
    "数当てプログラムの最初の部分は、ユーザに入力を求め、その入力を処理し、予期した形式になっていることを確認する\n",
    "\n",
    "まずは、プレーヤーが予想を入力できるようにする"
   ]
  },
  {
   "cell_type": "code",
   "execution_count": 2,
   "id": "971d15d0-ab50-4513-8337-e3b562d2605c",
   "metadata": {},
   "outputs": [],
   "source": [
    ":dep evcxr_input\n",
    "\n",
    "// => :dep マジックコマンドで evcxr_input 外部クレートをロード\n",
    "//    evcxr_input: EvCxR Jupyter Kernel 上で標準入力を使えるようにするクレート"
   ]
  },
  {
   "cell_type": "code",
   "execution_count": 3,
   "id": "e71c7c02-4e92-4a42-be2e-a929a4ccc08a",
   "metadata": {},
   "outputs": [
    {
     "name": "stdout",
     "output_type": "stream",
     "text": [
      "数当てゲームを始めます！\n"
     ]
    },
    {
     "name": "stdin",
     "output_type": "stream",
     "text": [
      "数を予想して入力してください： 50\n"
     ]
    },
    {
     "name": "stdout",
     "output_type": "stream",
     "text": [
      "次のように予想しました：50\n"
     ]
    }
   ],
   "source": [
    "// std::io クレートを使う\n",
    "use std::io;\n",
    "\n",
    "// 入力を促すメッセージ\n",
    "println!(\"数当てゲームを始めます！\");\n",
    "// println!(\"数を予想して入力してください：\");\n",
    "\n",
    "// guess 可変変数を宣言\n",
    "let mut guess = String::new();\n",
    "\n",
    "// 標準入力から guess 変数に入力値を格納（※ EvCxR Jupyter 上では使えない）\n",
    "// io::stdin().read_line(&mut guess).expect(\"行の読み込みに失敗しました\");\n",
    "\n",
    "// EvCxR Jupyter 上で標準入力から guess 変数に入力値を格納する場合は以下のようにする\n",
    "guess = evcxr_input::get_string(\"数を予想して入力してください：\");\n",
    "\n",
    "// 入力値の内容を表示\n",
    "println!(\"次のように予想しました：{}\", guess);"
   ]
  },
  {
   "cell_type": "markdown",
   "id": "afca77d8-717e-4a9c-a921-1727c85ca4fa",
   "metadata": {},
   "source": [
    "ユーザ入力を受け付け、結果を出力するためには、`io`（入出力）ライブラリをスコープに導入する必要がある\n",
    "\n",
    "`io` ライブラリは標準ライブラリ（`std`）に存在するため、`use std::io;` という宣言を行うことで使えるようになる\n",
    "\n",
    "デフォルトでは（`use` 文を使わない状態では）、`std::prelude` に存在するいくつかの型のみが使える\n",
    "\n",
    "そのため、使用したい型が `prelude` にない場合は、`use` 文で明示的にその型をスコープに導入する必要がある\n",
    "\n",
    "`std::io` ライブラリを使用することで、ユーザ入力を受け付ける能力などの実用的な機能の多くを使用することができるようになる\n",
    "\n",
    "ただし、Jupyter 上では `std::io::stdin()` 関数による標準入力は動かないため、ここでは `evcxr_input` 外部クレートの `get_string()` 関数を利用している\n",
    "\n",
    "したがって上記コードでは、`use std::io;` 文の意味はなくなっている\n",
    "\n",
    "この場合 `use evcxr_input::get_string;` で evcxr_input クレート内の `get_string` 関数をスコープに導入し、`evcxr_input::get_string` の代わりに `get_string` を使う方が良いかもしれない"
   ]
  },
  {
   "cell_type": "code",
   "execution_count": 4,
   "id": "d7728013-0feb-4328-b286-b6ef54bcc372",
   "metadata": {},
   "outputs": [
    {
     "name": "stdin",
     "output_type": "stream",
     "text": [
      "数を予想して入力してください： 50\n"
     ]
    },
    {
     "name": "stdout",
     "output_type": "stream",
     "text": [
      "次のように予想しました：50\n"
     ]
    }
   ],
   "source": [
    "// evcxr_input::get_string をスコープに導入\n",
    "use evcxr_input::get_string;\n",
    "\n",
    "// EvCxR Input から guess 可変変数に入力値を格納\n",
    "// use evcxr_input::get_string; により evcxr_input::get_string を get_string だけで呼び出せるようになっている\n",
    "let mut guess = get_string(\"数を予想して入力してください：\");\n",
    "\n",
    "println!(\"次のように予想しました：{}\", guess);"
   ]
  },
  {
   "cell_type": "markdown",
   "id": "f2362826-e21d-41b1-aae9-8d9051e956e7",
   "metadata": {},
   "source": [
    "### println! マクロのプレースホルダーで値を出力する\n",
    "`println!(\"次のように予想しました：{}\", guess);` の行は、ユーザ入力を保存した文字列の中身を出力している\n",
    "\n",
    "1組の波括弧（`{}`）は、プレースホルダーの役目を果たす（値を所定の場所に保持する小さなカニのはさみと考える）\n",
    "\n",
    "最初の波括弧の組は、フォーマット文字列の後に列挙された最初の値に対応し、2組目は2つ目の値...と続いていく\n",
    "\n",
    "そのため、1回の `println!` の呼び出しで複数の値を出力するコードは、 以下のような形になる"
   ]
  },
  {
   "cell_type": "code",
   "execution_count": 5,
   "id": "a32df547-a7f3-4bcc-ad7d-c6d9557152e2",
   "metadata": {},
   "outputs": [
    {
     "name": "stdout",
     "output_type": "stream",
     "text": [
      "x = 5, y = 10\n"
     ]
    }
   ],
   "source": [
    "let x = 5;  // 変数 x に 5 を束縛（immutable）\n",
    "let y = 10; // 変数 y に 10 を束縛（immutable）\n",
    "\n",
    "println!(\"x = {}, y = {}\", x, y);"
   ]
  },
  {
   "cell_type": "markdown",
   "id": "5355d870-f012-4366-a9e5-14022e656286",
   "metadata": {},
   "source": [
    "## 秘密の数字を生成する\n",
    "\n",
    "次に、ユーザが数当てに挑戦する秘密の数字を生成する必要がある\n",
    "\n",
    "ゲームが何度も楽しめるように、毎回この秘密の数字は変わるべきである\n",
    "\n",
    "そのため、ゲームが難しくなりすぎないように、1から100までの乱数を使用することにする\n",
    "\n",
    "Rust の標準ライブラリには乱数機能はまだ含まれていないため、`rand` 外部クレートをインストールして使う"
   ]
  },
  {
   "cell_type": "code",
   "execution_count": 6,
   "id": "70ba034e-a95a-4e4d-a243-96080a482469",
   "metadata": {},
   "outputs": [],
   "source": [
    ":dep rand = \"0.3.14\""
   ]
  },
  {
   "cell_type": "markdown",
   "id": "98fa07e5-8cc2-4923-98e8-ea4464aa8029",
   "metadata": {},
   "source": [
    "### 乱数を生成する\n",
    "`rand` クレートにある `thread_rng().gen_range(<最小値>, <最大値+1>)` 関数を使うと、指定された `最小値`～`最大値` 内の整数をランダムに生成することが出来る\n",
    "\n",
    "ここで注意すべきは `gen_range()` 関数の第2引数が `最大値+1` だという点である\n",
    "\n",
    "そのため、1～100の乱数を取得したい場合は `gen_range(1, 101)` という形で呼び出す必要がある"
   ]
  },
  {
   "cell_type": "code",
   "execution_count": 7,
   "id": "521df4ee-fb37-4a56-92e7-b4081f7b54c3",
   "metadata": {},
   "outputs": [
    {
     "name": "stdout",
     "output_type": "stream",
     "text": [
      "秘密の数字：71\n"
     ]
    }
   ],
   "source": [
    "use rand::Rng;\n",
    "\n",
    "// secret_number 変数に 1～100 の乱数を束縛\n",
    "let secret_number = rand::thread_rng().gen_range(1, 101);\n",
    "\n",
    "println!(\"秘密の数字：{}\", secret_number);"
   ]
  },
  {
   "cell_type": "markdown",
   "id": "7e34f239-e4d6-47b5-8976-b71dc6b2713e",
   "metadata": {},
   "source": [
    "## 予想と秘密の数字を比較する\n",
    "\n",
    "ユーザ入力と乱数生成ができるようになったため、これらを比較する処理を実装する\n",
    "\n",
    "ただし、ここで注意しなければならないことは、Rust には **強い静的型システム** があるということである\n",
    "\n",
    "すなわち、現状ユーザ入力が格納されている `guess` 変数は文字列型（`String`）であるのに対し、秘密の数字が格納されている `secret_number` 変数は（明示されていないが）32ビット整数型（`i32`）であるため、**型の不一致**が発生する\n",
    "\n",
    "そのため、まずは `guess` 変数を文字列型から整数型に変換する必要がある"
   ]
  },
  {
   "cell_type": "code",
   "execution_count": 8,
   "id": "303f35fa-1429-4a32-ad14-f0fe90d0a19a",
   "metadata": {},
   "outputs": [
    {
     "data": {
      "text/plain": [
       "50"
      ]
     },
     "execution_count": 8,
     "metadata": {},
     "output_type": "execute_result"
    }
   ],
   "source": [
    "// guess 変数を整数型で生成\n",
    "let guess: i32 = guess.trim().parse()\n",
    "    .expect(\"数字を入力してください！\"); // 数値型に変換出来なかった場合の例外処理\n",
    "\n",
    "guess"
   ]
  },
  {
   "cell_type": "markdown",
   "id": "e414116c-5e3f-41c8-8561-a00fd1ac1531",
   "metadata": {},
   "source": [
    "ここで `guess` という名前の変数はすでに文字列型で定義されているにも関わらず、整数型で再度定義し直していることに注目する\n",
    "\n",
    "Rust では、同一名の変数を新しい値で覆い隠す（shadow）ことが許されている\n",
    "\n",
    "この機能は **shadowing** と呼ばれ、値を別の型に変換したいシチュエーションでよく使われる\n",
    "\n",
    "shadowing のおかげで別々の変数を2つ作らされることなく、`guess` という変数名を再利用することができるのである\n",
    "\n",
    "続いて `guess.trim().parse()` という式を見てみる\n",
    "\n",
    "この部分における `guess` 変数はまだ文字列型の `guess` 変数である\n",
    "\n",
    "`String` オブジェクトの `trim` メソッドは、両端の空白をすべて除去する\n",
    "\n",
    "これはユーザ入力時に、エンターキーによる改行文字が文字列の終端に入ってしまうため、それを除去するために行っている\n",
    "\n",
    "### Result型で失敗の可能性を扱う\n",
    "`String` オブジェクトの `parse` メソッドは文字列を数値型に変換するものだが、エラーが発生しやすい\n",
    "\n",
    "例えば、文字列に数字以外の文字が入っていれば数値に変換できるわけがない\n",
    "\n",
    "そのため `parse` メソッドは `Result` 型の値を返す\n",
    "\n",
    "この `Result` 型は、**列挙型**（通常 `enum` 型と呼ばれる）であり、固定された種類の値を持つ\n",
    "\n",
    "列挙型の持つ固定値は、**列挙子(variant)** と呼ばれる\n",
    "\n",
    "`Result` 型に関しては、列挙子は `Ok` か `Err` の2つである\n",
    "\n",
    "`Ok` 列挙子は処理が成功したことを表し、生成された値を中に保持する\n",
    "\n",
    "`Err` 列挙子は処理が失敗したことを意味し、処理が失敗した過程や失敗理由などの情報を中に保有する\n",
    "\n",
    "これら `Result` 型の目的は、エラー処理の情報をコード化することである\n",
    "\n",
    "`Result` 型にも、他の型同様メソッドが定義されている\n",
    "\n",
    "おそらく最もよく使うメソッドは `expect` メソッドであり、このメソッドは以下のような条件分岐を行う\n",
    "\n",
    "- `Result` オブジェクトが `Ok` 値の場合は、`Ok` 列挙子が保持する返り値をそのまま返す\n",
    "    - 今回の場合は文字列を数値型に変換した結果の数値が返る\n",
    "- `Result` オブジェクトが `Err` 値の場合は、プログラムをクラッシュさせ、 引数として渡された文字列を表示する\n",
    "    - 今回の場合は「数字を入力してください！」というメッセージを表示して終了する"
   ]
  },
  {
   "cell_type": "code",
   "execution_count": 9,
   "id": "6bc96a46-9056-4830-8702-0a5ecdd1bd78",
   "metadata": {},
   "outputs": [
    {
     "name": "stdout",
     "output_type": "stream",
     "text": [
      "秘密の数字（71）よりも小さい\n"
     ]
    }
   ],
   "source": [
    "// std::cmp::Ordering 型をスコープに導入\n",
    "use std::cmp::Ordering;\n",
    "\n",
    "// guess 変数と secret_number 変数の値を比較する\n",
    "match guess.cmp(&secret_number) {\n",
    "    Ordering::Less => println!(\"秘密の数字（{}）よりも小さい\", secret_number),\n",
    "    Ordering::Greater => println!(\"秘密の数字（{}）よりも大きい\", secret_number),\n",
    "    Ordering::Equal => println!(\"当たり！\"),\n",
    "};"
   ]
  },
  {
   "cell_type": "markdown",
   "id": "3bdea81f-39ec-4472-b5ce-3b9c17e81382",
   "metadata": {},
   "source": [
    "`cmp` メソッドは2値を比較するメソッドだが、比較できるものに対してなら何に対しても呼び出すことができる\n",
    "\n",
    "このメソッドは、比較したいものへの参照を取る（**参照**: 値が格納されているメモリ空間のこと; 基本的には変数名の頭に `&` 演算子をつけることで参照をとることができる）\n",
    "\n",
    "上記では、`guess` 変数と `secret_number` 変数を比較している\n",
    "\n",
    "その後、`cmp` メソッドは `std::cmp::Ordering` 列挙型の値を返すため、`match` 式を使用して次の動作を決定する\n",
    "\n",
    "`match` 式は、複数のアームからできているが、一つのアームは以下の要素から構成されている\n",
    "\n",
    "- パターン\n",
    "- `match` 式の冒頭で与えた値がパターンにマッチした時に走るコード\n",
    "\n",
    "Rust は、`match` に与えられた値を取り、各アームのパターンを順番に照合していく\n",
    "\n",
    "`match` 式とパターンは、コードを書く際に出くわす様々なシチュエーションを表現可能であり、すべてのシチュエーションに対処していることを保証するのを手助けしてくれる\n",
    "\n",
    "上記で使われている `match` 式で行われている処理の詳細を確認してみる\n",
    "\n",
    "例えば、 ユーザは `50` と予想し、ランダム生成された秘密の数字が `38` だったとする\n",
    "\n",
    "コードが 50 と 38 を比較すると、`cmp` メソッドは `Ordering::Greater` 列挙子を返す（50 は 38よりも大きい）\n",
    "\n",
    "`match` 式に `Ordering::Greater` が与えられ、各アームのパターンを吟味し始める\n",
    "\n",
    "まず、最初のアームのパターン（`Ordering::Less`）と照合すると、`Ordering::Greater` と `Ordering::Less` はマッチしないため、このアームのコードは無視される\n",
    "\n",
    "次のアームのパターン（`Ordering::Greater`）は `Ordering::Greater` とマッチするため、このアームに紐づけられたコードが実行され、画面に「秘密の数字（38）よりも大きい」と表示される\n",
    "\n",
    "この場合、最後のアームと照合する必要はもうないため、これで `match` 式の実行は終わりになる\n",
    "\n",
    "## ループで複数回の予想を可能にする\n",
    "\n",
    "ここまでで大方ゲームはうまく動くようになったが、まだユーザは一度しか予想できない\n",
    "\n",
    "そのため `loop` 式で無限ループを追加し、ユーザが何度も予想できるようにする"
   ]
  },
  {
   "cell_type": "code",
   "execution_count": 10,
   "id": "ad9e1544-2733-4292-90ee-6a2c0e055ff6",
   "metadata": {},
   "outputs": [
    {
     "name": "stdin",
     "output_type": "stream",
     "text": [
      "数を予想して入力してください： 50\n"
     ]
    },
    {
     "name": "stdout",
     "output_type": "stream",
     "text": [
      "秘密の数字より小さいです\n"
     ]
    },
    {
     "name": "stdin",
     "output_type": "stream",
     "text": [
      "数を予想して入力してください： 75\n"
     ]
    },
    {
     "name": "stdout",
     "output_type": "stream",
     "text": [
      "秘密の数字より大きいです\n"
     ]
    },
    {
     "name": "stdin",
     "output_type": "stream",
     "text": [
      "数を予想して入力してください： 60\n"
     ]
    },
    {
     "name": "stdout",
     "output_type": "stream",
     "text": [
      "秘密の数字より小さいです\n"
     ]
    },
    {
     "name": "stdin",
     "output_type": "stream",
     "text": [
      "数を予想して入力してください： 65\n"
     ]
    },
    {
     "name": "stdout",
     "output_type": "stream",
     "text": [
      "秘密の数字より小さいです\n"
     ]
    },
    {
     "name": "stdin",
     "output_type": "stream",
     "text": [
      "数を予想して入力してください： 70\n"
     ]
    },
    {
     "name": "stdout",
     "output_type": "stream",
     "text": [
      "秘密の数字より小さいです\n"
     ]
    },
    {
     "name": "stdin",
     "output_type": "stream",
     "text": [
      "数を予想して入力してください： 72\n"
     ]
    },
    {
     "name": "stdout",
     "output_type": "stream",
     "text": [
      "秘密の数字より大きいです\n"
     ]
    },
    {
     "name": "stdin",
     "output_type": "stream",
     "text": [
      "数を予想して入力してください： 71\n"
     ]
    },
    {
     "name": "stdout",
     "output_type": "stream",
     "text": [
      "当たりです！\n"
     ]
    },
    {
     "name": "stdin",
     "output_type": "stream",
     "text": [
      "数を予想して入力してください： quit\n"
     ]
    },
    {
     "name": "stderr",
     "output_type": "stream",
     "text": [
      "thread '<unnamed>' panicked at '数字を入力してください！: ParseIntError { kind: InvalidDigit }', src/lib.rs:124:43\n",
      "stack backtrace:\n",
      "   0: rust_begin_unwind\n",
      "             at /rustc/9bc8c42bb2f19e745a63f3445f1ac248fb015e53/library/std/src/panicking.rs:493:5\n",
      "   1: core::panicking::panic_fmt\n",
      "             at /rustc/9bc8c42bb2f19e745a63f3445f1ac248fb015e53/library/core/src/panicking.rs:92:14\n",
      "   2: core::option::expect_none_failed\n",
      "             at /rustc/9bc8c42bb2f19e745a63f3445f1ac248fb015e53/library/core/src/option.rs:1329:5\n",
      "   3: run_user_code_9\n",
      "   4: evcxr::runtime::Runtime::run_loop\n",
      "   5: evcxr::runtime::runtime_hook\n",
      "   6: evcxr_jupyter::main\n",
      "note: Some details are omitted, run with `RUST_BACKTRACE=full` for a verbose backtrace.\n",
      "Segmentation fault.\n",
      "   0: evcxr::runtime::Runtime::install_crash_handlers::segfault_handler\n",
      "   1: <unknown>\n",
      "   2: mi_free\n",
      "   3: alloc::alloc::dealloc\n",
      "             at /rustc/9bc8c42bb2f19e745a63f3445f1ac248fb015e53/library/alloc/src/alloc.rs:104:14\n",
      "      <alloc::alloc::Global as core::alloc::Allocator>::deallocate\n",
      "             at /rustc/9bc8c42bb2f19e745a63f3445f1ac248fb015e53/library/alloc/src/alloc.rs:239:22\n",
      "      alloc::alloc::box_free\n",
      "             at /rustc/9bc8c42bb2f19e745a63f3445f1ac248fb015e53/library/alloc/src/alloc.rs:334:9\n",
      "      core::ptr::drop_in_place<alloc::boxed::Box<dyn core::any::Any+core::marker::Send>>\n",
      "             at /rustc/9bc8c42bb2f19e745a63f3445f1ac248fb015e53/library/core/src/ptr/mod.rs:187:1\n",
      "      core::ptr::drop_in_place<core::result::Result<i32,alloc::boxed::Box<dyn core::any::Any+core::marker::Send>>>\n",
      "             at /rustc/9bc8c42bb2f19e745a63f3445f1ac248fb015e53/library/core/src/ptr/mod.rs:187:1\n",
      "      core::result::Result<T,E>::unwrap_or\n",
      "             at /rustc/9bc8c42bb2f19e745a63f3445f1ac248fb015e53/library/core/src/result.rs:801:5\n",
      "      std::rt::lang_start_internal\n",
      "             at /rustc/9bc8c42bb2f19e745a63f3445f1ac248fb015e53/library/std/src/rt.rs:54:9\n",
      "   4: main\n",
      "   5: __libc_start_main\n",
      "   6: _start\n",
      "\n"
     ]
    },
    {
     "ename": "Error",
     "evalue": "Child process terminated with status: signal: 6",
     "output_type": "error",
     "traceback": [
      "Child process terminated with status: signal: 6"
     ]
    }
   ],
   "source": [
    "// loop {...} で囲まれた処理は何度も実行される\n",
    "loop {\n",
    "    // ユーザからの入力を受け付け、文字列型変数 guess に束縛\n",
    "    let guess: String = evcxr_input::get_string(\"数を予想して入力してください：\");\n",
    "    \n",
    "    // guess 変数を文字列型 => 整数型に変換\n",
    "    // * 数字以外が入力された場合は「数字を入力してください！」と表示してプログラム終了\n",
    "    let guess: i32 = guess.trim().parse().expect(\"数字を入力してください！\");\n",
    "    \n",
    "    // guess 変数と secret_number 変数を比較\n",
    "    match guess.cmp(&secret_number) {\n",
    "        Ordering::Less => println!(\"秘密の数字より小さいです\"),\n",
    "        Ordering::Greater => println!(\"秘密の数字より大きいです\"),\n",
    "        Ordering::Equal => println!(\"当たりです！\"),\n",
    "    };\n",
    "};"
   ]
  },
  {
   "cell_type": "markdown",
   "id": "f7b963f7-9af0-4eef-b76b-0ba1fcfcc54b",
   "metadata": {},
   "source": [
    "### 正しい予想をした後にゲームを終了する\n",
    "上記プログラムは、`String::parse` メソッドの習性を利用して、数字以外の文字列を入力すればエラーで終了させることができる\n",
    "\n",
    "しかし、これはあまりきれいな終了方法とは言えない\n",
    "\n",
    "本来は、正しい数字が予想された時点でゲームを終了したい\n",
    "\n",
    "ここで `break` 文を利用すると、ループを正しく抜けることができる"
   ]
  },
  {
   "cell_type": "code",
   "execution_count": 11,
   "id": "6ac198c8-e6a6-4c78-a85e-e0128148576c",
   "metadata": {},
   "outputs": [
    {
     "name": "stdout",
     "output_type": "stream",
     "text": [
      "数当てゲームを始めます！\n"
     ]
    },
    {
     "name": "stdin",
     "output_type": "stream",
     "text": [
      "数を予想して入力してください： 50\n"
     ]
    },
    {
     "name": "stdout",
     "output_type": "stream",
     "text": [
      "秘密の数字より小さいです\n"
     ]
    },
    {
     "name": "stdin",
     "output_type": "stream",
     "text": [
      "数を予想して入力してください： 75\n"
     ]
    },
    {
     "name": "stdout",
     "output_type": "stream",
     "text": [
      "秘密の数字より小さいです\n"
     ]
    },
    {
     "name": "stdin",
     "output_type": "stream",
     "text": [
      "数を予想して入力してください： 90\n"
     ]
    },
    {
     "name": "stdout",
     "output_type": "stream",
     "text": [
      "秘密の数字より大きいです\n"
     ]
    },
    {
     "name": "stdin",
     "output_type": "stream",
     "text": [
      "数を予想して入力してください： 80\n"
     ]
    },
    {
     "name": "stdout",
     "output_type": "stream",
     "text": [
      "秘密の数字より小さいです\n"
     ]
    },
    {
     "name": "stdin",
     "output_type": "stream",
     "text": [
      "数を予想して入力してください： 85\n"
     ]
    },
    {
     "name": "stdout",
     "output_type": "stream",
     "text": [
      "秘密の数字より大きいです\n"
     ]
    },
    {
     "name": "stdin",
     "output_type": "stream",
     "text": [
      "数を予想して入力してください： 82\n"
     ]
    },
    {
     "name": "stdout",
     "output_type": "stream",
     "text": [
      "秘密の数字より大きいです\n"
     ]
    },
    {
     "name": "stdin",
     "output_type": "stream",
     "text": [
      "数を予想して入力してください： 81\n"
     ]
    },
    {
     "name": "stdout",
     "output_type": "stream",
     "text": [
      "当たりです！\n"
     ]
    }
   ],
   "source": [
    "// 全体コードを再掲\n",
    "\n",
    "use rand::Rng; // rand::thread_rng().gen_range() 関数を使えるようにする\n",
    "use std::cmp::Ordering; // std::cmp::Ordering 型をスコープに導入\n",
    "\n",
    "println!(\"数当てゲームを始めます！\");\n",
    "\n",
    "// 秘密の数字: secret_number 変数に 1～100 の乱数を束縛\n",
    "let secret_number = rand::thread_rng().gen_range(1, 101);\n",
    "\n",
    "// 無限ループ処理\n",
    "loop {\n",
    "    // ユーザ入力を guess 変数に束縛（文字列型 => 整数型に変換）\n",
    "    let guess: String = evcxr_input::get_string(\"数を予想して入力してください：\");\n",
    "    let guess: i32 = guess.trim().parse().expect(\"数字を入力してください！\");\n",
    "    \n",
    "    // ユーザ入力値と秘密の数字を比較\n",
    "    match guess.cmp(&secret_number) {\n",
    "        Ordering::Less => println!(\"秘密の数字より小さいです\"),\n",
    "        Ordering::Greater => println!(\"秘密の数字より大きいです\"),\n",
    "        Ordering::Equal => { // 式は {} で囲むことで複数処理を記述することができる\n",
    "            println!(\"当たりです！\");\n",
    "            break; // ループを抜ける\n",
    "        },\n",
    "    };\n",
    "};"
   ]
  },
  {
   "cell_type": "markdown",
   "id": "04b99f16-38f4-4079-95a1-925cdffc65f0",
   "metadata": {},
   "source": [
    "## 不正な入力を処理する\n",
    "\n",
    "さらにゲームの振る舞いを改善するために、ユーザが数値以外を入力した時にプログラムをクラッシュさせるのではなく、非数値を無視してユーザが数当てを続けられるようにする\n",
    "\n",
    "これは、`guess` 変数が `String` 型から `i32` 型に変換される行を以下のように修正することで達成できる\n",
    "\n",
    "```rust\n",
    "// String::parse() メソッドが Result 列挙型を返すことを利用して、列挙子のパターンマッチングを行う\n",
    "let guess: u32 = match guess.trim().parse() {\n",
    "    Ok(num) => num, // Ok 列挙子に格納されている値（数値）をそのまま返す\n",
    "    Err(_) => continue, // 以降の処理をすべてスキップし、ループの最初に戻る\n",
    "};\n",
    "```\n",
    "\n",
    "`expect` メソッドの呼び出しから `match` 式に切り替えることは、エラーでクラッシュする動作からエラー処理を行う処理に変更する一般的な手段になる\n",
    "\n",
    "`parse` メソッドが、`Ok` か `Err` の列挙子を取りうる `Result` 列挙型を返すことを思い出すと、`match` 式でパターンマッチングできることが分かる\n",
    "\n",
    "`parse` メソッドは、文字列から数値への変換に成功したら、結果の数値を保持する `Ok` 列挙子を返す\n",
    "\n",
    "この `Ok` 列挙子は、最初のアームのパターンにマッチし、この `match` 式は `parse` メソッドが生成し `Ok` 値に格納した `num`（変数名は任意）の値を返すだけである\n",
    "\n",
    "その数値が最終的に、生成している新しい `guess` 変数として束縛されることになる\n",
    "\n",
    "`parse` メソッドは、文字列から数値への変換に失敗したら、エラーに関する情報を多く含む `Err` 列挙子を返す\n",
    "\n",
    "この `Err` 列挙子は、最初の `match` アームの `Ok(num)` というパターンにはマッチしないものの、 2番目のアームの `Err(_)` というパターンにはマッチする\n",
    "\n",
    "ここで `_` は、包括値と呼ばれ、ここでは「保持している情報がどんなものでもいいから全ての `Err` 列挙子にマッチさせたい」と宣言している\n",
    "\n",
    "従って、プログラムは2番目のアームのコードを実行し（`continue` 文）、`loop` の次のステップに移ることになる\n",
    "\n",
    "## プログラムを完成させる\n",
    "\n",
    "上記の処理を追加し、さらに Rust のエントリーポイントとなる `main` 関数で囲み、最終的なプログラムを完成させる"
   ]
  },
  {
   "cell_type": "code",
   "execution_count": 12,
   "id": "a9126b47-f525-46b0-b966-56168c160221",
   "metadata": {},
   "outputs": [],
   "source": [
    "/// 数当てゲーム\n",
    "\n",
    "use rand::Rng; // rand::thread_rng().gen_range() 関数を使えるようにする\n",
    "use std::cmp::Ordering; // std::cmp::Ordering 型をスコープに導入\n",
    "\n",
    "// Rust プログラムエントリーポイント\n",
    "fn main() {\n",
    "    println!(\"数当てゲームを始めます！\");\n",
    "    \n",
    "    // 秘密の数字: secret_number 変数に 1～100 の乱数を束縛\n",
    "    let secret_number = rand::thread_rng().gen_range(1, 101);\n",
    "\n",
    "    // 無限ループ処理\n",
    "    loop {\n",
    "        // ユーザ入力を guess 変数に束縛（文字列型 => 整数型に変換）\n",
    "        let guess: String = evcxr_input::get_string(\"数を予想して入力してください：\");\n",
    "        let guess: u32 = match guess.trim().parse() {\n",
    "            Ok(num) => num, // Ok 列挙子に格納されている値（数値）をそのまま返す\n",
    "            Err(_) => continue, // 以降の処理をすべてスキップし、ループの最初に戻る\n",
    "        };\n",
    "\n",
    "        // ユーザ入力値と秘密の数字を比較\n",
    "        match guess.cmp(&secret_number) {\n",
    "            Ordering::Less => println!(\"秘密の数字より小さいです\"),\n",
    "            Ordering::Greater => println!(\"秘密の数字より大きいです\"),\n",
    "            Ordering::Equal => { // 式は {} で囲むことで複数処理を記述することができる\n",
    "                println!(\"当たりです！\");\n",
    "                break; // ループを抜ける\n",
    "            },\n",
    "        };\n",
    "    };\n",
    "}"
   ]
  },
  {
   "cell_type": "code",
   "execution_count": 13,
   "id": "f8a7777d-1d58-479b-b69b-ebbe28433940",
   "metadata": {},
   "outputs": [
    {
     "name": "stdout",
     "output_type": "stream",
     "text": [
      "数当てゲームを始めます！\n"
     ]
    },
    {
     "name": "stdin",
     "output_type": "stream",
     "text": [
      "数を予想して入力してください： quit\n",
      "数を予想して入力してください： 50\n"
     ]
    },
    {
     "name": "stdout",
     "output_type": "stream",
     "text": [
      "秘密の数字より大きいです\n"
     ]
    },
    {
     "name": "stdin",
     "output_type": "stream",
     "text": [
      "数を予想して入力してください： 25\n"
     ]
    },
    {
     "name": "stdout",
     "output_type": "stream",
     "text": [
      "秘密の数字より大きいです\n"
     ]
    },
    {
     "name": "stdin",
     "output_type": "stream",
     "text": [
      "数を予想して入力してください： 10\n"
     ]
    },
    {
     "name": "stdout",
     "output_type": "stream",
     "text": [
      "秘密の数字より大きいです\n"
     ]
    },
    {
     "name": "stdin",
     "output_type": "stream",
     "text": [
      "数を予想して入力してください： もうやめたい・・・\n",
      "数を予想して入力してください： 5\n"
     ]
    },
    {
     "name": "stdout",
     "output_type": "stream",
     "text": [
      "秘密の数字より大きいです\n"
     ]
    },
    {
     "name": "stdin",
     "output_type": "stream",
     "text": [
      "数を予想して入力してください： 1\n"
     ]
    },
    {
     "name": "stdout",
     "output_type": "stream",
     "text": [
      "秘密の数字より小さいです\n"
     ]
    },
    {
     "name": "stdin",
     "output_type": "stream",
     "text": [
      "数を予想して入力してください： 3\n"
     ]
    },
    {
     "name": "stdout",
     "output_type": "stream",
     "text": [
      "秘密の数字より小さいです\n"
     ]
    },
    {
     "name": "stdin",
     "output_type": "stream",
     "text": [
      "数を予想して入力してください： 4\n"
     ]
    },
    {
     "name": "stdout",
     "output_type": "stream",
     "text": [
      "当たりです！\n"
     ]
    }
   ],
   "source": [
    "// REPL 環境では main 関数を明示的に呼び出す\n",
    "main();"
   ]
  },
  {
   "cell_type": "code",
   "execution_count": null,
   "id": "b93eacc7-1601-40f7-988f-0ccc70b78cf7",
   "metadata": {},
   "outputs": [],
   "source": []
  }
 ],
 "metadata": {
  "kernelspec": {
   "display_name": "Rust",
   "language": "rust",
   "name": "rust"
  },
  "language_info": {
   "codemirror_mode": "rust",
   "file_extension": ".rs",
   "mimetype": "text/rust",
   "name": "Rust",
   "pygment_lexer": "rust",
   "version": ""
  }
 },
 "nbformat": 4,
 "nbformat_minor": 5
}
